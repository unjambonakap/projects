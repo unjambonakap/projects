{
 "cells": [
  {
   "cell_type": "code",
   "execution_count": 1,
   "id": "cf570809",
   "metadata": {
    "ExecuteTime": {
     "end_time": "2022-09-26T22:32:12.059109Z",
     "start_time": "2022-09-26T22:32:12.054636Z"
    }
   },
   "outputs": [
    {
     "name": "stdout",
     "output_type": "stream",
     "text": [
      "123\n"
     ]
    }
   ],
   "source": [
    "print(123)"
   ]
  },
  {
   "cell_type": "code",
   "execution_count": 3,
   "id": "d8341aa0",
   "metadata": {
    "ExecuteTime": {
     "end_time": "2022-09-26T22:32:49.779780Z",
     "start_time": "2022-09-26T22:32:49.753287Z"
    }
   },
   "outputs": [
    {
     "data": {
      "text/html": [
       "<style>.container { width:90% !important; }</style>"
      ],
      "text/plain": [
       "<IPython.core.display.HTML object>"
      ]
     },
     "metadata": {},
     "output_type": "display_data"
    },
    {
     "name": "stdout",
     "output_type": "stream",
     "text": [
      "False\n",
      "CREATING AP\n",
      "CLOSING  <PyQt5.QtGui.QCloseEvent object at 0x7f8b0bb69900>\n"
     ]
    }
   ],
   "source": [
    "init_jupyter()\n",
    "res = oplt.plot([1,2,3,4], typ='graph', o=1)\n",
    "#res = oplt.plot(A(points=[[1,2], [2,3]]))"
   ]
  },
  {
   "cell_type": "code",
   "execution_count": 8,
   "id": "1018d172",
   "metadata": {
    "ExecuteTime": {
     "end_time": "2022-09-26T22:12:34.613293Z",
     "start_time": "2022-09-26T22:12:34.606909Z"
    }
   },
   "outputs": [
    {
     "data": {
      "text/plain": [
       "<chdrft.display.ui.OpaPlot at 0x7fa528444dc0>"
      ]
     },
     "execution_count": 8,
     "metadata": {},
     "output_type": "execute_result"
    }
   ],
   "source": [
    "res.w"
   ]
  },
  {
   "cell_type": "code",
   "execution_count": 3,
   "id": "ab6f3de9",
   "metadata": {
    "ExecuteTime": {
     "end_time": "2022-09-26T22:09:11.111835Z",
     "start_time": "2022-09-26T22:09:11.107166Z"
    }
   },
   "outputs": [
    {
     "name": "stdout",
     "output_type": "stream",
     "text": [
      "123\n"
     ]
    }
   ],
   "source": [
    "print(123)"
   ]
  }
 ],
 "metadata": {
  "kernelspec": {
   "display_name": "kernel_blender1",
   "name": "kernel_blender1"
  },
  "language_info": {
   "codemirror_mode": {
    "name": "ipython",
    "version": 3
   },
   "file_extension": ".py",
   "mimetype": "text/x-python",
   "name": "python",
   "nbconvert_exporter": "python",
   "pygments_lexer": "ipython3",
   "version": "3.10.5"
  }
 },
 "nbformat": 4,
 "nbformat_minor": 5
}
