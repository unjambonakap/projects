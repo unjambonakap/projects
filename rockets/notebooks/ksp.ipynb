{
 "cells": [
  {
   "cell_type": "code",
   "execution_count": 1,
   "id": "1f394db4",
   "metadata": {},
   "outputs": [
    {
     "data": {
      "text/html": [
       "<style>.container { width:90% !important; }</style>"
      ],
      "text/plain": [
       "<IPython.core.display.HTML object>"
      ]
     },
     "metadata": {},
     "output_type": "display_data"
    },
    {
     "name": "stdout",
     "output_type": "stream",
     "text": [
      "Got exception No module named 'unicorn'\n",
      "Runnign magic qt5\n",
      "done\n",
      "False\n"
     ]
    }
   ],
   "source": [
    "init_jupyter()\n",
    "import krpc"
   ]
  },
  {
   "cell_type": "code",
   "execution_count": 2,
   "id": "003cc918",
   "metadata": {},
   "outputs": [
    {
     "name": "stdout",
     "output_type": "stream",
     "text": [
      "0.4.9\n"
     ]
    }
   ],
   "source": [
    "conn = krpc.connect(\n",
    "    name='My Example Program',\n",
    "    address='localhost',\n",
    "    rpc_port=50000, stream_port=50001)\n",
    "print(conn.krpc.get_status().version)"
   ]
  },
  {
   "cell_type": "code",
   "execution_count": 5,
   "id": "b713a635",
   "metadata": {},
   "outputs": [],
   "source": [
    "conn.nop(req_phys_loop=True)"
   ]
  },
  {
   "cell_type": "code",
   "execution_count": 3,
   "id": "691afb7a",
   "metadata": {},
   "outputs": [],
   "source": [
    "\n",
    "conn.space_center.launch_vessel2('VAB', \"./Ships/VAB/SpaceX Falcon 9 Block 5.craft\", 'LaunchPad', True)"
   ]
  },
  {
   "cell_type": "code",
   "execution_count": 2,
   "id": "7ad3542b",
   "metadata": {},
   "outputs": [
    {
     "ename": "NameError",
     "evalue": "name 'conn' is not defined",
     "output_type": "error",
     "traceback": [
      "\u001b[0;31m---------------------------------------------------------------------------\u001b[0m",
      "\u001b[0;31mNameError\u001b[0m                                 Traceback (most recent call last)",
      "Input \u001b[0;32mIn [2]\u001b[0m, in \u001b[0;36m<module>\u001b[0;34m\u001b[0m\n\u001b[1;32m      2\u001b[0m x \u001b[38;5;241m=\u001b[39m KRPC\u001b[38;5;241m.\u001b[39mRequest()\n\u001b[1;32m      3\u001b[0m x\u001b[38;5;241m.\u001b[39mlock_update \u001b[38;5;241m=\u001b[39m \u001b[38;5;28;01mFalse\u001b[39;00m\n\u001b[0;32m----> 4\u001b[0m \u001b[43mconn\u001b[49m\u001b[38;5;241m.\u001b[39mnop()\n",
      "\u001b[0;31mNameError\u001b[0m: name 'conn' is not defined"
     ]
    }
   ],
   "source": [
    "import krpc.schema.KRPC_pb2 as KRPC\n",
    "x = KRPC.Request()\n",
    "x.lock_update = False\n",
    "conn.nop()\n"
   ]
  },
  {
   "cell_type": "code",
   "execution_count": 4,
   "id": "f8d92a57",
   "metadata": {},
   "outputs": [],
   "source": [
    "cam = conn.space_center.camera"
   ]
  },
  {
   "cell_type": "code",
   "execution_count": 9,
   "id": "b789ae4b",
   "metadata": {},
   "outputs": [],
   "source": [
    "import time\n",
    "time.sleep(1)\n",
    "cam.pitch = 30"
   ]
  },
  {
   "cell_type": "code",
   "execution_count": 23,
   "id": "6b54f20a",
   "metadata": {},
   "outputs": [],
   "source": [
    "import time\n",
    "for i in range(100):\n",
    "    conn.lock_update = False\n",
    "    conn.wait_req_id = i+1\n",
    "    conn.req_id = i\n",
    "    conn.nop()\n",
    "    time.sleep(0.5)\n",
    "    conn.wait_req_id = i+1\n",
    "    conn.req_id = i+1\n",
    "    conn.nop()\n",
    "    time.sleep(0.5)\n",
    "#vessel = conn.space_center.active_vessel\n",
    "#flight_info = vessel.flight()"
   ]
  },
  {
   "cell_type": "code",
   "execution_count": 39,
   "id": "00084c76",
   "metadata": {},
   "outputs": [],
   "source": [
    "conn.space_center.physics_warp_factor = 1\n",
    "conn.space_center.time_warp_helper.set_physical_warp_rate(0, 0.3)\n",
    "conn.space_center.time_warp_helper.set_warp_rate(0, 1)\n",
    "conn.space_center.physics_warp_factor = 0"
   ]
  },
  {
   "cell_type": "code",
   "execution_count": 3,
   "id": "a1078c3c",
   "metadata": {},
   "outputs": [],
   "source": []
  },
  {
   "cell_type": "code",
   "execution_count": 10,
   "id": "350f2c96",
   "metadata": {},
   "outputs": [],
   "source": [
    "vessel = conn.space_center.active_vessel\n",
    "flight_info = vessel.flight()\n",
    "earth = conn.space_center.bodies['Kerbin']\n",
    "flight = vessel.flight(earth.reference_frame)"
   ]
  },
  {
   "cell_type": "code",
   "execution_count": 4,
   "id": "544972c2",
   "metadata": {},
   "outputs": [],
   "source": [
    "a=  earth.reference_frame"
   ]
  },
  {
   "cell_type": "code",
   "execution_count": 5,
   "id": "fea4aeb8",
   "metadata": {},
   "outputs": [
    {
     "data": {
      "text/plain": [
       "(-0.766054489496099, 1.0, -0.6427756366904962)"
      ]
     },
     "execution_count": 5,
     "metadata": {},
     "output_type": "execute_result"
    }
   ],
   "source": [
    "a.direction_to_world_space([1,1,0])"
   ]
  },
  {
   "cell_type": "code",
   "execution_count": 69,
   "id": "e362c87c",
   "metadata": {},
   "outputs": [
    {
     "data": {
      "text/plain": [
       "(102.6105435580248, -0.09722078534075375, -74.55779311997983)"
      ]
     },
     "execution_count": 69,
     "metadata": {},
     "output_type": "execute_result"
    }
   ],
   "source": [
    "alt=earth.altitude_at_position(flight.center_of_mass, earth.reference_frame)\n",
    "lat=earth.latitude_at_position(flight.center_of_mass, earth.reference_frame)\n",
    "lon=earth.longitude_at_position(flight.center_of_mass, earth.reference_frame)\n",
    "alt,lat,lon"
   ]
  },
  {
   "cell_type": "code",
   "execution_count": null,
   "id": "f337079e",
   "metadata": {},
   "outputs": [],
   "source": [
    "flight.world_relative_velocity(earth, flight.center_of_mass, flight.velocity)"
   ]
  },
  {
   "cell_type": "code",
   "execution_count": 8,
   "id": "8c9ebe42",
   "metadata": {},
   "outputs": [
    {
     "data": {
      "text/plain": [
       "(-0.056606455597542724, 0.045636966824531555, -0.03355812907990103)"
      ]
     },
     "execution_count": 8,
     "metadata": {},
     "output_type": "execute_result"
    }
   ],
   "source": [
    "flight.simulate_aerodynamic_force_at(earth, flight.center_of_mass, flight.velocity)"
   ]
  },
  {
   "cell_type": "code",
   "execution_count": 19,
   "id": "56a7ef42",
   "metadata": {},
   "outputs": [
    {
     "data": {
      "text/plain": [
       "721422.8663024207"
      ]
     },
     "execution_count": 19,
     "metadata": {},
     "output_type": "execute_result"
    }
   ],
   "source": [
    "np.linalg.norm(conn.space_center.aerodynamics.sim_aero_force_by_alt(earth, vessel, [0,100,0], 1000))"
   ]
  },
  {
   "cell_type": "code",
   "execution_count": 58,
   "id": "98bead9e",
   "metadata": {},
   "outputs": [
    {
     "data": {
      "text/plain": [
       "(-109.99548720577155, -0.0, -136.06315710207622)"
      ]
     },
     "execution_count": 58,
     "metadata": {},
     "output_type": "execute_result"
    }
   ],
   "source": [
    "px = earth.surface_position(lat, lon, earth.reference_frame)\n",
    "earth.pos_to_body_velocity(px, earth.reference_frame)"
   ]
  },
  {
   "cell_type": "code",
   "execution_count": 66,
   "id": "41885fc9",
   "metadata": {},
   "outputs": [
    {
     "data": {
      "text/plain": [
       "(0.0011362587037240246, 0.0012776755589566874, -0.0006310238968652016)"
      ]
     },
     "execution_count": 66,
     "metadata": {},
     "output_type": "execute_result"
    }
   ],
   "source": [
    "flight.velocity"
   ]
  },
  {
   "cell_type": "code",
   "execution_count": 55,
   "id": "65434a3a",
   "metadata": {},
   "outputs": [
    {
     "data": {
      "text/plain": [
       "((159775.21875, -1021.536376953125, -578477.375),\n",
       " (159800.28125, -1015.2615966796875, -578406.0))"
      ]
     },
     "execution_count": 55,
     "metadata": {},
     "output_type": "execute_result"
    }
   ],
   "source": [
    "vessel.bounding_box(earth.reference_frame)"
   ]
  },
  {
   "cell_type": "code",
   "execution_count": 81,
   "id": "b17bc5d8",
   "metadata": {},
   "outputs": [
    {
     "data": {
      "text/plain": [
       "(-0.0040933823838829675, 0.04019081965088844, -0.0005925529566284283)"
      ]
     },
     "execution_count": 81,
     "metadata": {},
     "output_type": "execute_result"
    }
   ],
   "source": [
    "flight.simulate_aerodynamic_force_at(earth,flight.center_of_mass,flight.velocity)"
   ]
  },
  {
   "cell_type": "code",
   "execution_count": null,
   "id": "b4617f77",
   "metadata": {},
   "outputs": [],
   "source": [
    "earth.reference_frame."
   ]
  },
  {
   "cell_type": "code",
   "execution_count": 42,
   "id": "969347e8",
   "metadata": {},
   "outputs": [
    {
     "data": {
      "text/plain": [
       "((-2.6765403747558594, -30.703201293945312, -2.6734657287597656),\n",
       " (2.6756887435913086, 38.58135986328125, 2.679896831512451))"
      ]
     },
     "execution_count": 42,
     "metadata": {},
     "output_type": "execute_result"
    }
   ],
   "source": [
    "vessel.bounding_box(vessel.reference_frame)\n",
    "vessel.inertia_tensor"
   ]
  },
  {
   "cell_type": "code",
   "execution_count": 27,
   "id": "e93509b7",
   "metadata": {},
   "outputs": [
    {
     "name": "stdout",
     "output_type": "stream",
     "text": [
      "((690854.248046875, 0.0, 690851.5625), (-690854.248046875, -0.0, -690851.5625))\n",
      "((842755.4931640625, 57895.2751159668, 842754.7607421875), (-842755.4931640625, -57895.2751159668, -842754.7607421875))\n",
      "((842857.4829101562, 57965.99197387695, 842854.8583984375), (-842857.4829101562, -57965.99197387695, -842854.8583984375))\n",
      "((940255.6762695312, 46290.45867919922, 940255.5541992188), (-940255.6762695312, -46290.45867919922, -940255.5541992188))\n",
      "((842892.6391601562, 57823.04000854492, 842889.892578125), (-842892.6391601562, -57823.04000854492, -842889.892578125))\n",
      "((940153.4423828125, 46474.33090209961, 940153.564453125), (-940153.4423828125, -46474.33090209961, -940153.564453125))\n",
      "((842767.822265625, 57961.936950683594, 842765.625), (-842767.822265625, -57961.936950683594, -842765.625))\n",
      "((940208.740234375, 46335.0944519043, 940207.8857421875), (-940208.740234375, -46335.0944519043, -940207.8857421875))\n",
      "((842807.4951171875, 58094.40231323242, 842805.17578125), (-842807.4951171875, -58094.40231323242, -842805.17578125))\n"
     ]
    }
   ],
   "source": [
    "for x in vessel.active_engines:\n",
    "    print(x.available_torque)"
   ]
  },
  {
   "cell_type": "code",
   "execution_count": 141,
   "id": "caf0f8b4",
   "metadata": {},
   "outputs": [],
   "source": [
    "rscs = set()\n",
    "for engine in vessel.active_engines:\n",
    "    for prop in engine.propellants:\n",
    "        for rsc in vessel.resources.with_resource_by_id(prop.id):\n",
    "            rscs.add(rsc)\n",
    "import time\n",
    "def set_prop(v, target_name=None):\n",
    "    for rsc in rscs:\n",
    "        if target_name is None or target_name == rsc.part.name:\n",
    "            rsc.amount = rsc.max * v\n",
    "xl = np.linspace(0, 1, num=2)"
   ]
  },
  {
   "cell_type": "code",
   "execution_count": 190,
   "id": "8920f2ff",
   "metadata": {},
   "outputs": [
    {
     "name": "stdout",
     "output_type": "stream",
     "text": [
      "[<SpaceCenter.Thruster remote object #690>] 376748.09375 True\n",
      "(0.10783513186313343, -40.87232427900392, 0.10682853920706553)\n",
      "(-0.07006975104751101, 0.995121921654327, -0.06944741113410989)\n",
      "[<SpaceCenter.Thruster remote object #690>] 376747.625 True\n",
      "(0.1092348610096856, -27.24575482834026, 0.1003312087343944)\n",
      "(-0.07092597235582093, 0.9952683594849521, -0.06641348529711708)\n"
     ]
    }
   ],
   "source": [
    "tensors = []\n",
    "masses = []\n",
    "poslist = []\n",
    "for lvl in xl:\n",
    "    set_prop(lvl)\n",
    "    time.sleep(0.1)\n",
    "    tensors.append(vessel.inertia_tensor)\n",
    "    masses.append(vessel.mass)\n",
    "    poslist.append(vessel.position(earth.reference_frame))\n",
    "    \n",
    "    for engine in vessel.active_engines:\n",
    "        print(engine.thrusters, engine.max_thrust, engine.gimballed)\n",
    "        for th in engine.thrusters:\n",
    "            if th.gimballed:\n",
    "                print(th.thrust_position(vessel.reference_frame))\n",
    "                print(th.thrust_direction(vessel.reference_frame))\n",
    "            pass\n",
    "        break"
   ]
  },
  {
   "cell_type": "code",
   "execution_count": 188,
   "id": "6b9a760b",
   "metadata": {},
   "outputs": [
    {
     "data": {
      "text/plain": [
       "[(159789.77336466333, -1018.162910724408, -578449.2078686076),\n",
       " (159786.18044517605, -1018.2516256965464, -578435.9886531583)]"
      ]
     },
     "execution_count": 188,
     "metadata": {},
     "output_type": "execute_result"
    }
   ],
   "source": [
    "poslist"
   ]
  },
  {
   "cell_type": "code",
   "execution_count": 104,
   "id": "cc056cb0",
   "metadata": {},
   "outputs": [
    {
     "name": "stdout",
     "output_type": "stream",
     "text": [
      "QAPP\n",
      "CLOSING  <PyQt5.QtGui.QCloseEvent object at 0x7fe26f99f010>\n"
     ]
    }
   ],
   "source": [
    "oplt.plot(K.Dataset(tx[:,0]))"
   ]
  },
  {
   "cell_type": "code",
   "execution_count": 126,
   "id": "31d3aec1",
   "metadata": {},
   "outputs": [
    {
     "name": "stdout",
     "output_type": "stream",
     "text": [
      "QAPP\n"
     ]
    }
   ],
   "source": [
    "tx = np.array(tensors)\n",
    "p = np.poly1d(np.polyfit(xl, tx[:,0], 3))\n",
    "px = oplt.plot(K.Dataset(tx[:,0]), o=1)"
   ]
  },
  {
   "cell_type": "code",
   "execution_count": 127,
   "id": "03214598",
   "metadata": {},
   "outputs": [
    {
     "data": {
      "text/plain": [
       "<chdrft.display.ui.PlotEntry at 0x7fe1bc871030>"
      ]
     },
     "execution_count": 127,
     "metadata": {},
     "output_type": "execute_result"
    }
   ],
   "source": [
    "px.w.add_plot(K.Dataset(p(xl)))\n",
    "px.w.add_plot(K.Dataset(tx[:,0]))"
   ]
  },
  {
   "cell_type": "code",
   "execution_count": 134,
   "id": "bfa13682",
   "metadata": {},
   "outputs": [
    {
     "data": {
      "text/plain": [
       "((0.0, 0.0, 0.0), (-0.0, -0.0, -0.0))"
      ]
     },
     "execution_count": 134,
     "metadata": {},
     "output_type": "execute_result"
    }
   ],
   "source": [
    "e0 = vessel.active_engines[0]\n",
    "e0.gimbal_range\n",
    "e0.available_torque\n"
   ]
  },
  {
   "cell_type": "code",
   "execution_count": 138,
   "id": "dca68a39",
   "metadata": {},
   "outputs": [
    {
     "data": {
      "text/plain": [
       "False"
      ]
     },
     "execution_count": 138,
     "metadata": {},
     "output_type": "execute_result"
    }
   ],
   "source": [
    "t0 = e0.thrusters[0]\n",
    "t0.gimballed"
   ]
  },
  {
   "cell_type": "code",
   "execution_count": 144,
   "id": "6e4efc6d",
   "metadata": {},
   "outputs": [
    {
     "data": {
      "text/plain": [
       "True"
      ]
     },
     "execution_count": 144,
     "metadata": {},
     "output_type": "execute_result"
    }
   ],
   "source": [
    "e0.thrusters[0].gimballed\n",
    "e0.gimballed"
   ]
  },
  {
   "cell_type": "code",
   "execution_count": 178,
   "id": "0f209ba0",
   "metadata": {},
   "outputs": [],
   "source": [
    "vessel.control.pitch = -1\n",
    "vessel.control.yaw =1 "
   ]
  },
  {
   "cell_type": "code",
   "execution_count": 179,
   "id": "da81519c",
   "metadata": {},
   "outputs": [
    {
     "name": "stdout",
     "output_type": "stream",
     "text": [
      "[<SpaceCenter.Thruster remote object #690>] 376747.5 True\n",
      "(0.10886742455599219, -27.700780248834228, 0.10041771496390575)\n",
      "(-0.07073812361546022, 0.9952783905444449, -0.0664609706492645)\n",
      "[<SpaceCenter.Thruster remote object #692>] 376748.96875 True\n",
      "(-1.0927694089494935, -27.566714770134205, 0.5777311493726317)\n",
      "(-0.06572933887892546, 0.9963702456803455, -0.054091026873301286)\n",
      "[<SpaceCenter.Thruster remote object #694>] 376748.9375 True\n",
      "(-0.4076294337257913, -27.56870934137718, 1.2954090368686022)\n",
      "(-0.05645445392993681, 0.9962028296718544, -0.06627920130225377)\n",
      "[<SpaceCenter.Thruster remote object #696>] 376748.90625 True\n",
      "(0.5835151374710339, -27.570484178967007, 1.2616356120844727)\n",
      "(-0.058002663178993163, 0.9973314259831418, -0.04434256951203752)\n",
      "[<SpaceCenter.Thruster remote object #698>] 376748.90625 True\n",
      "(1.280005781163256, -27.56486351842969, 0.5957898806803411)\n",
      "(-0.05612785192336217, 0.9962483037782478, -0.06587763216114804)\n",
      "[<SpaceCenter.Thruster remote object #700>] 376748.84375 True\n",
      "(1.280426125425132, -27.570399376103886, -0.42180954262104314)\n",
      "(-0.05654560903948308, 0.9972828668117195, -0.047220123166495)\n",
      "[<SpaceCenter.Thruster remote object #702>] 376748.8125 True\n",
      "(0.5781320953152331, -27.568974517587343, -1.0926282074908271)\n",
      "(-0.054512086303766805, 0.9963518903677693, -0.06566674677205601)\n",
      "[<SpaceCenter.Thruster remote object #704>] 376748.9375 True\n",
      "(-0.4069042101837663, -27.563036117310702, -1.120899369682984)\n",
      "(-0.05705051375461362, 0.9972878381107722, -0.04650290038199655)\n",
      "[<SpaceCenter.Thruster remote object #706>] 376748.875 True\n",
      "(-1.1096348676502803, -27.569032994962782, -0.39358799110143483)\n",
      "(-0.054615282467745, 0.9963515973999385, -0.0655807116421401)\n"
     ]
    }
   ],
   "source": [
    "for engine in vessel.active_engines:\n",
    "    print(engine.thrusters, engine.max_thrust, engine.gimballed)\n",
    "    for th in engine.thrusters:\n",
    "        if th.gimballed:\n",
    "            print(th.thrust_position(vessel.reference_frame))\n",
    "            print(th.thrust_direction(vessel.reference_frame))\n",
    "        pass"
   ]
  },
  {
   "cell_type": "code",
   "execution_count": 120,
   "id": "0c2270fa",
   "metadata": {},
   "outputs": [
    {
     "name": "stdout",
     "output_type": "stream",
     "text": [
      "\n",
      "LiquidFuel 8457.113153636616 1.8282749140304368e-05\n",
      "\n",
      "Oxidizer 10336.471280363887 2.2345583358877484e-05\n",
      "\n",
      "LiquidFuel 14434.2001953125 1.8282749140304368e-05\n",
      "\n",
      "Oxidizer 17641.80078125 2.234558335887748e-05\n",
      "\n",
      "LiquidFuel 14434.2001953125 1.8282749140304368e-05\n",
      "\n",
      "Oxidizer 17641.80078125 2.234558335887748e-05\n",
      "\n",
      "LiquidFuel 14434.2001953125 1.8282749140304368e-05\n",
      "\n",
      "Oxidizer 17641.80078125 2.234558335887748e-05\n",
      "\n",
      "LiquidFuel 14434.2001953125 1.8282749140304368e-05\n",
      "\n",
      "Oxidizer 17641.80078125 2.2345583358877484e-05\n",
      "\n",
      "LiquidFuel 14434.2001953125 1.8282749140304368e-05\n",
      "\n",
      "Oxidizer 17641.80078125 2.2345583358877484e-05\n",
      "\n",
      "LiquidFuel 14434.2001953125 1.8282749140304368e-05\n",
      "\n",
      "Oxidizer 17641.80078125 2.2345583358877484e-05\n",
      "\n",
      "LiquidFuel 14434.2001953125 1.8282749140304368e-05\n",
      "\n",
      "Oxidizer 17641.80078125 2.2345583358877484e-05\n",
      "\n",
      "LiquidFuel 14434.2001953125 1.8282749140304368e-05\n",
      "\n",
      "Oxidizer 17641.80078125 2.2345583358877484e-05\n"
     ]
    }
   ],
   "source": [
    "for engine in vessel.active_engines:\n",
    "    for prop in engine.propellants:\n",
    "        print()\n",
    "        print(prop.name, prop.total_resource_available, prop.current_amount)\n",
    "        for rsc in vessel.resources.with_resource_by_id(prop.id):\n",
    "            rsc.amount = rsc.max"
   ]
  },
  {
   "cell_type": "code",
   "execution_count": 53,
   "id": "3ced3e81",
   "metadata": {},
   "outputs": [
    {
     "name": "stdout",
     "output_type": "stream",
     "text": [
      "\n",
      "LiquidFuel 14434.2001953125 0.3000318656356633\n",
      "2160.0\n",
      "14434.2001953125\n",
      "\n",
      "Oxidizer 0.0 0.36670563121721145\n",
      "2640.0\n",
      "0.0\n",
      "\n",
      "LiquidFuel 14434.2001953125 0.3000318656356633\n",
      "2160.0\n",
      "14434.2001953125\n",
      "\n",
      "Oxidizer 0.0 0.36670563121721145\n",
      "2640.0\n",
      "0.0\n",
      "\n",
      "LiquidFuel 14434.2001953125 0.3000318656356633\n",
      "2160.0\n",
      "14434.2001953125\n",
      "\n",
      "Oxidizer 0.0 0.36670563121721145\n",
      "2640.0\n",
      "0.0\n",
      "\n",
      "LiquidFuel 14434.2001953125 0.3000318656356633\n",
      "2160.0\n",
      "14434.2001953125\n",
      "\n",
      "Oxidizer 0.0 0.32270469536201674\n",
      "2640.0\n",
      "0.0\n",
      "\n",
      "LiquidFuel 14434.2001953125 0.3000318656356633\n",
      "2160.0\n",
      "14434.2001953125\n",
      "\n",
      "Oxidizer 0.0 0.36670563121721145\n",
      "2640.0\n",
      "0.0\n",
      "\n",
      "LiquidFuel 14434.2001953125 0.3000318656356633\n",
      "2160.0\n",
      "14434.2001953125\n",
      "\n",
      "Oxidizer 0.0 0.36670563121721145\n",
      "2640.0\n",
      "0.0\n",
      "\n",
      "LiquidFuel 14434.2001953125 0.3000318656356633\n",
      "2160.0\n",
      "14434.2001953125\n",
      "\n",
      "Oxidizer 0.0 0.36670563121721145\n",
      "2640.0\n",
      "0.0\n",
      "\n",
      "LiquidFuel 14434.2001953125 0.3000318656356633\n",
      "2160.0\n",
      "14434.2001953125\n",
      "\n",
      "Oxidizer 0.0 0.36670563121721145\n",
      "2640.0\n",
      "0.0\n",
      "\n",
      "LiquidFuel 14434.2001953125 0.3000318656356633\n",
      "2160.0\n",
      "14434.2001953125\n",
      "\n",
      "Oxidizer 0.0 0.36670563121721145\n",
      "2640.0\n",
      "0.0\n"
     ]
    }
   ],
   "source": [
    "for engine in vessel.active_engines:\n",
    "    for prop in engine.propellants:\n",
    "        print()\n",
    "        print(prop.name, prop.total_resource_available, prop.current_amount)\n",
    "        for rsc in vessel.resources.with_resource_by_id(prop.id):\n",
    "            print(rsc.amount)"
   ]
  },
  {
   "cell_type": "code",
   "execution_count": 29,
   "id": "3eed93af",
   "metadata": {},
   "outputs": [
    {
     "name": "stdout",
     "output_type": "stream",
     "text": [
      "[<SpaceCenter.Resource remote object #108>, <SpaceCenter.Resource remote object #115>]\n",
      "[<SpaceCenter.Resource remote object #108>, <SpaceCenter.Resource remote object #115>]\n",
      "[<SpaceCenter.Resource remote object #108>, <SpaceCenter.Resource remote object #115>]\n",
      "[<SpaceCenter.Resource remote object #108>, <SpaceCenter.Resource remote object #115>]\n",
      "[<SpaceCenter.Resource remote object #108>, <SpaceCenter.Resource remote object #115>]\n",
      "[<SpaceCenter.Resource remote object #108>, <SpaceCenter.Resource remote object #115>]\n",
      "[<SpaceCenter.Resource remote object #108>, <SpaceCenter.Resource remote object #115>]\n",
      "[<SpaceCenter.Resource remote object #108>, <SpaceCenter.Resource remote object #115>]\n",
      "[<SpaceCenter.Resource remote object #108>, <SpaceCenter.Resource remote object #115>]\n"
     ]
    }
   ],
   "source": [
    "for engine in vessel.active_engines:\n",
    "    rsc = vessel.resources.with_resource_by_id(x.propellants[0].id)\n",
    "    print(rsc)\n",
    "    "
   ]
  },
  {
   "cell_type": "code",
   "execution_count": 10,
   "id": "91029f07",
   "metadata": {},
   "outputs": [
    {
     "data": {
      "text/plain": [
       "[1396.365234375,\n",
       " 0.0,\n",
       " 4.993131005903706e-05,\n",
       " 0.0,\n",
       " 1648.2491455078125,\n",
       " 0.0,\n",
       " 4.4811466068495065e-05,\n",
       " 0.0,\n",
       " 1396.3648681640625]"
      ]
     },
     "execution_count": 10,
     "metadata": {},
     "output_type": "execute_result"
    }
   ],
   "source": [
    "vessel.inertia_tensor"
   ]
  },
  {
   "cell_type": "code",
   "execution_count": 113,
   "id": "5b41a5ff",
   "metadata": {},
   "outputs": [],
   "source": [
    "vessel = conn.space_center.active_vessel\n",
    "flight_info = vessel.flight()\n",
    "earth = conn.space_center.bodies['Kerbin']\n",
    "flight = vessel.flight(earth.reference_frame)"
   ]
  },
  {
   "cell_type": "code",
   "execution_count": 7,
   "id": "fd0d18ff",
   "metadata": {},
   "outputs": [],
   "source": [
    "cheats = conn.space_center.cheats\n",
    "cheats.unbreakable_joints=True\n",
    "cheats.no_crash_damage=True\n",
    "cheats.ignore_max_temperature=True"
   ]
  },
  {
   "cell_type": "code",
   "execution_count": 11,
   "id": "d5c42511",
   "metadata": {},
   "outputs": [
    {
     "data": {
      "text/plain": [
       "[<SpaceCenter.Vessel remote object #28>,\n",
       " <SpaceCenter.Vessel remote object #29>,\n",
       " <SpaceCenter.Vessel remote object #30>,\n",
       " <SpaceCenter.Vessel remote object #31>]"
      ]
     },
     "execution_count": 11,
     "metadata": {},
     "output_type": "execute_result"
    }
   ],
   "source": [
    "vessel.control.sas = False\n",
    "vessel.control.rcs = False\n",
    "vessel.control.throttle = 1.0\n",
    "vessel.control.activate_next_stage()\n",
    "vessel.control.activate_next_stage()"
   ]
  },
  {
   "cell_type": "code",
   "execution_count": 33,
   "id": "aeff06f9",
   "metadata": {},
   "outputs": [],
   "source": [
    "vessel.control.throttle=1"
   ]
  },
  {
   "cell_type": "code",
   "execution_count": 119,
   "id": "a723882f",
   "metadata": {},
   "outputs": [],
   "source": [
    "vpos = vessel.position(earth.reference_frame)\n",
    "flight.set_position(tuple(np.array(vpos)*1.5))\n",
    "conn.nop(req_phys_loop=1)\n",
    "flight.set_position(tuple(np.array(vpos)*1.9))\n",
    "conn.nop(req_phys_loop=1)\n",
    "flight.set_position(tuple(np.array(vpos)*3.9))\n",
    "conn.nop(req_phys_loop=1)"
   ]
  },
  {
   "cell_type": "code",
   "execution_count": 66,
   "id": "16a31016",
   "metadata": {},
   "outputs": [],
   "source": [
    "cam = conn.space_center.camera\n",
    "cam.mode = conn.space_center.CameraMode.locked\n",
    "cam.yaw = 90\n",
    "cam.pitch = 0"
   ]
  },
  {
   "cell_type": "code",
   "execution_count": 32,
   "id": "bb88e45b",
   "metadata": {},
   "outputs": [],
   "source": [
    "set_prop(1)"
   ]
  },
  {
   "cell_type": "code",
   "execution_count": 156,
   "id": "8ccc9374",
   "metadata": {},
   "outputs": [],
   "source": [
    "tank = [x for x in vessel.parts.all if 'S1tank' in x.name ][0]\n",
    "t0 = [x for x in vessel.parts.all if 'Merlin' in x.name ][0]"
   ]
  },
  {
   "cell_type": "code",
   "execution_count": 105,
   "id": "6eed890a",
   "metadata": {},
   "outputs": [
    {
     "name": "stdout",
     "output_type": "stream",
     "text": [
      "(8.696231615701322e-06, 10.992742672733808, -5.018335593298673e-06) 0.0\n",
      "(6.255828032486477e-06, 22.755642570073487, -3.1816487648939074e-06) 80189.9921875\n",
      "(1.3838243845043507e-05, 24.946099593443158, -8.694243124551804e-06) 160380.0 42191.5\n"
     ]
    }
   ],
   "source": [
    "set_prop(0)\n",
    "conn.nop(req_phys_loop=1)\n",
    "print(t0.center_of_mass(vessel.reference_frame), tank.mass-tankmass)\n",
    "set_prop(0.5)\n",
    "conn.nop(req_phys_loop=1)\n",
    "print(t0.center_of_mass(vessel.reference_frame), tank.mass-tankmass)\n",
    "set_prop(1)\n",
    "conn.nop(req_phys_loop=1)\n",
    "print(t0.center_of_mass(vessel.reference_frame), tank.mass-tankmass, v0_mass)\n"
   ]
  },
  {
   "cell_type": "code",
   "execution_count": 140,
   "id": "ca24518c",
   "metadata": {},
   "outputs": [
    {
     "data": {
      "text/plain": [
       "'KK.SPX.Merlin1D++'"
      ]
     },
     "execution_count": 140,
     "metadata": {},
     "output_type": "execute_result"
    }
   ],
   "source": [
    "vessel.active_engines[0].part.name"
   ]
  },
  {
   "cell_type": "code",
   "execution_count": 144,
   "id": "6482862e",
   "metadata": {},
   "outputs": [
    {
     "data": {
      "text/plain": [
       "False"
      ]
     },
     "execution_count": 144,
     "metadata": {},
     "output_type": "execute_result"
    }
   ],
   "source": [
    "tank.massless"
   ]
  },
  {
   "cell_type": "code",
   "execution_count": 164,
   "id": "1e882ebe",
   "metadata": {},
   "outputs": [
    {
     "data": {
      "text/plain": [
       "23.567829728436717"
      ]
     },
     "execution_count": 164,
     "metadata": {},
     "output_type": "execute_result"
    }
   ],
   "source": [
    "np.linalg.norm(t0.center_of_mass(tank.reference_frame))"
   ]
  },
  {
   "cell_type": "code",
   "execution_count": 166,
   "id": "0f185c7a",
   "metadata": {},
   "outputs": [
    {
     "data": {
      "text/plain": [
       "'KK.SPX.F93.S1tank'"
      ]
     },
     "execution_count": 166,
     "metadata": {},
     "output_type": "execute_result"
    }
   ],
   "source": [
    "tank.name"
   ]
  },
  {
   "cell_type": "code",
   "execution_count": 167,
   "id": "60624f5e",
   "metadata": {},
   "outputs": [
    {
     "data": {
      "text/plain": [
       "4.152799920786924"
      ]
     },
     "execution_count": 167,
     "metadata": {},
     "output_type": "execute_result"
    }
   ],
   "source": [
    "d0"
   ]
  },
  {
   "cell_type": "code",
   "execution_count": 162,
   "id": "481a86fe",
   "metadata": {},
   "outputs": [
    {
     "name": "stdout",
     "output_type": "stream",
     "text": [
      "160.3798828125\n",
      "(0.006607840066739645, 4.2155447102393095, 0.009847815930339232)\n",
      "17962.55859375\n",
      "(0.007108003894695125, 9.506948744708545, 0.011525101003263316)\n",
      "35764.73828125\n",
      "(0.0064112655247750006, 12.772777331293991, 0.012824767878204746)\n",
      "53566.91796875\n",
      "(0.006244230760803937, 14.989191526731208, 0.01356100375587932)\n",
      "71369.1015625\n",
      "(0.006051635256660859, 16.591982404543536, 0.014102855139617176)\n",
      "89171.28125\n",
      "(0.00585654157048765, 17.80499704569123, 0.014539374408505168)\n",
      "106973.453125\n",
      "(0.005692010959387428, 18.75500009044441, 0.014889232279530873)\n",
      "124775.640625\n",
      "(0.00555333472032693, 19.51916674943078, 0.015173764508171317)\n",
      "142577.828125\n",
      "(0.00543431300344821, 20.147164640145906, 0.01540880600973793)\n",
      "160380.0\n",
      "(0.005329767139030217, 20.672417723015343, 0.015608916553462748)\n"
     ]
    },
    {
     "data": {
      "text/plain": [
       "[22.459951078394624,\n",
       " 22.41393461292237,\n",
       " 22.414352799244583,\n",
       " 22.4145347268307,\n",
       " 22.414631912346785,\n",
       " 22.414704776697008,\n",
       " 22.414756568593756,\n",
       " 22.414795261727292,\n",
       " 22.414821595569848,\n",
       " 22.41484773961267]"
      ]
     },
     "execution_count": 162,
     "metadata": {},
     "output_type": "execute_result"
    }
   ],
   "source": [
    "def an1(x):\n",
    "    set_prop(x, target_name=tank.name)\n",
    "    conn.nop(req_phys_loop=1)\n",
    "    m1 = tank.mass -tankmass\n",
    "    print(m1)\n",
    "    dist = np.linalg.norm(t0.center_of_mass(vessel.reference_frame))-d0\n",
    "    print(t0.center_of_mass(vessel.reference_frame))\n",
    "    return dist * (m1 + v0_mass) / m1\n",
    "[an1(x) for x in np.linspace(0.001, 1, 10)] "
   ]
  },
  {
   "cell_type": "code",
   "execution_count": 157,
   "id": "fd0fe630",
   "metadata": {},
   "outputs": [
    {
     "name": "stdout",
     "output_type": "stream",
     "text": [
      "(0.002997979814360896, -15.2356113496811, -0.004315002600176587)\n",
      "(0.0005079184067136033, -5.8953978630925175, -0.0021187432084524005)\n"
     ]
    }
   ],
   "source": [
    "\n",
    "set_prop(0)\n",
    "conn.nop(req_phys_loop=1)\n",
    "print(tank.center_of_mass(vessel.reference_frame))\n",
    "set_prop(1)\n",
    "conn.nop(req_phys_loop=1)\n",
    "print(tank.center_of_mass(vessel.reference_frame))"
   ]
  },
  {
   "cell_type": "code",
   "execution_count": 169,
   "id": "e05db457",
   "metadata": {},
   "outputs": [
    {
     "name": "stdout",
     "output_type": "stream",
     "text": [
      "22.415024489670547\n"
     ]
    }
   ],
   "source": [
    "set_prop(1)\n",
    "conn.nop(req_phys_loop=1)\n",
    "mass_prop = tank.mass-tankmass\n",
    "\n",
    "set_prop(0, target_name=tank.name)\n",
    "conn.nop(req_phys_loop=1)\n",
    "d0= np.linalg.norm(t0.center_of_mass(vessel.reference_frame))\n",
    "tankmass = tank.mass\n",
    "v0_mass = vessel.mass\n",
    "print(np.linalg.norm(tank.center_of_mass(vessel.reference_frame)))"
   ]
  },
  {
   "cell_type": "code",
   "execution_count": 160,
   "id": "81a86f27",
   "metadata": {},
   "outputs": [
    {
     "name": "stdout",
     "output_type": "stream",
     "text": [
      "0 KK.SPX.F9.1875mmPA 150.0\n",
      "0 KK.SPX.F9.1875mmPA 150.0\n",
      "1 KK.SPX.F93.S2tank 40400.0\n",
      "1 KK.SPX.F93.S2tank 40400.0\n",
      "2 KK.SPX.Merlin1DV+ 1500.0\n",
      "2 KK.SPX.Merlin1DV+ 1500.0\n",
      "3 KK.SpX.Mvac.skirt 14.999999046325684\n",
      "3 KK.SpX.Mvac.skirt 14.999999046325684\n",
      "4 KK.SPX.Falcon9.FC 150.0\n",
      "4 KK.SPX.Falcon9.FC 150.0\n",
      "5 KK.SPX.F93.interstage 590.0\n",
      "5 KK.SPX.F93.interstage 590.0\n",
      "6 KK.SPX.FalconGridfin.FT 47.5\n",
      "6 KK.SPX.FalconGridfin.FT 47.5\n",
      "7 KK.SPX.FalconGridfin.FT 47.5\n",
      "7 KK.SPX.FalconGridfin.FT 47.5\n",
      "8 KK.SPX.FalconGridfin.FT 47.5\n",
      "8 KK.SPX.FalconGridfin.FT 47.5\n",
      "9 KK.SPX.F93.S1tank 169006.0\n",
      "9 KK.SPX.F93.S1tank 8626.0\n",
      "10 KK.SPX.Falcon9.FC 150.0\n",
      "10 KK.SPX.Falcon9.FC 150.0\n",
      "11 KK.SPX.F9LandingLeg 150.0\n",
      "11 KK.SPX.F9LandingLeg 150.0\n",
      "12 KK.SPX.F9LandingLeg 150.0\n",
      "12 KK.SPX.F9LandingLeg 150.0\n",
      "13 KK.SPX.F9LandingLeg 150.0\n",
      "13 KK.SPX.F9LandingLeg 150.0\n",
      "14 KK.SPX.F9LandingLeg 150.0\n",
      "14 KK.SPX.F9LandingLeg 150.0\n",
      "15 KK.SPX.F9FT.Interstage.RCS 0.0\n",
      "15 KK.SPX.F9FT.Interstage.RCS 0.0\n",
      "16 KK.SPX.F9FT.Interstage.RCS 0.0\n",
      "16 KK.SPX.F9FT.Interstage.RCS 0.0\n",
      "17 KK.SPX.F9.Octaweb 500.0\n",
      "17 KK.SPX.F9.Octaweb 500.0\n",
      "18 KK.SPX.Merlin1D++ 490.0\n",
      "18 KK.SPX.Merlin1D++ 490.0\n",
      "19 KK.SPX.Merlin1D++ 490.0\n",
      "19 KK.SPX.Merlin1D++ 490.0\n",
      "20 KK.SPX.Merlin1D++ 490.0\n",
      "20 KK.SPX.Merlin1D++ 490.0\n",
      "21 KK.SPX.Merlin1D++ 490.0\n",
      "21 KK.SPX.Merlin1D++ 490.0\n",
      "22 KK.SPX.Merlin1D++ 490.0\n",
      "22 KK.SPX.Merlin1D++ 490.0\n",
      "23 KK.SPX.Merlin1D++ 490.0\n",
      "23 KK.SPX.Merlin1D++ 490.0\n",
      "24 KK.SPX.Merlin1D++ 490.0\n",
      "24 KK.SPX.Merlin1D++ 490.0\n",
      "25 KK.SPX.Merlin1D++ 490.0\n",
      "25 KK.SPX.Merlin1D++ 490.0\n",
      "26 KK.SPX.Merlin1D++ 490.0\n",
      "26 KK.SPX.Merlin1D++ 490.0\n"
     ]
    }
   ],
   "source": [
    "for i, p in enumerate(vessel.parts.all):\n",
    "    set_prop(1, target_name=tank.name)\n",
    "    conn.nop(req_phys_loop=1)\n",
    "    print(i, p.name, p.mass)\n",
    "    set_prop(0, target_name=tank.name)\n",
    "    conn.nop(req_phys_loop=1)\n",
    "    print(i, p.name, p.mass)"
   ]
  },
  {
   "cell_type": "code",
   "execution_count": null,
   "id": "553a13ae",
   "metadata": {},
   "outputs": [],
   "source": [
    "e0."
   ]
  },
  {
   "cell_type": "code",
   "execution_count": 58,
   "id": "f79c9901",
   "metadata": {},
   "outputs": [],
   "source": [
    "cam.transform.rotation = [0,0,0,1]"
   ]
  },
  {
   "cell_type": "code",
   "execution_count": 55,
   "id": "1f44f98e",
   "metadata": {},
   "outputs": [
    {
     "data": {
      "text/plain": [
       "array([0.000, 0.000, 0.000, 1.000])"
      ]
     },
     "execution_count": 55,
     "metadata": {},
     "output_type": "execute_result"
    }
   ],
   "source": [
    "from scipy.spatial.transform import Rotation as R\n",
    "R.identity().as_quat()"
   ]
  },
  {
   "cell_type": "code",
   "execution_count": 62,
   "id": "78b12abc",
   "metadata": {},
   "outputs": [
    {
     "data": {
      "text/plain": [
       "(2.3035025596618652, -0.3382159173488617)"
      ]
     },
     "execution_count": 62,
     "metadata": {},
     "output_type": "execute_result"
    }
   ],
   "source": [
    "cam.pitch, cam.yaw"
   ]
  },
  {
   "cell_type": "code",
   "execution_count": 57,
   "id": "13f1712d",
   "metadata": {},
   "outputs": [],
   "source": [
    "e0  = vessel.active_engines[0]"
   ]
  },
  {
   "cell_type": "code",
   "execution_count": null,
   "id": "9b1b4be4",
   "metadata": {},
   "outputs": [],
   "source": [
    "conn.space_center"
   ]
  },
  {
   "cell_type": "code",
   "execution_count": 40,
   "id": "f05e5c4f",
   "metadata": {},
   "outputs": [],
   "source": [
    "import time\n",
    "e0  = vessel.active_engines[0]\n",
    "e0.gimbal.enable_gimbal = False\n",
    "for i in np.linspace(-1, 1, 2):\n",
    "    for j in np.linspace(-1, 1, 5):\n",
    "        time.sleep(1)\n",
    "        e0.gimbal.set_gimbal_rot(e0.gimbal.actuation2_rot([i,j]))"
   ]
  },
  {
   "cell_type": "code",
   "execution_count": null,
   "id": "f52256e9",
   "metadata": {},
   "outputs": [],
   "source": [
    "\n",
    "e0.gimbal.set_gimbal_rot(e0.gimbal.actuation2_rot([i,j]))"
   ]
  },
  {
   "cell_type": "code",
   "execution_count": 29,
   "id": "96833d49",
   "metadata": {},
   "outputs": [],
   "source": []
  },
  {
   "cell_type": "code",
   "execution_count": 60,
   "id": "4fca83f7",
   "metadata": {},
   "outputs": [],
   "source": []
  },
  {
   "cell_type": "code",
   "execution_count": 61,
   "id": "fc33dea3",
   "metadata": {},
   "outputs": [],
   "source": [
    "cam.set_target_vessel(vessel)"
   ]
  },
  {
   "cell_type": "code",
   "execution_count": 63,
   "id": "be96896e",
   "metadata": {},
   "outputs": [],
   "source": [
    "cam.distance = 100"
   ]
  },
  {
   "cell_type": "code",
   "execution_count": 49,
   "id": "1d772e52",
   "metadata": {},
   "outputs": [
    {
     "data": {
      "text/plain": [
       "88.8084487915039"
      ]
     },
     "execution_count": 49,
     "metadata": {},
     "output_type": "execute_result"
    }
   ],
   "source": [
    "cam.max_pitch"
   ]
  },
  {
   "cell_type": "code",
   "execution_count": 50,
   "id": "7670fdca",
   "metadata": {},
   "outputs": [
    {
     "data": {
      "text/plain": [
       "(-0.4010736346244812, -179.7942352294922)"
      ]
     },
     "execution_count": 50,
     "metadata": {},
     "output_type": "execute_result"
    }
   ],
   "source": [
    "cam.pitch, cam.yaw"
   ]
  },
  {
   "cell_type": "code",
   "execution_count": 58,
   "id": "b1cc6769",
   "metadata": {},
   "outputs": [],
   "source": []
  },
  {
   "cell_type": "code",
   "execution_count": 59,
   "id": "b2f952cb",
   "metadata": {},
   "outputs": [],
   "source": [
    "cam.set_target_part(e0.part)"
   ]
  },
  {
   "cell_type": "code",
   "execution_count": 33,
   "id": "e5193ba8",
   "metadata": {},
   "outputs": [
    {
     "data": {
      "text/plain": [
       "-57.570491790771484"
      ]
     },
     "execution_count": 33,
     "metadata": {},
     "output_type": "execute_result"
    }
   ],
   "source": [
    "cam.pitch"
   ]
  },
  {
   "cell_type": "code",
   "execution_count": 391,
   "id": "3bf2701e",
   "metadata": {},
   "outputs": [],
   "source": [
    "flight.set_rotation(tuple(unity_ylookat([1,0,0]).as_quat()))"
   ]
  },
  {
   "cell_type": "code",
   "execution_count": null,
   "id": "c6f188c4",
   "metadata": {},
   "outputs": [],
   "source": [
    "unity_ylookat([1,0,0]).as_quat()"
   ]
  },
  {
   "cell_type": "code",
   "execution_count": 114,
   "id": "90b29998",
   "metadata": {},
   "outputs": [],
   "source": [
    "for i in range(10):\n",
    "    flight.set_rotation(tuple(unity_ylookat([1,0,0]).as_quat()))\n",
    "    time.sleep(1)"
   ]
  },
  {
   "cell_type": "code",
   "execution_count": 397,
   "id": "1c72e8b8",
   "metadata": {},
   "outputs": [
    {
     "data": {
      "text/plain": [
       "(0.5600353257189661, 0.4150381992076291, -0.05589944213070355)"
      ]
     },
     "execution_count": 397,
     "metadata": {},
     "output_type": "execute_result"
    }
   ],
   "source": [
    "flight.aerodynamic_force"
   ]
  },
  {
   "cell_type": "code",
   "execution_count": 450,
   "id": "3be0ceb5",
   "metadata": {},
   "outputs": [],
   "source": [
    "from scipy.spatial.transform import Rotation as R\n",
    "import numpy as np\n",
    "import time\n",
    "def unity_ylookat(dy ,dz=None):\n",
    "    dy = np.array(dy)\n",
    "    if dz is None: dz = Z.opa_math.make_norm(np.random.uniform(-1, 1, 3))\n",
    "    dz = Z.opa_math.make_orth_norm(dz, dy)\n",
    "    r1 = Z.opa_math.rot_look_at(dz, dy)\n",
    "    return r1\n",
    "   \n",
    "def stereo_XY2xyz(X, Y, r):\n",
    "    X = X/2/r\n",
    "    Y = Y/2/r\n",
    "    \n",
    "    a = X**2 + Y**2\n",
    "    return np.array([2*X, 2*Y, -a+1])/(a+1) * r\n",
    "\n",
    "xl = np.linspace(0, 0, 1)\n",
    "xl = np.linspace(-0.10, 0.10, 10)\n",
    "tb = np.stack(np.meshgrid(xl, xl), axis=-1)\n",
    "X,Y = tb.reshape((-1, 2)).T\n",
    "vecs = stereo_XY2xyz(X,Y,1).T\n"
   ]
  },
  {
   "cell_type": "code",
   "execution_count": 452,
   "id": "143438bf",
   "metadata": {},
   "outputs": [
    {
     "name": "stdout",
     "output_type": "stream",
     "text": [
      "(0.0, 610000.0, 0.0) [-0.995 -0.995 9.900]\n",
      "[-0.100 -0.100 0.990] 117.42457214444876 (11.684160594987524, 11.684159278869629, -116.25737681864729)\n",
      "[-0.077 -0.100 0.992] 117.425792957154 (9.096618762116933, 11.69565486907959, -116.48728371270282)\n",
      "[-0.055 -0.100 0.993] 117.42582374624263 (6.502381399985971, 11.704291343688965, -116.65998901543287)\n",
      "[-0.033 -0.100 0.994] 117.42582525496574 (3.9033562416433867, 11.710054397583008, -116.77526017989103)\n",
      "[-0.011 -0.100 0.995] 117.4258189412565 (1.3014397448507538, 11.71293830871582, -116.83294011530357)\n",
      "[0.011 -0.100 0.995] 117.4258172857203 (-1.3014280208365108, 11.712915420532227, -116.83272346330271)\n",
      "[0.033 -0.100 0.994] 117.42559931460633 (-3.903343626378252, 11.710014343261719, -116.77485810233622)\n",
      "[0.055 -0.100 0.993] 117.42541467759742 (-6.502347608590043, 11.7042236328125, -116.65930586672965)\n",
      "[0.077 -0.100 0.992] 117.42513794148596 (-9.096556422063081, 11.695570945739746, -116.4864500612416)\n",
      "[0.100 -0.100 0.990] 117.42498356975291 (-11.684049712299405, 11.684057235717773, -116.25636756838729)\n",
      "[-0.100 -0.077 0.992] 117.42477256253441 (11.69552539890806, 9.096518516540527, -116.48597466637878)\n",
      "[-0.078 -0.078 0.994] 117.42450450163503 (9.105456718906424, 9.105457305908203, -116.71604687830626)\n",
      "[-0.055 -0.078 0.995] 117.42424917242849 (6.508848975336278, 9.11238956451416, -116.89169136507142)\n",
      "[-0.033 -0.078 0.996] 117.42686348849786 (3.907226253949574, 9.116860389709473, -117.0069580803447)\n",
      "[-0.011 -0.078 0.997] 117.42662304426773 (1.3027243781146325, 9.119089126586914, -117.064495224289)\n",
      "[0.011 -0.078 0.997] 117.4263638175923 (-1.3027192161501375, 9.119067192077637, -117.0642161458723)\n",
      "[0.033 -0.078 0.996] 117.42608383854603 (-3.9072037837267075, 9.116800308227539, -117.00618245070932)\n",
      "[0.055 -0.078 0.995] 117.4258447742929 (-6.508780614376022, 9.112292289733887, -116.89044859461556)\n",
      "[0.078 -0.078 0.994] 117.42561504420608 (-9.105538181491156, 9.105544090270996, -116.71717967449614)\n",
      "[0.100 -0.077 0.992] 117.42538818297784 (-11.695576070369185, 9.096564292907715, -116.48656750494114)\n",
      "[-0.100 -0.055 0.993] 117.42510119491466 (11.70419265641123, 6.502328395843506, -116.65900044696457)\n",
      "[-0.078 -0.055 0.995] 117.42483036219667 (9.112209570902273, 6.508721351623535, -116.88940128444625)\n",
      "[-0.055 -0.055 0.997] 117.42456280324583 (6.5135268594925435, 6.51352071762085, -117.06244510359697)\n",
      "[-0.033 -0.055 0.998] 117.42430769615305 (3.9101303688598605, 6.516876220703125, -117.18067256382693)\n",
      "[-0.011 -0.056 0.998] 117.42686582587584 (1.3036948812472389, 6.518481254577637, -117.23850609422414)\n",
      "[0.011 -0.056 0.998] 117.42681776074448 (-1.3036898240644916, 6.518467903137207, -117.2382706679578)\n",
      "[0.033 -0.055 0.998] 117.42658191472202 (-3.910105199759485, 6.516842842102051, -117.18007731206578)\n",
      "[0.055 -0.055 0.997] 117.42626913158553 (-6.513615621268507, 6.513613700866699, -117.06411100304112)\n",
      "[0.078 -0.055 0.995] 117.42597854324266 (-9.112300002990075, 6.508784294128418, -116.89053168376707)\n",
      "[0.100 -0.055 0.993] 117.42569855719714 (-11.704254941300128, 6.502360820770264, -116.65958480289073)\n",
      "[-0.100 -0.033 0.994] 117.42541891071656 (11.709982687694392, 3.9033281803131104, -116.77456867247604)\n",
      "[-0.078 -0.033 0.996] 117.42512318099628 (9.116721251371501, 3.9071671962738037, -117.00518744889135)\n",
      "[-0.055 -0.033 0.998] 117.42484597317998 (6.5167429338653236, 3.910048484802246, -117.17834706702654)\n",
      "[-0.033 -0.033 0.999] 117.42453508096212 (3.9119677341477797, 3.9119677543640137, -117.29384065896593)\n",
      "[-0.011 -0.033 0.999] 117.4242395751196 (1.3043327346095808, 3.913017511367798, -117.35428179873608)\n",
      "[0.011 -0.033 0.999] 117.42674502183887 (-1.3043355281321212, 3.913008213043213, -117.354023396322)\n",
      "[0.033 -0.033 0.999] 117.4264865000643 (-3.9120301299101214, 3.9120309352874756, -117.2957285620895)\n",
      "[0.055 -0.033 0.998] 117.42612956530307 (-6.5168207968163685, 3.9100911617279053, -117.17962664180601)\n",
      "[0.078 -0.033 0.996] 117.42581771528732 (-9.116777256305227, 3.907189130783081, -117.00585059650771)\n",
      "[0.100 -0.033 0.994] 117.42551182880608 (-11.709992728246291, 3.9033308029174805, -116.7746422511714)\n",
      "[-0.100 -0.011 0.995] 117.42519744050529 (11.712837619547805, 1.3014267683029175, -116.8319718443287)\n",
      "[-0.078 -0.011 0.997] 117.4248437161794 (9.11894958288054, 1.3027071952819824, -117.06270952114245)\n",
      "[-0.056 -0.011 0.998] 117.42457259008071 (6.518339698690859, 1.3036675453186035, -117.23594011007901)\n",
      "[-0.033 -0.011 0.999] 117.42424773014422 (3.9130185920675515, 1.3043385744094849, -117.35424466305463)\n",
      "[-0.011 -0.011 1.000] 117.42670800995248 (1.3046538476772866, 1.304656744003296, -117.41186843695117)\n",
      "[0.011 -0.011 1.000] 117.42636458963487 (-1.3046515499309237, 1.3046528100967407, -117.41150708276717)\n",
      "[0.033 -0.011 0.999] 117.42600321082345 (-3.9129772375158893, 1.3043270111083984, -117.35319460345023)\n",
      "[0.056 -0.011 0.998] 117.42565709183181 (-6.518402842473641, 1.3036799430847168, -117.23704075520001)\n",
      "[0.078 -0.011 0.997] 117.42535025303178 (-9.118983765600724, 1.302711844444275, -117.06313471792649)\n",
      "[0.100 -0.011 0.995] 117.42499918268832 (-11.712815507202599, 1.3014240264892578, -116.83173346256055)\n",
      "[-0.100 0.011 0.995] 117.4246043019489 (11.712780310057184, -1.3014203310012817, -116.83139358889078)\n",
      "[-0.078 0.011 0.997] 117.42426259249794 (9.119115145805907, -1.302730917930603, -117.06484356763885)\n",
      "[-0.056 0.011 0.998] 117.42671318061643 (6.51845864284347, -1.3036911487579346, -117.23806206260795)\n",
      "[-0.033 0.011 0.999] 117.42637314456118 (3.9129916524210984, -1.304330587387085, -117.35351544331952)\n",
      "[-0.011 0.011 1.000] 117.42597825378566 (1.3046524175618899, -1.304648756980896, -117.41114318051224)\n",
      "[0.011 0.011 1.000] 117.42563931809985 (-1.3046442988413816, -1.3046449422836304, -117.41080015511943)\n",
      "[0.033 0.011 0.999] 117.4252962024679 (-3.9129515162308977, -1.3043180704116821, -117.35237756879035)\n",
      "[0.056 0.011 0.998] 117.42483960493664 (-6.518353516166201, -1.3036705255508423, -117.23619832550887)\n",
      "[0.078 0.011 0.997] 117.42450633159568 (-9.11891491518498, -1.3027023077011108, -117.06228009370503)\n",
      "[0.100 0.011 0.995] 117.42414173954997 (-11.71301920990117, -1.301445722579956, -116.83367798431809)\n",
      "[-0.100 0.033 0.994] 117.42655956521769 (11.710091430500007, -3.903362274169922, -116.77558874387204)\n",
      "[-0.078 0.033 0.996] 117.42614957849891 (9.116789687746156, -3.9071969985961914, -117.00608491637345)\n",
      "[-0.055 0.033 0.998] 117.4257465382018 (6.516790043935572, -3.910076141357422, -117.17918223190712)\n",
      "[-0.033 0.033 0.999] 117.42537203026626 (3.911991587822719, -3.911992073059082, -117.29456169206242)\n",
      "[-0.011 0.033 0.999] 117.42496141236711 (1.3043141881002427, -3.912945032119751, -117.35212078393027)\n",
      "[0.011 0.033 0.999] 117.42458271934301 (-1.304308475476823, -3.912933588027954, -117.35177364829138)\n",
      "[0.033 0.033 0.999] 117.42423535311323 (-3.912048973017832, -3.9120447635650635, -117.29614622979858)\n",
      "[0.055 0.033 0.998] 117.42654785763608 (-6.516835567510107, -3.9101014137268066, -117.17994638160734)\n",
      "[0.078 0.033 0.996] 117.42613794584221 (-9.116794577715325, -3.9071969985961914, -117.00607831932065)\n",
      "[0.100 0.033 0.994] 117.42574034437719 (-11.710003714189781, -3.903334379196167, -116.77474917276)\n",
      "[-0.100 0.055 0.993] 117.42530498416075 (11.704207486663073, -6.5023345947265625, -116.65911396166797)\n",
      "[-0.078 0.055 0.995] 117.42494495802012 (9.112203896004829, -6.508717060089111, -116.88932972011143)\n",
      "[-0.055 0.055 0.997] 117.42449088681451 (6.513662049080608, -6.513662815093994, -117.06499474467515)\n",
      "[-0.033 0.055 0.998] 117.42686486119432 (3.9101077800308204, -6.516852855682373, -117.1802499372557)\n",
      "[-0.011 0.056 0.998] 117.42644203650119 (1.3036863958400815, -6.518435955047607, -117.23768738000837)\n",
      "[0.011 0.056 0.998] 117.42599775063157 (-1.3036855022882747, -6.518435955047607, -117.2376947578829)\n",
      "[0.033 0.055 0.998] 117.42600510675416 (-3.9100877358419766, -6.516805648803711, -117.17940869657687)\n",
      "[0.055 0.055 0.997] 117.42559927224404 (-6.513570322079026, -6.513567924499512, -117.06328883858215)\n",
      "[0.078 0.055 0.995] 117.42515386046146 (-9.112250992168732, -6.50875186920166, -116.88994870285521)\n",
      "[0.100 0.055 0.993] 117.42511263267 (-11.704217986178783, -6.502346038818359, -116.65931708436882)\n",
      "[-0.100 0.077 0.992] 117.42514843621791 (11.695590768143653, -9.096570014953613, -116.48663986756452)\n",
      "[-0.078 0.078 0.994] 117.42517488634415 (9.105646499598372, -9.105645179748535, -116.71846980160159)\n",
      "[-0.055 0.078 0.995] 117.42668676728684 (6.508729765204315, -9.112223625183105, -116.88956735589974)\n",
      "[-0.033 0.078 0.996] 117.42472967480582 (3.9071676188318207, -9.116711616516113, -117.00505478677772)\n",
      "[-0.011 0.078 0.997] 117.4247130512023 (1.302703030666585, -9.11892318725586, -117.06235051491275)\n",
      "[0.011 0.078 0.997] 117.4242125941557 (-1.302736643160344, -9.119109153747559, -117.06474679201925)\n"
     ]
    },
    {
     "name": "stdout",
     "output_type": "stream",
     "text": [
      "[0.033 0.078 0.996] 117.42661630141156 (-3.9072143418365286, -9.116825103759766, -117.00649093234283)\n",
      "[0.055 0.078 0.995] 117.42615442986289 (-6.508779996326112, -9.112299919128418, -116.89054888421231)\n",
      "[0.078 0.078 0.994] 117.42571543452107 (-9.105531381043981, -9.105531692504883, -116.71701812752345)\n",
      "[0.100 0.077 0.992] 117.4252261216261 (-11.695547583490658, -9.096540451049805, -116.48625879848153)\n",
      "[-0.100 0.100 0.990] 117.42479027156944 (11.684010267888176, -11.684009552001953, -116.25589085487617)\n",
      "[-0.077 0.100 0.992] 117.42429192297593 (9.096679592086026, -11.695735931396484, -116.48808383512845)\n",
      "[-0.055 0.100 0.993] 117.42663025974106 (6.502410667155786, -11.704329490661621, -116.66037579941992)\n",
      "[-0.033 0.100 0.994] 117.42621493930632 (3.9033669161648348, -11.710095405578613, -116.77567430176163)\n",
      "[-0.011 0.100 0.995] 117.42623521309483 (1.3014395889304708, -11.712930679321289, -116.83286719730062)\n",
      "[0.011 0.100 0.995] 117.4257439731352 (-1.301429891857424, -11.712882041931152, -116.83238514782649)\n",
      "[0.033 0.100 0.994] 117.42525939857096 (-3.9033145706371144, -11.709948539733887, -116.7741967586972)\n",
      "[0.055 0.100 0.993] 117.4247494699456 (-6.502298136468063, -11.70413875579834, -116.65846992736161)\n",
      "[0.077 0.100 0.992] 117.42429625449594 (-9.096682027583412, -11.695732116699219, -116.48804991151852)\n",
      "[0.100 0.100 0.990] 117.42659641599502 (-11.684187346800904, -11.684189796447754, -116.25768190375133)\n"
     ]
    }
   ],
   "source": [
    "alt = 10000.\n",
    "vx = [0, 0, 1]\n",
    "flight.set_rotation(tuple(unity_ylookat(vx, dz=np.ones(3)).as_quat()))\n",
    "pos = earth.position_at_altitude(90., 0., alt, earth.reference_frame)\n",
    "print(pos, dir * vnorm)\n",
    "vnorm = 10\n",
    "for dir in vecs:\n",
    "    flight.set_rotation(tuple(unity_ylookat(tuple(dir), dz=None).as_quat()))\n",
    "    fx = flight.simulate_aerodynamic_force_at(earth, pos, tuple(dir*vnorm))\n",
    "    print(dir, v, fx)\n",
    "    v =np.abs(np.dot(fx, dir))"
   ]
  },
  {
   "cell_type": "code",
   "execution_count": 274,
   "id": "38dfe8a9",
   "metadata": {},
   "outputs": [],
   "source": [
    "ef = earth.reference_frame\n",
    "ef."
   ]
  },
  {
   "cell_type": "code",
   "execution_count": 162,
   "id": "3ed7e342",
   "metadata": {},
   "outputs": [
    {
     "data": {
      "text/plain": [
       "(array([-0.100, -0.100, 0.990]), array([0.100, 0.100, 0.990]))"
      ]
     },
     "execution_count": 162,
     "metadata": {},
     "output_type": "execute_result"
    }
   ],
   "source": [
    "vecs[0], vecs[-1]"
   ]
  },
  {
   "cell_type": "code",
   "execution_count": 36,
   "id": "7e502327",
   "metadata": {},
   "outputs": [
    {
     "data": {
      "text/plain": [
       "array([[0.273, 0.050, -0.961],\n",
       "       [-0.955, 0.132, -0.265],\n",
       "       [0.114, 0.990, 0.084]])"
      ]
     },
     "execution_count": 36,
     "metadata": {},
     "output_type": "execute_result"
    }
   ],
   "source": [
    "r1= R.from_quat(flight.rotation)\n",
    "r1.as_matrix()"
   ]
  },
  {
   "cell_type": "code",
   "execution_count": null,
   "id": "a1262412",
   "metadata": {},
   "outputs": [],
   "source": [
    "for r in cnds:\n",
    "    r = earth.equatorial_radius\n",
    "    flight.simulate_aerodynamic_force_at(earth, (r,0,0), flight.direction)"
   ]
  },
  {
   "cell_type": "code",
   "execution_count": 18,
   "id": "cf3daf16",
   "metadata": {},
   "outputs": [
    {
     "data": {
      "text/plain": [
       "(-0.4712874349752121, 0.08317417173994572, 0.8780490936102943)"
      ]
     },
     "execution_count": 18,
     "metadata": {},
     "output_type": "execute_result"
    }
   ],
   "source": [
    "flight.direction"
   ]
  },
  {
   "cell_type": "code",
   "execution_count": 19,
   "id": "763df3d9",
   "metadata": {},
   "outputs": [
    {
     "data": {
      "text/plain": [
       "(10.374248456866809, -1.275656819343567, -18.72557826952789)"
      ]
     },
     "execution_count": 19,
     "metadata": {},
     "output_type": "execute_result"
    }
   ],
   "source": [
    "r = earth.equatorial_radius\n",
    "flight.simulate_aerodynamic_force_at(earth, (r,0,0), flight.direction)"
   ]
  },
  {
   "cell_type": "code",
   "execution_count": null,
   "id": "014cafb9",
   "metadata": {},
   "outputs": [],
   "source": [
    "earth.altitude_at_position(vpos,earth.reference_frame)"
   ]
  }
 ],
 "metadata": {
  "kernelspec": {
   "display_name": "env3",
   "language": "python",
   "name": "env3"
  },
  "language_info": {
   "codemirror_mode": {
    "name": "ipython",
    "version": 3
   },
   "file_extension": ".py",
   "mimetype": "text/x-python",
   "name": "python",
   "nbconvert_exporter": "python",
   "pygments_lexer": "ipython3",
   "version": "3.10.2"
  }
 },
 "nbformat": 4,
 "nbformat_minor": 5
}
