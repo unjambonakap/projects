{
 "cells": [
  {
   "cell_type": "code",
   "execution_count": 1,
   "id": "1dcac178",
   "metadata": {
    "ExecuteTime": {
     "end_time": "2022-04-14T17:24:15.924615Z",
     "start_time": "2022-04-14T17:24:13.579148Z"
    }
   },
   "outputs": [
    {
     "data": {
      "text/html": [
       "<style>.container { width:90% !important; }</style>"
      ],
      "text/plain": [
       "<IPython.core.display.HTML object>"
      ]
     },
     "metadata": {},
     "output_type": "display_data"
    },
    {
     "name": "stdout",
     "output_type": "stream",
     "text": [
      "Got exception No module named 'unicorn'\n",
      "Runnign magic qt5\n",
      "done\n",
      "False\n"
     ]
    }
   ],
   "source": [
    "init_jupyter()\n",
    "import krpc"
   ]
  },
  {
   "cell_type": "code",
   "execution_count": 2,
   "id": "21882569",
   "metadata": {
    "ExecuteTime": {
     "end_time": "2022-04-14T17:24:38.585202Z",
     "start_time": "2022-04-14T17:24:16.952883Z"
    }
   },
   "outputs": [
    {
     "name": "stdout",
     "output_type": "stream",
     "text": [
      "0.4.9\n"
     ]
    }
   ],
   "source": [
    "conn = krpc.connect(name='My Example Program',\n",
    "                    address='localhost',\n",
    "                    rpc_port=50000,\n",
    "                    stream_port=50001)\n",
    "print(conn.krpc.get_status().version)"
   ]
  },
  {
   "cell_type": "code",
   "execution_count": 14,
   "id": "5d3153ff",
   "metadata": {
    "ExecuteTime": {
     "end_time": "2022-04-13T21:37:57.656976Z",
     "start_time": "2022-04-13T21:37:50.673929Z"
    }
   },
   "outputs": [],
   "source": [
    "conn.space_center.launch_vessel2('VAB', \"./Ships/VAB/SpaceX Falcon 9 Block 5.craft\", 'LaunchPad', True)"
   ]
  },
  {
   "cell_type": "code",
   "execution_count": 3,
   "id": "29f2c44f",
   "metadata": {
    "ExecuteTime": {
     "end_time": "2022-04-14T17:24:38.627807Z",
     "start_time": "2022-04-14T17:24:38.588616Z"
    }
   },
   "outputs": [],
   "source": [
    "vessel = conn.space_center.active_vessel\n",
    "flight_info = vessel.flight()\n",
    "earth = conn.space_center.bodies['Kerbin']\n",
    "flight = vessel.flight(earth.reference_frame)"
   ]
  },
  {
   "cell_type": "code",
   "execution_count": 4,
   "id": "329689a2",
   "metadata": {
    "ExecuteTime": {
     "end_time": "2022-04-14T17:24:39.237930Z",
     "start_time": "2022-04-14T17:24:38.629780Z"
    }
   },
   "outputs": [
    {
     "data": {
      "text/plain": [
       "[]"
      ]
     },
     "execution_count": 4,
     "metadata": {},
     "output_type": "execute_result"
    }
   ],
   "source": [
    "\n",
    "vessel.control.activate_next_stage()"
   ]
  },
  {
   "cell_type": "code",
   "execution_count": null,
   "id": "70d015a6",
   "metadata": {},
   "outputs": [],
   "source": [
    "vessel.control.sas = False\n",
    "vessel.control.rcs = False\n",
    "vessel.control.throttle = 1.0\n",
    "conn.nop(req_phys_loop=1)\n",
    "vessel.control.activate_next_stage()\n",
    "conn.nop(req_phys_loop=1)\n",
    "vessel.control.activate_next_stage()\n",
    "conn.nop(req_phys_loop=1)\n",
    "vpos = vessel.position(earth.reference_frame)\n",
    "flight.set_position(tuple(np.array(vpos)*1.5))\n",
    "conn.nop(req_phys_loop=1)\n",
    "flight.set_position(tuple(np.array(vpos)*1.9))\n",
    "conn.nop(req_phys_loop=1)"
   ]
  },
  {
   "cell_type": "code",
   "execution_count": 90,
   "id": "5e6f027d",
   "metadata": {},
   "outputs": [],
   "source": [
    "flight.set_position(tuple(np.array(vpos)*3.9))\n",
    "\n",
    "conn.nop(req_phys_loop=1)\n",
    "vessel.control.throttle = 0"
   ]
  },
  {
   "cell_type": "code",
   "execution_count": 76,
   "id": "d71115ae",
   "metadata": {
    "ExecuteTime": {
     "end_time": "2022-04-14T18:49:22.531166Z",
     "start_time": "2022-04-14T18:49:22.405265Z"
    }
   },
   "outputs": [],
   "source": [
    "e0  = vessel.active_engines[0]\n",
    "tank = [x for x in vessel.parts.all if 'S1tank' in x.name ][0]\n",
    "t0 = [x for x in vessel.parts.all if 'Merlin' in x.name ][0]\n",
    "\n",
    "vx = A(vessel=vessel, tank=tank)\n",
    "rscs = set()\n",
    "for engine in vessel.active_engines:\n",
    "    for prop in engine.propellants:\n",
    "        for rsc in vessel.resources.with_resource_by_id(prop.id):\n",
    "            rscs.add(rsc)\n",
    "def set_prop(v, target_part=None):\n",
    "    for rsc in rscs:\n",
    "        if target_part is None or target_part == rsc.part:\n",
    "            rsc.amount = rsc.max * v\n",
    "    conn.nop(req_phys_loop=1)\n",
    "    \n",
    "vx.set_s1_prop= lambda v: set_prop(v, tank)\n",
    "vx.set_prop = set_prop\n",
    "import time"
   ]
  },
  {
   "cell_type": "code",
   "execution_count": 52,
   "id": "e348b1a6",
   "metadata": {
    "ExecuteTime": {
     "end_time": "2022-04-14T18:22:19.136238Z",
     "start_time": "2022-04-14T18:22:19.008397Z"
    }
   },
   "outputs": [
    {
     "name": "stdout",
     "output_type": "stream",
     "text": [
      "2160.0 5.0 <SpaceCenter.Part remote object #34>\n",
      "0.0 5.0 <SpaceCenter.Part remote object #41>\n",
      "2640.0 5.0 <SpaceCenter.Part remote object #34>\n",
      "0.0 5.0 <SpaceCenter.Part remote object #41>\n"
     ]
    }
   ],
   "source": [
    "    \n",
    "for x in rscs:\n",
    "    print(x.amount,x.density, x.part)"
   ]
  },
  {
   "cell_type": "code",
   "execution_count": 7,
   "id": "7d6b1f0b",
   "metadata": {
    "ExecuteTime": {
     "end_time": "2022-04-14T17:25:01.336130Z",
     "start_time": "2022-04-14T17:25:01.189620Z"
    }
   },
   "outputs": [],
   "source": []
  },
  {
   "cell_type": "code",
   "execution_count": 8,
   "id": "a88c2f55",
   "metadata": {
    "ExecuteTime": {
     "end_time": "2022-04-14T17:25:13.777711Z",
     "start_time": "2022-04-14T17:25:03.715912Z"
    }
   },
   "outputs": [],
   "source": [
    "# checking flow is correct\n",
    "e0.throttle_locked=True\n",
    "e0.throttle=1\n",
    "conn.nop(req_phys_loop=1)\n",
    "start = tank.mass\n",
    "fx = e0.cur_flow\n",
    "tx = 10\n",
    "time.sleep(tx)\n",
    "print(e0.step_mass_flow, e0.cur_flow * conn.space_center.time_warp_helper.fixed_delta_time)\n",
    "end = tank.mass\n",
    "e0.throttle_locked=True\n",
    "e0.throttle=0\n",
    "(start-end)/fx, tx"
   ]
  },
  {
   "cell_type": "code",
   "execution_count": 109,
   "id": "a5c850c9",
   "metadata": {
    "ExecuteTime": {
     "end_time": "2022-04-14T19:22:41.721154Z",
     "start_time": "2022-04-14T19:22:41.716764Z"
    }
   },
   "outputs": [],
   "source": []
  },
  {
   "cell_type": "code",
   "execution_count": 117,
   "id": "62f1c0f0",
   "metadata": {
    "ExecuteTime": {
     "end_time": "2022-04-14T19:40:57.769090Z",
     "start_time": "2022-04-14T19:40:57.756794Z"
    }
   },
   "outputs": [],
   "source": [
    "def get_vessel_prop():\n",
    "    vx.set_prop(1)\n",
    "    vx.set_s1_prop(0)\n",
    "    data = A()\n",
    "    data.tank_mass_empty = tank.mass\n",
    "    data.vessel_mass_empty = vessel.mass\n",
    "\n",
    "    vx.set_s1_prop(1)\n",
    "    conn.nop(req_phys_loop=1)\n",
    "    data.prop_mass = tank.mass - data.tank_mass_empty\n",
    "    lon = earth.longitude_at_position(tank.position(vx.vessel.reference_frame),\n",
    "                                      vx.vessel.reference_frame)\n",
    "    lat = earth.latitude_at_position(tank.position(vx.vessel.reference_frame),\n",
    "                                     vx.vessel.reference_frame)\n",
    "    alt = earth.altitude_at_position(tank.position(vx.vessel.reference_frame),\n",
    "                                     vx.vessel.reference_frame)\n",
    "    data.tank_start_geo = np.array([lat, lon, alt])\n",
    "    return data\n",
    "\n",
    "\n",
    "def get_earth_prop():\n",
    "    return A(GM=earth.gravitational_parameter,\n",
    "             mass=earth.mass,\n",
    "             radius=earth.equatorial_radius,\n",
    "             rot_per=earth.rotational_period)\n",
    "\n",
    "\n",
    "def analyse_gimballed_engine(engine, nx=3, ny=3):\n",
    "\n",
    "    engine.gimbal.enable_gimbal = False\n",
    "    data = dict()\n",
    "    for th in engine.thrusters:\n",
    "        for i in np.linspace(-1, 1, nx):\n",
    "            for j in np.linspace(-1, 1, ny):\n",
    "                rot = engine.gimbal.actuation2_rot([i, j])\n",
    "                engine.gimbal.set_gimbal_rot(rot)\n",
    "                conn.nop(req_phys_loop=1)\n",
    "                data[(i, j)] = th.thrust_direction(tank.reference_frame)\n",
    "    return data\n",
    "\n",
    "\n",
    "def do_measure(data, f, col_name=None):\n",
    "    measures = []\n",
    "    for x in itertools.product(*data.values()):\n",
    "        d = A({k: v for k, v in zip(data.keys(), x)})\n",
    "        y = f(d)\n",
    "        if isinstance(y, dict):\n",
    "            for k, v in y.items():\n",
    "                d[k] = v\n",
    "        else:\n",
    "            d[col_name] = y\n",
    "        measures.append(d)\n",
    "\n",
    "    return pd.DataFrame.from_records(measures)\n",
    "\n",
    "\n",
    "def measure_thrust_and_flow(x):\n",
    "    e0 = vessel.active_engines[0]\n",
    "    return A(thrust=e0.get_thrust_adv(earth, x.thrust, x.altitude, x.speed),\n",
    "             flow=e0.get_mass_flow(earth, x.thrust, x.altitude, x.speed))\n",
    "\n",
    "\n",
    "def aero_forces(x):\n",
    "    orientation = K.R.from_euler('XZY',\n",
    "                                 [x.yaw, x.pitch, 0]).as_matrix() @ [0, 1, 0]\n",
    "    return conn.space_center.aerodynamics.sim_aero_force_by_alt(\n",
    "        earth, vessel, orientation * x.norm_speed, x.altitude)\n",
    "\n",
    "\n",
    "def measure_earth_prop(x):\n",
    "    return A(pressure=earth.pressure_at(x.altitude),\n",
    "             density=earth.density_at(x.altitude))\n",
    "\n",
    "\n",
    "def measure_phys_prop(x):\n",
    "    set_s1_prop(x.resource_lvl)\n",
    "    return dict(inertia_tensor=vessel.inertia_tensor,\n",
    "                mass=vessel.mass,\n",
    "                tank2com=np.array(vessel.position(tank.reference_frame)))\n",
    "\n",
    "\n",
    "def compute_thruster_geo():\n",
    "    thruster_geo = cmisc.defaultdict(list)\n",
    "    for i, engine in enumerate(vessel.active_engines):\n",
    "        assert len(engine.thrusters) == 1\n",
    "        thruster_geo['pos'].append(engine.thrusters[0].thrust_position(\n",
    "            tank.reference_frame))\n",
    "        thruster_geo['dir'].append(analyse_gimballed_engine(engine))\n",
    "    return thruster_geo"
   ]
  },
  {
   "cell_type": "code",
   "execution_count": 113,
   "id": "2410cb7d",
   "metadata": {
    "ExecuteTime": {
     "end_time": "2022-04-14T19:30:12.931112Z",
     "start_time": "2022-04-14T19:30:12.838485Z"
    }
   },
   "outputs": [],
   "source": [
    "data = A()\n",
    "data.earth_prop = get_earth_prop()\n",
    "data.vessel_prop = get_vessel_prop()"
   ]
  },
  {
   "cell_type": "code",
   "execution_count": 114,
   "id": "5bcf4988",
   "metadata": {
    "ExecuteTime": {
     "end_time": "2022-04-14T19:31:31.440482Z",
     "start_time": "2022-04-14T19:30:30.612370Z"
    }
   },
   "outputs": [],
   "source": [
    "vx.set_prop(1)\n",
    " \n",
    "data.thruster_geo = compute_thruster_geo()\n",
    "    \n",
    "thrust_measures = dict(speed=np.linspace(0, 4000, num=10),\n",
    "                          thrust=[1],\n",
    "                          altitude=np.geomspace(1,80000, num=10)\n",
    "                         )\n",
    "aero_measures= A(altitude=np.linspace(0, 80000, num=10), norm_speed=np.linspace(0,4000, num=10), yaw=np.linspace(-np.pi, np.pi, num=11), pitch=np.linspace(-np.pi/2, np.pi/2, num=11))\n",
    "pression_measures= A(altitude=np.linspace(0, 80000, num=10))\n",
    "\n",
    "phys_measures = A(resource_lvl=np.linspace(0,1,11))\n",
    "data.engine_thrust_and_flow = do_measure(thrust_measures, measure_thrust_and_flow)\n",
    "data.friction= do_measure(aero_measures, aero_forces, col_name='friction')\n",
    "data.phys_measures= do_measure(phys_measures, measure_phys_prop)"
   ]
  },
  {
   "cell_type": "code",
   "execution_count": 118,
   "id": "b0cbb993",
   "metadata": {
    "ExecuteTime": {
     "end_time": "2022-04-14T19:41:28.353941Z",
     "start_time": "2022-04-14T19:41:28.344397Z"
    }
   },
   "outputs": [],
   "source": [
    "Z.FileFormatHelper.Write('../data/measures.pickle', data)"
   ]
  },
  {
   "cell_type": "code",
   "execution_count": 119,
   "id": "ded1af01",
   "metadata": {
    "ExecuteTime": {
     "end_time": "2022-04-14T20:11:03.097105Z",
     "start_time": "2022-04-14T20:11:03.090519Z"
    }
   },
   "outputs": [],
   "source": [
    "u = Z.FileFormatHelper.Read('../data/measures.pickle')"
   ]
  },
  {
   "cell_type": "code",
   "execution_count": 140,
   "id": "f0975207",
   "metadata": {},
   "outputs": [
    {
     "data": {
      "text/plain": [
       "0.0016346154734492302"
      ]
     },
     "execution_count": 140,
     "metadata": {},
     "output_type": "execute_result"
    }
   ],
   "source": [
    "e0 = vessel.active_engines[0]\n",
    "e0.get_thrust_adv(\n",
    "    earth, 1,\n",
    "    earth.altitude_at_position(e0.part.center_of_mass(flight.reference_frame),\n",
    "                               flight.reference_frame) * pa2atm,\n",
    "    np.linalg.norm(flight.velocity))\n",
    "#e0.get_thrust_adv(earth, 1,flight.mean_altitude, np.linalg.norm(flight.velocity))\n",
    "#e0.get_thrust(1,earth.pressure_at(flight.mean_altitude)* pa2atm)"
   ]
  },
  {
   "cell_type": "code",
   "execution_count": 108,
   "id": "32ce422c",
   "metadata": {},
   "outputs": [
    {
     "data": {
      "text/plain": [
       "600000.0"
      ]
     },
     "execution_count": 108,
     "metadata": {},
     "output_type": "execute_result"
    }
   ],
   "source": [
    "earth.equatorial_radius"
   ]
  },
  {
   "cell_type": "code",
   "execution_count": 11,
   "id": "30345a97",
   "metadata": {},
   "outputs": [
    {
     "data": {
      "text/plain": [
       "0.1666843742132187"
      ]
     },
     "execution_count": 11,
     "metadata": {},
     "output_type": "execute_result"
    }
   ],
   "source": [
    "\n",
    "e0.get_mass_flow(earth, 1,flight.mean_altitude, np.linalg.norm(flight.velocity))"
   ]
  },
  {
   "cell_type": "code",
   "execution_count": 11,
   "id": "63d4405b",
   "metadata": {},
   "outputs": [
    {
     "ename": "TypeError",
     "evalue": "<lambda>() missing 1 required positional argument: 'reference_frame'",
     "output_type": "error",
     "traceback": [
      "\u001b[0;31m---------------------------------------------------------------------------\u001b[0m",
      "\u001b[0;31mTypeError\u001b[0m                                 Traceback (most recent call last)",
      "Input \u001b[0;32mIn [11]\u001b[0m, in \u001b[0;36m<module>\u001b[0;34m\u001b[0m\n\u001b[0;32m----> 1\u001b[0m \u001b[43mearth\u001b[49m\u001b[38;5;241;43m.\u001b[39;49m\u001b[43maltitude_at_position\u001b[49m\u001b[43m(\u001b[49m\u001b[43mflight\u001b[49m\u001b[38;5;241;43m.\u001b[39;49m\u001b[43mcenter_of_mass\u001b[49m\u001b[43m)\u001b[49m\n",
      "\u001b[0;31mTypeError\u001b[0m: <lambda>() missing 1 required positional argument: 'reference_frame'"
     ]
    }
   ],
   "source": [
    "earth.altitude_at_position(flight.center_of_mass,flight.re)"
   ]
  },
  {
   "cell_type": "code",
   "execution_count": null,
   "id": "9b31aee4",
   "metadata": {},
   "outputs": [],
   "source": [
    "R."
   ]
  },
  {
   "cell_type": "code",
   "execution_count": 10,
   "id": "f328c57d",
   "metadata": {},
   "outputs": [
    {
     "data": {
      "text/plain": [
       "0.009999999776482582"
      ]
     },
     "execution_count": 10,
     "metadata": {},
     "output_type": "execute_result"
    }
   ],
   "source": [
    "e0.mixture_density"
   ]
  },
  {
   "cell_type": "code",
   "execution_count": 37,
   "id": "bbad69a1",
   "metadata": {},
   "outputs": [],
   "source": [
    "e0.throttle_locked = True\n",
    "e0.throttle = 0.0\n"
   ]
  },
  {
   "cell_type": "code",
   "execution_count": 41,
   "id": "75d0504d",
   "metadata": {},
   "outputs": [
    {
     "name": "stdout",
     "output_type": "stream",
     "text": [
      "0.0 0.0 0.0 0.0\n",
      "0.1 42.499996185302734 42499.99609375 0.01666843704879284\n",
      "0.2 84.99999237060547 84999.9921875 0.03333687409758568\n",
      "0.30000000000000004 127.5 127500.0 0.050005313009023666\n",
      "0.4 169.99998474121094 169999.984375 0.06667374819517136\n",
      "0.5 212.49998474121094 212499.984375 0.08334218710660934\n",
      "0.6000000000000001 255.0 255000.0 0.10001062601804733\n",
      "0.7000000000000001 297.4999694824219 297499.96875 0.11667905747890472\n",
      "0.8 339.9999694824219 339999.96875 0.1333474963903427\n",
      "0.9 382.4999694824219 382499.96875 0.1500159353017807\n",
      "1.0 424.9999694824219 424999.96875 0.1666843742132187\n"
     ]
    }
   ],
   "source": [
    "for i in np.linspace(0,1,11):\n",
    "    e0.throttle = i\n",
    "    conn.nop(req_phys_loop=1)\n",
    "    print(i, e0.cur_thrust, e0.thrust, e0.cur_flow)"
   ]
  },
  {
   "cell_type": "code",
   "execution_count": 33,
   "id": "98b028d9",
   "metadata": {},
   "outputs": [
    {
     "name": "stdout",
     "output_type": "stream",
     "text": [
      "0.33336872607548673\n",
      "0.30003183881357387 0.30003183881357387 10966.860800203673 0.8999999761581421\n",
      "0.3667055984346561 0.3667055984346561 13403.940773901993 1.100000023841858\n",
      "0.33336872607548673\n",
      "0.30003183881357387 0.30003183881357387 10966.860800203673 0.8999999761581421\n",
      "0.3667055984346561 0.3667055984346561 13403.940773901993 1.100000023841858\n",
      "0.33336872607548673\n",
      "0.30003183881357387 0.30003183881357387 10966.860800203673 0.8999999761581421\n",
      "0.3667055984346561 0.3667055984346561 13403.940773901993 1.100000023841858\n",
      "0.33336872607548673\n",
      "0.30003183881357387 0.30003183881357387 10966.56076836486 0.8999999761581421\n",
      "0.3667055984346561 0.3667055984346561 13403.574068303558 1.100000023841858\n",
      "0.33336872607548673\n",
      "0.30003183881357387 0.30003183881357387 10966.56076836486 0.8999999761581421\n",
      "0.3667055984346561 0.3667055984346561 13403.574068303558 1.100000023841858\n",
      "0.33336872607548673\n",
      "0.30003183881357387 0.30003183881357387 10966.260736526046 0.8999999761581421\n",
      "0.3667055984346561 0.3667055984346561 13403.207362705123 1.100000023841858\n",
      "0.33336872607548673\n",
      "0.30003183881357387 0.30003183881357387 10966.260736526046 0.8999999761581421\n",
      "0.3667055984346561 0.3667055984346561 13403.207362705123 1.100000023841858\n",
      "0.33336872607548673\n",
      "0.30003183881357387 0.30003183881357387 10965.960704687233 0.8999999761581421\n",
      "0.3667055984346561 0.3667055984346561 13402.840657106688 1.100000023841858\n",
      "0.33336872607548673\n",
      "0.30003183881357387 0.30003183881357387 10965.960704687233 0.8999999761581421\n",
      "0.3667055984346561 0.3667055984346561 13402.840657106688 1.100000023841858\n",
      "0.33336872607548673\n",
      "0.30003183881357387 0.30003183881357387 10965.960704687233 0.8999999761581421\n",
      "0.3667055984346561 0.3667055984346561 13402.840657106688 1.100000023841858\n"
     ]
    }
   ],
   "source": [
    "e0.is_independant_throttle = True\n",
    "e0.independant_throttle = 1\n",
    "conn.nop(req_phys_loop=1)\n",
    "e0.cur_thrust, e0.thrust\n",
    "for i in range(10):\n",
    "    print(e0.cur_flow / e0.mixture_density* 0.02)\n",
    "    for x in e0.propellants:\n",
    "        print(x.current_amount, x.current_requirement, x.total_resource_available, x.ratio)"
   ]
  },
  {
   "cell_type": "code",
   "execution_count": null,
   "id": "1ec811ee",
   "metadata": {},
   "outputs": [],
   "source": [
    "e0.dens"
   ]
  },
  {
   "cell_type": "code",
   "execution_count": null,
   "id": "4ff41438",
   "metadata": {},
   "outputs": [],
   "source": []
  },
  {
   "cell_type": "code",
   "execution_count": 9,
   "id": "1eb8b9eb",
   "metadata": {},
   "outputs": [
    {
     "data": {
      "text/plain": [
       "0.019999999552965164"
      ]
     },
     "execution_count": 9,
     "metadata": {},
     "output_type": "execute_result"
    }
   ],
   "source": [
    "conn.space_center.time_warp_helper.fixed_delta_time"
   ]
  },
  {
   "cell_type": "code",
   "execution_count": 182,
   "id": "58501c11",
   "metadata": {},
   "outputs": [],
   "source": [
    "set_prop(1)"
   ]
  },
  {
   "cell_type": "code",
   "execution_count": null,
   "id": "cabb5963",
   "metadata": {},
   "outputs": [],
   "source": [
    "from scipy.spatial.transform import Rotation as R\n",
    "import numpy as np\n",
    "import time\n",
    "def unity_ylookat(dy ,dz=None):\n",
    "    dy = np.array(dy)\n",
    "    if dz is None: dz = Z.opa_math.make_norm(np.random.uniform(-1, 1, 3))\n",
    "    dz = Z.opa_math.make_orth_norm(dz, dy)\n",
    "    r1 = Z.opa_math.rot_look_at(dz, dy)\n",
    "    return r1"
   ]
  }
 ],
 "metadata": {
  "kernelspec": {
   "display_name": "env3",
   "language": "python",
   "name": "env3"
  },
  "language_info": {
   "codemirror_mode": {
    "name": "ipython",
    "version": 3
   },
   "file_extension": ".py",
   "mimetype": "text/x-python",
   "name": "python",
   "nbconvert_exporter": "python",
   "pygments_lexer": "ipython3",
   "version": "3.10.2"
  }
 },
 "nbformat": 4,
 "nbformat_minor": 5
}
