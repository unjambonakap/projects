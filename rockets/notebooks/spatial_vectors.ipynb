{
 "cells": [
  {
   "cell_type": "code",
   "execution_count": 1,
   "id": "8f4053a5",
   "metadata": {
    "ExecuteTime": {
     "end_time": "2022-05-13T11:12:47.560370Z",
     "start_time": "2022-05-13T11:12:43.897708Z"
    }
   },
   "outputs": [
    {
     "data": {
      "text/html": [
       "<style>.container { width:90% !important; }</style>"
      ],
      "text/plain": [
       "<IPython.core.display.HTML object>"
      ]
     },
     "metadata": {},
     "output_type": "display_data"
    },
    {
     "name": "stdout",
     "output_type": "stream",
     "text": [
      "Got exception No module named 'unicorn'\n",
      "Runnign magic qt5\n",
      "done\n",
      "False\n"
     ]
    }
   ],
   "source": []
  },
  {
   "cell_type": "code",
   "execution_count": 8,
   "id": "d9815103",
   "metadata": {
    "ExecuteTime": {
     "end_time": "2022-05-13T11:39:04.913209Z",
     "start_time": "2022-05-13T11:39:04.903047Z"
    }
   },
   "outputs": [
    {
     "data": {
      "text/html": [
       "<style>.container { width:90% !important; }</style>"
      ],
      "text/plain": [
       "<IPython.core.display.HTML object>"
      ]
     },
     "metadata": {},
     "output_type": "display_data"
    },
    {
     "name": "stdout",
     "output_type": "stream",
     "text": [
      "False\n",
      "FUU  a\n"
     ]
    }
   ],
   "source": [
    "init_jupyter()\n",
    "from pydantic import BaseModel\n",
    "from functools import singledispatchmethod\n",
    "from abc import ABCMeta, abstractmethod, ABC\n",
    "from pydantic.main import ModelMetaclass\n",
    "\n",
    "class PydanticWithABCMeta(ModelMetaclass, ABCMeta):\n",
    "    pass\n",
    "\n",
    "class Payment(BaseModel):\n",
    "    ...\n",
    "class ScoringData(BaseModel, ABC):\n",
    "    @classmethod\n",
    "    def _build_from_payment(cls, payment: Payment):\n",
    "        return cls._build_from_payment_impl(payment)\n",
    "\n",
    "    @classmethod\n",
    "    @abstractmethod\n",
    "    def _build_from_payment_impl(cls, payment: Payment):\n",
    "        ...\n",
    "\n",
    "class TestData(ScoringData):\n",
    "    a:int \n",
    "    @classmethod\n",
    "    def _build_from_payment_impl(cls, payment: Payment):\n",
    "        return cls(a=123)\n",
    "    "
   ]
  },
  {
   "cell_type": "code",
   "execution_count": 12,
   "id": "f11a39b8",
   "metadata": {
    "ExecuteTime": {
     "end_time": "2022-05-16T18:30:00.853574Z",
     "start_time": "2022-05-16T18:30:00.841727Z"
    }
   },
   "outputs": [
    {
     "name": "stdout",
     "output_type": "stream",
     "text": [
      "FUU  env_key\n",
      "FUU  tag_in\n",
      "FUU  tag_out\n",
      "FUU  default_prob\n",
      "FUU  prob\n"
     ]
    }
   ],
   "source": [
    "from pydantic import BaseModel\n",
    "class ABTestEntry(BaseModel):\n",
    "    env_key: str  # environ key is in percents\n",
    "    tag_in: str = None\n",
    "    tag_out: str = None\n",
    "    default_prob: float = None\n",
    "    prob: float = None\n",
    "\n",
    "    def __init__(self, *args, **kwargs):\n",
    "        super().__init__(*args, **kwargs)\n",
    "\n",
    "        if self.env_key not in os.environ:\n",
    "            assert self.default_prob is not None, f\"Bad init for {self.env_key}\"\n",
    "            self.prob = self.default_prob\n",
    "        else:\n",
    "            self.prob = float(os.environ[self.env_key]) / 100\n",
    "\n",
    "    def accept(self, idx: str, add_tag_func):\n",
    "        if self.prob == 0:\n",
    "            return False\n",
    "        mod = int(10003)\n",
    "        h = (\n",
    "            int.from_bytes(idx.encode(), byteorder=\"big\")\n",
    "            ^ int.from_bytes(self.env_key.encode(), byteorder=\"big\")\n",
    "        ) % mod\n",
    "\n",
    "        enroll = h < self.prob * mod\n",
    "        tag = self.tag_in if enroll else self.tag_out\n",
    "        if tag and add_tag_func is not None:\n",
    "            add_tag_func(tag)\n",
    "        return enroll\n",
    "\n",
    "    def __hash__(self):\n",
    "        return self.env_key.__hash__()\n",
    "\n"
   ]
  },
  {
   "cell_type": "code",
   "execution_count": 16,
   "id": "6a14b4b0",
   "metadata": {
    "ExecuteTime": {
     "end_time": "2022-05-16T18:31:00.934048Z",
     "start_time": "2022-05-16T18:31:00.929221Z"
    }
   },
   "outputs": [],
   "source": [
    "import os\n",
    "\n",
    "a = ABTestEntry(env_key='123', default_prob=0.1)"
   ]
  },
  {
   "cell_type": "code",
   "execution_count": 22,
   "id": "6f171960",
   "metadata": {
    "ExecuteTime": {
     "end_time": "2022-05-17T11:24:52.036448Z",
     "start_time": "2022-05-17T11:24:52.029910Z"
    }
   },
   "outputs": [
    {
     "data": {
      "text/plain": [
       "[<X.a: 1>, <X.b: 2>]"
      ]
     },
     "execution_count": 22,
     "metadata": {},
     "output_type": "execute_result"
    }
   ],
   "source": [
    "from enum import Enum\n",
    "class X(Enum):\n",
    "    a = 1\n",
    "    b = 2\n",
    "list(X)"
   ]
  },
  {
   "cell_type": "code",
   "execution_count": null,
   "id": "d08a60f2",
   "metadata": {},
   "outputs": [],
   "source": []
  },
  {
   "cell_type": "code",
   "execution_count": 21,
   "id": "f54c7681",
   "metadata": {
    "ExecuteTime": {
     "end_time": "2022-05-16T18:31:31.822999Z",
     "start_time": "2022-05-16T18:31:31.802097Z"
    }
   },
   "outputs": [
    {
     "ename": "ValueError",
     "evalue": "\"ABTestEntry\" object has no field \"accept\"",
     "output_type": "error",
     "traceback": [
      "\u001b[0;31m---------------------------------------------------------------------------\u001b[0m",
      "\u001b[0;31mValueError\u001b[0m                                Traceback (most recent call last)",
      "Input \u001b[0;32mIn [21]\u001b[0m, in \u001b[0;36m<cell line: 1>\u001b[0;34m()\u001b[0m\n\u001b[0;32m----> 1\u001b[0m \u001b[38;5;28;43msetattr\u001b[39;49m\u001b[43m(\u001b[49m\u001b[43ma\u001b[49m\u001b[43m,\u001b[49m\u001b[43m \u001b[49m\u001b[38;5;124;43m'\u001b[39;49m\u001b[38;5;124;43maccept\u001b[39;49m\u001b[38;5;124;43m'\u001b[39;49m\u001b[43m,\u001b[49m\u001b[43m \u001b[49m\u001b[38;5;241;43m123\u001b[39;49m\u001b[43m)\u001b[49m\n",
      "File \u001b[0;32m~/.virtualenvs/env3.10/lib/python3.10/site-packages/pydantic/main.py:347\u001b[0m, in \u001b[0;36mpydantic.main.BaseModel.__setattr__\u001b[0;34m()\u001b[0m\n",
      "\u001b[0;31mValueError\u001b[0m: \"ABTestEntry\" object has no field \"accept\""
     ]
    }
   ],
   "source": [
    "setattr(a, 'accept', 123)"
   ]
  },
  {
   "cell_type": "code",
   "execution_count": 9,
   "id": "25a2eb2f",
   "metadata": {
    "ExecuteTime": {
     "end_time": "2022-05-13T11:39:20.386266Z",
     "start_time": "2022-05-13T11:39:20.382915Z"
    }
   },
   "outputs": [
    {
     "data": {
      "text/plain": [
       "TestData(a=123)"
      ]
     },
     "execution_count": 9,
     "metadata": {},
     "output_type": "execute_result"
    }
   ],
   "source": [
    "TestData._build_from_payment(Payment())"
   ]
  },
  {
   "cell_type": "code",
   "execution_count": null,
   "id": "029ebe56",
   "metadata": {},
   "outputs": [],
   "source": [
    "from pydantic.main import Mo"
   ]
  },
  {
   "cell_type": "code",
   "execution_count": null,
   "id": "b8e2654a",
   "metadata": {},
   "outputs": [],
   "source": []
  },
  {
   "cell_type": "code",
   "execution_count": 4,
   "id": "00e1daff",
   "metadata": {
    "ExecuteTime": {
     "end_time": "2022-05-12T08:23:12.225011Z",
     "start_time": "2022-05-12T08:23:12.210786Z"
    }
   },
   "outputs": [],
   "source": [
    "class SpatialVectorBase(BaseModel):\n",
    "    t: np.ndarray\n",
    "    r: np.ndarray\n",
    "    class Config:\n",
    "        arbitrary_types_allowed = True\n",
    "\n",
    "class SpatialVector(SpatialVectorBase):\n",
    "    pass\n",
    "class SpatialForce(SpatialVectorBase):\n",
    "    pass\n"
   ]
  },
  {
   "cell_type": "code",
   "execution_count": 9,
   "id": "2fc10a3f",
   "metadata": {
    "ExecuteTime": {
     "end_time": "2022-05-12T16:04:21.173966Z",
     "start_time": "2022-05-12T16:04:21.149843Z"
    }
   },
   "outputs": [
    {
     "data": {
      "text/plain": [
       "Owner(pets=[Dog(name='Fido', age=2, food='kibble'), Cat(name='Fluffy', age=2, collar_color='Red')])"
      ]
     },
     "execution_count": 9,
     "metadata": {},
     "output_type": "execute_result"
    }
   ],
   "source": [
    "from typing import Any\n",
    "from abc import ABC, abstractmethod\n",
    "subclass_registry = {}\n",
    "\n",
    "class ModifiedBaseModel(BaseModel):\n",
    "    def __init_subclass__(cls, is_abstract: bool = False, **kwargs: Any) -> None:\n",
    "        super().__init_subclass__(**kwargs)  # type: ignore\n",
    "        if not is_abstract:\n",
    "            subclass_registry[cls.__name__] = cls\n",
    "\n",
    "\n",
    "class Pet(ModifiedBaseModel, ABC, is_abstract=True):\n",
    "    name: str\n",
    "    age: int = 2\n",
    "\n",
    "    class Config:\n",
    "        extra = \"allow\"\n",
    "\n",
    "    @abstractmethod\n",
    "    def get_relative_age(self) -> int:\n",
    "        raise NotImplementedError\n",
    "\n",
    "\n",
    "class Dog(Pet):\n",
    "\n",
    "    name: str = \"Fido\"\n",
    "    food: str = \"kibble\"\n",
    "\n",
    "    def get_relative_age(self) -> int:\n",
    "        return self.age * 7\n",
    "\n",
    "\n",
    "class Cat(Pet):\n",
    "\n",
    "    name: str = \"Fluffy\"\n",
    "    collar_color: str = \"Red\"\n",
    "\n",
    "    def get_relative_age(self) -> int:\n",
    "        return self.age * 4\n",
    "\n",
    "\n",
    "class Owner(ModifiedBaseModel):\n",
    "    pets: list[Pet]\n",
    "\n",
    "Owner(pets=[Dog(name='Fido', age=2, food='kibble'), Cat(name='Fluffy', age=2, collar_color='Red')])\n"
   ]
  }
 ],
 "metadata": {
  "kernelspec": {
   "display_name": "env3",
   "language": "python",
   "name": "env3"
  },
  "language_info": {
   "codemirror_mode": {
    "name": "ipython",
    "version": 3
   },
   "file_extension": ".py",
   "mimetype": "text/x-python",
   "name": "python",
   "nbconvert_exporter": "python",
   "pygments_lexer": "ipython3",
   "version": "3.10.4"
  }
 },
 "nbformat": 4,
 "nbformat_minor": 5
}
