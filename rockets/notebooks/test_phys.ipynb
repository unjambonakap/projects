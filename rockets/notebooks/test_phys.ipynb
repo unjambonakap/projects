{
 "cells": [
  {
   "cell_type": "code",
   "execution_count": 1,
   "id": "e416d860",
   "metadata": {
    "ExecuteTime": {
     "end_time": "2022-05-25T08:05:41.258995Z",
     "start_time": "2022-05-25T08:05:38.219086Z"
    }
   },
   "outputs": [
    {
     "data": {
      "text/html": [
       "<style>.container { width:90% !important; }</style>"
      ],
      "text/plain": [
       "<IPython.core.display.HTML object>"
      ]
     },
     "metadata": {},
     "output_type": "display_data"
    },
    {
     "name": "stdout",
     "output_type": "stream",
     "text": [
      "Got exception No module named 'unicorn'\n",
      "Runnign magic qt5\n",
      "done\n",
      "False\n"
     ]
    }
   ],
   "source": [
    "init_jupyter()\n",
    "from dataclasses import dataclass, field\n",
    "import xarray as xr\n",
    "from typing import Callable, List\n",
    "from scipy.spatial.transform import Rotation as R\n",
    "from chdrft.display.base import TriangleActorBase\n",
    "\n",
    "from collections import deque\n",
    "from pydantic import BaseModel, Field\n",
    "from chdrft.sim.phys import *"
   ]
  },
  {
   "cell_type": "code",
   "execution_count": null,
   "id": "11d0a36e",
   "metadata": {},
   "outputs": [],
   "source": [
    "\n",
    "m0 = MoveDesc(worldvel=np.array([0,0,0]))\n",
    "r0 = RigidBody(\n",
    "    spec=SolidSpec.Box(1, 1, 1, 1),\n",
    "    local2world=Transform.From(),\n",
    "    move_desc=m0)\n",
    "r0.local2world.pos += [0,0,3]\n",
    "\n",
    "r1 = RigidBody(\n",
    "    spec=SolidSpec.Sphere(1, 1),\n",
    "    local2world=Transform.From(pos=[0, 0, -3]),\n",
    "    move_desc=m0)\n",
    "r2 = RigidBody.Compose([r1,r0])\n",
    "\n",
    "r00 = RigidBody(\n",
    "    spec=SolidSpec.Box(1, 1, 1, 1),\n",
    "    local2world=Transform.From(),\n",
    "    move_desc=m0)\n",
    "r00.local2world.pos += [0,0,3]\n",
    "\n",
    "r11 = RigidBody(\n",
    "    spec=SolidSpec.Sphere(1, 1),\n",
    "    local2world=Transform.From(pos=[0, 0, -3]),\n",
    "    move_desc=m0)\n",
    "r22 = RigidBody.Compose([r11,r00])\n",
    "r22.local2world.pos += [100,0, 0]\n",
    "\n",
    "r3 = RigidBody.Compose([r2, r22])\n",
    "\n",
    "\n",
    "\n"
   ]
  },
  {
   "cell_type": "code",
   "execution_count": null,
   "id": "343d85cc",
   "metadata": {},
   "outputs": [],
   "source": [
    "a = TriangleActorBase()\n",
    "a.add_meshio(path='/tmp/res.stl')\n",
    "a.build()\n",
    "oplt.plot(a.vispy_data.update(conf=A(mode='3D')))"
   ]
  },
  {
   "cell_type": "code",
   "execution_count": null,
   "id": "cff60ed7",
   "metadata": {},
   "outputs": [],
   "source": [
    "from vispy.geometry.meshdata import MeshData\n",
    "a = AABB([-0.5,-0.5,-0.5], [1,1,1]).surface_mesh\n",
    "oplt.plot(a.vispy_data.update(conf=A(mode='3D')))\n",
    "    \n",
    "a = SphereDesc()\n",
    "b = a.rejection_sampling(100)\n",
    "c = a.importance_sampling(100)\n",
    "TransformedMeshDesc(mesh=CubeDesc(), transform=Transform.From())\n",
    "a = SphereDesc()\n",
    "oplt.plot(a.surface_mesh().vispy_data.update(conf=A(mode='3D')))\n",
    "a.surface_mesh().trs"
   ]
  },
  {
   "cell_type": "code",
   "execution_count": null,
   "id": "8eb535be",
   "metadata": {},
   "outputs": [],
   "source": [
    "m0 = MoveDesc(worldvel=[0,0,0])\n",
    "r0 = RigidBody(\n",
    "    SolidSpec.Box(2, 1, 10, 5),\n",
    "    local2world=Transform.From(rot=R.from_euler('xy', [np.pi / 3, np.pi / 5])),\n",
    "    move_desc=m0)\n",
    "r1 = RigidBody(SolidSpec.Box(1, 1, 1, 1),\n",
    "               local2world=Transform.From(pos=[-10, 0, 0]),\n",
    "               move_desc=m0)\n",
    "r2 = RigidBody(SolidSpec.Sphere(1, 1),\n",
    "               local2world=Transform.From(pos=[1, 0, 0]),\n",
    "               move_desc=m0)\n",
    "r3 = RigidBody.Compose([r1, r0, r2])\n",
    "r3.spec, r1.spec, r2.spec\n",
    "for x in [r1, r2]:\n",
    "    print(x.world_inertial_tensor)"
   ]
  }
 ],
 "metadata": {
  "kernelspec": {
   "display_name": "env3",
   "language": "python",
   "name": "env3"
  },
  "language_info": {
   "codemirror_mode": {
    "name": "ipython",
    "version": 3
   },
   "file_extension": ".py",
   "mimetype": "text/x-python",
   "name": "python",
   "nbconvert_exporter": "python",
   "pygments_lexer": "ipython3",
   "version": "3.10.5"
  }
 },
 "nbformat": 4,
 "nbformat_minor": 5
}
