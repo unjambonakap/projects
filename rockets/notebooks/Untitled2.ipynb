{
 "cells": [
  {
   "cell_type": "code",
   "execution_count": 1,
   "id": "67d88dfe",
   "metadata": {},
   "outputs": [],
   "source": [
    "m = Matrix([[0,2,0], [0,0,3], [4,0,0]])"
   ]
  },
  {
   "cell_type": "code",
   "execution_count": 6,
   "id": "dd788d3d",
   "metadata": {},
   "outputs": [
    {
     "data": {
      "text/plain": [
       "[(2.884499140614817?, [(1, 1.442249570307409?, 1.386722548701270?)], 1),\n",
       " (-1.442249570307409? - 2.498049532966813?*I,\n",
       "  [(1, -0.7211247851537042? - 1.249024766483407?*I, -0.6933612743506347? + 1.200936955176003?*I)],\n",
       "  1),\n",
       " (-1.442249570307409? + 2.498049532966813?*I,\n",
       "  [(1, -0.7211247851537042? + 1.249024766483407?*I, -0.6933612743506347? - 1.200936955176003?*I)],\n",
       "  1)]"
      ]
     },
     "execution_count": 6,
     "metadata": {},
     "output_type": "execute_result"
    }
   ],
   "source": [
    "m.eigenvectors_right()"
   ]
  },
  {
   "cell_type": "code",
   "execution_count": 7,
   "id": "e5df8aa3",
   "metadata": {},
   "outputs": [
    {
     "data": {
      "text/plain": [
       "3.99993615000000"
      ]
     },
     "execution_count": 7,
     "metadata": {},
     "output_type": "execute_result"
    }
   ],
   "source": [
    "1.3867*2.8845\n"
   ]
  }
 ],
 "metadata": {
  "kernelspec": {
   "display_name": "SageMath 9.5",
   "language": "sage",
   "name": "sagemath"
  },
  "language_info": {
   "codemirror_mode": {
    "name": "ipython",
    "version": 3
   },
   "file_extension": ".py",
   "mimetype": "text/x-python",
   "name": "python",
   "nbconvert_exporter": "python",
   "pygments_lexer": "ipython3",
   "version": "3.10.2"
  }
 },
 "nbformat": 4,
 "nbformat_minor": 5
}
