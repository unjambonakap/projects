{
 "cells": [
  {
   "cell_type": "code",
   "execution_count": 1,
   "id": "15e97bf0",
   "metadata": {
    "ExecuteTime": {
     "end_time": "2022-09-23T13:49:14.011170Z",
     "start_time": "2022-09-23T13:49:11.672945Z"
    }
   },
   "outputs": [
    {
     "data": {
      "text/html": [
       "<style>.container { width:90% !important; }</style>"
      ],
      "text/plain": [
       "<IPython.core.display.HTML object>"
      ]
     },
     "metadata": {},
     "output_type": "display_data"
    },
    {
     "name": "stdout",
     "output_type": "stream",
     "text": [
      "Got exception No module named 'unicorn'\n",
      "Runnign magic qt5\n",
      "done\n",
      "False\n"
     ]
    }
   ],
   "source": [
    "init_jupyter()\n",
    "from dataclasses import dataclass, field\n",
    "import xarray as xr\n",
    "from typing import Callable, List\n",
    "from scipy.spatial.transform import Rotation as R\n",
    "from chdrft.display.base import TriangleActorBase\n",
    "\n",
    "from collections import deque\n",
    "from pydantic import BaseModel, Field\n",
    "from chdrft.sim.phys import *\n",
    "\n",
    "df_consts = pd.read_csv('../data/consts.csv')\n",
    "thrust_w = pd.read_csv('../data/ds_thrust_and_weight.csv')\n",
    "data = Z.FileFormatHelper.Read('../data/measures.pickle')"
   ]
  },
  {
   "cell_type": "code",
   "execution_count": 2,
   "id": "4093c356",
   "metadata": {
    "ExecuteTime": {
     "end_time": "2022-09-23T13:49:14.028145Z",
     "start_time": "2022-09-23T13:49:14.013355Z"
    }
   },
   "outputs": [
    {
     "data": {
      "text/plain": [
       "Vec3(data=array([0.000, 0.000, 0.500]))"
      ]
     },
     "execution_count": 2,
     "metadata": {},
     "output_type": "execute_result"
    }
   ],
   "source": [
    "\n",
    "sctx = SceneContext()\n",
    "ma = MoveDesc(local_vel=Vec3([0,0,0]), local_rotang=Vec3.X(), rotspeed=-3)\n",
    "ra = sctx.create_rb(spec=SolidSpec.Sphere(2, 0.5), name='Wheel')\n",
    "ral = RigidBodyLink(child=ra,\n",
    "               local2world=Transform.From(pos=[0,0,0], rot=R.from_rotvec(Vec3.X().data * 0)),\n",
    "               move_desc=ma,\n",
    "                      link_data=LinkData(static=False, pivot_rotaxis=Vec3.X()),\n",
    "                    )\n",
    "mzero = MoveDesc()\n",
    "rb = sctx.create_rb(spec=SolidSpec.Box(1,1,1,1), name='WheelCase')\n",
    "rbl = RigidBodyLink(child=rb,\n",
    "               local2world=Transform.From(pos=[-0, 0, 0], rot=R.from_rotvec(Vec3.X().data * 0)),\n",
    "               move_desc=mzero)\n",
    "wheel_system = sctx.compose([ral, rbl], name='WheelSys')\n",
    "\n",
    "wlink = RigidBodyLink(child=wheel_system,\n",
    "                move_desc =  MoveDesc(local_vel=Vec3([0,0,0]), local_rotang=Vec3.Z(), rotspeed=3),\n",
    "                local2world = Transform.From(pos=[1,2,3], rot=R.from_rotvec(Vec3.Y().data * 0)),\n",
    "                      link_data=LinkData(static=False, pivot_rotaxis=Vec3.Z()),\n",
    "                     )\n",
    "\n",
    "r0 = sctx.compose([wlink])\n",
    "r0l = RigidBodyLink.FixedLink(r0)\n",
    "px = r0.get_particles(3000)\n",
    "\n",
    "#px.plot()\n",
    "r0l.world_angular_momentum(only_static=False), r0l.world_linear_momentum(only_static=False)\n",
    "wlink.world_angular_momentum(1)\n",
    "ral.world_angular_momentum(1)\n",
    "wlink.world_angular_momentum(1)"
   ]
  },
  {
   "cell_type": "code",
   "execution_count": 3,
   "id": "5e758de2",
   "metadata": {
    "ExecuteTime": {
     "end_time": "2022-09-23T13:49:16.511288Z",
     "start_time": "2022-09-23T13:49:16.452552Z"
    }
   },
   "outputs": [
    {
     "name": "stdout",
     "output_type": "stream",
     "text": [
      "ON link.child=RigidBody(self.idx=0, self.name=None) d_rot_l_wl=Vec3(data=array([0.000, 0.000, 0.000])) h=Vec3(data=array([0.000, 0.000, 0.000])) d_h=Vec3(data=array([0.000, 0.000, 0.000])) lw=Transform(data=array([[1.000, 0.000, 0.000, 0.000],\n",
      "       [0.000, 1.000, 0.000, 0.000],\n",
      "       [0.000, 0.000, 1.000, 0.000],\n",
      "       [0.000, 0.000, 0.000, 1.000]])) rot_l_wl=Vec3(data=array([0.000, 0.000, 0.000]))\n",
      "ON link.child=RigidBody(self.idx=1, self.name='WheelSys') d_rot_l_wl=Vec3(data=array([0.000, 0.000, 0.000])) h=Vec3(data=array([0.000, 0.000, 0.500])) d_h=Vec3(data=array([0.000, 0.000, 0.000])) lw=Transform(data=array([[1.000, 0.000, 0.000, 0.000],\n",
      "       [0.000, 1.000, 0.000, 0.000],\n",
      "       [0.000, 0.000, 1.000, 0.000],\n",
      "       [0.000, 0.000, 0.000, 1.000]])) rot_l_wl=Vec3(data=array([0.000, 0.000, 3.000]))\n",
      "ON link.child=RigidBody(self.idx=2, self.name='Wheel') d_rot_l_wl=Vec3(data=array([0.000, 0.000, 0.000])) h=Vec3(data=array([-0.600, 0.000, 0.600])) d_h=Vec3(data=array([0.000, 0.000, 0.000])) lw=Transform(data=array([[1.000, 0.000, 0.000, 0.000],\n",
      "       [0.000, 1.000, 0.000, 0.000],\n",
      "       [0.000, 0.000, 1.000, 0.000],\n",
      "       [0.000, 0.000, 0.000, 1.000]])) rot_l_wl=Vec3(data=array([-3.000, 0.000, 3.000]))\n",
      "Update link.child=RigidBody(self.idx=2, self.name='Wheel'), res_torque=Vec3(data=array([-0.000, -0.000, -0.000])), mom=Vec3(data=array([-0.600, 0.000, 0.000])), mx=Transform(data=array([[1.000, 0.000, 0.000, 0.000],\n",
      "       [0.000, 1.000, 0.000, 0.000],\n",
      "       [0.000, 0.000, 1.000, 0.000],\n",
      "       [0.000, 0.000, 0.000, 1.000]])), nmom=Vec3(data=array([-0.600, 0.000, 0.000])), tensor=InertialTensor(data=array([[0.200, 0.000, 0.000],\n",
      "       [0.000, 0.200, 0.000],\n",
      "       [0.000, 0.000, 0.200]])), vel=Vec3(data=array([-3.000, 0.000, 0.000]))\n",
      "Update link.child=RigidBody(self.idx=1, self.name='WheelSys'), res_torque=Vec3(data=array([-0.000, -0.000, -0.000])), mom=Vec3(data=array([0.000, 0.000, 0.500])), mx=Transform(data=array([[1.000, 0.000, 0.000, 0.000],\n",
      "       [0.000, 1.000, 0.000, 0.000],\n",
      "       [0.000, 0.000, 1.000, 0.000],\n",
      "       [0.000, 0.000, 0.000, 1.000]])), nmom=Vec3(data=array([0.000, 0.000, 0.500])), tensor=InertialTensor(data=array([[0.167, 0.000, 0.000],\n",
      "       [0.000, 0.167, 0.000],\n",
      "       [0.000, 0.000, 0.167]])), vel=Vec3(data=array([0.000, 0.000, 3.000]))\n"
     ]
    }
   ],
   "source": [
    "tc = TorqueComputer()\n",
    "tc.update(0.1, r0l)\n",
    "\n",
    "\n"
   ]
  },
  {
   "cell_type": "code",
   "execution_count": null,
   "id": "6520528a",
   "metadata": {
    "ExecuteTime": {
     "start_time": "2022-09-23T13:42:34.005Z"
    }
   },
   "outputs": [],
   "source": [
    "%pdb"
   ]
  },
  {
   "cell_type": "code",
   "execution_count": 6,
   "id": "aecc197f",
   "metadata": {
    "ExecuteTime": {
     "end_time": "2022-09-23T13:40:57.486905Z",
     "start_time": "2022-09-23T13:40:57.481435Z"
    }
   },
   "outputs": [
    {
     "data": {
      "text/plain": [
       "LinkChainEntry(lw=Transform(data=array([[1.000, 0.000, 0.000, 0.000],\n",
       "       [0.000, 1.000, 0.000, 0.000],\n",
       "       [0.000, 0.000, 1.000, 0.000],\n",
       "       [0.000, 0.000, 0.000, 1.000]])), rot_w_wl=Vec3(data=array([0, 0, 0])))"
      ]
     },
     "execution_count": 6,
     "metadata": {},
     "output_type": "execute_result"
    }
   ],
   "source": [
    "LinkChainEntry(lw=Transform.From(), rot_w_wl=Vec3.Zero())\n"
   ]
  },
  {
   "cell_type": "code",
   "execution_count": 13,
   "id": "89cb17cf",
   "metadata": {
    "ExecuteTime": {
     "end_time": "2022-09-20T19:37:28.085865Z",
     "start_time": "2022-09-20T19:37:28.078977Z"
    }
   },
   "outputs": [
    {
     "name": "stderr",
     "output_type": "stream",
     "text": [
      "/home/benoit/programmation/hack/chdrft/sim/phys.py:116: RuntimeWarning: invalid value encountered in divide\n",
      "  return Vec3(a.data / Vec3.Natif(b))\n"
     ]
    },
    {
     "data": {
      "text/plain": [
       "Transform(data=array([[nan, nan, nan, nan],\n",
       "       [nan, nan, nan, nan],\n",
       "       [nan, nan, nan, nan],\n",
       "       [0.000, 0.000, 0.000, 1.000]]))"
      ]
     },
     "execution_count": 13,
     "metadata": {},
     "output_type": "execute_result"
    }
   ],
   "source": [
    "Vec3.Zero().exp_rot()"
   ]
  },
  {
   "cell_type": "code",
   "execution_count": 7,
   "id": "b9b0edb5",
   "metadata": {
    "ExecuteTime": {
     "end_time": "2022-09-20T19:31:24.711643Z",
     "start_time": "2022-09-20T19:31:24.707092Z"
    }
   },
   "outputs": [
    {
     "name": "stdout",
     "output_type": "stream",
     "text": [
      "Automatic pdb calling has been turned ON\n"
     ]
    }
   ],
   "source": [
    "%pdb"
   ]
  },
  {
   "cell_type": "code",
   "execution_count": null,
   "id": "f73afac9",
   "metadata": {
    "ExecuteTime": {
     "end_time": "2022-09-20T18:25:08.033641Z",
     "start_time": "2022-09-20T18:25:08.033622Z"
    }
   },
   "outputs": [],
   "source": [
    "%pdb off"
   ]
  },
  {
   "cell_type": "code",
   "execution_count": 6,
   "id": "2f5d0979",
   "metadata": {
    "ExecuteTime": {
     "end_time": "2022-09-16T18:38:47.494857Z",
     "start_time": "2022-09-16T18:38:47.466250Z"
    }
   },
   "outputs": [
    {
     "data": {
      "text/plain": [
       "(array([-0.000, 0.014, 0.005]), array([-0.599, 0.006, 1.102]))"
      ]
     },
     "execution_count": 6,
     "metadata": {},
     "output_type": "execute_result"
    }
   ],
   "source": [
    "px = r0.get_particles(30000, use_importance=0)\n",
    "px.linear_momentum(), px.angular_momentum()"
   ]
  },
  {
   "cell_type": "code",
   "execution_count": 12,
   "id": "1b6da8d0",
   "metadata": {
    "ExecuteTime": {
     "end_time": "2022-09-19T23:22:20.756020Z",
     "start_time": "2022-09-19T23:22:20.056470Z"
    }
   },
   "outputs": [
    {
     "name": "stdout",
     "output_type": "stream",
     "text": [
      "QAPP\n",
      "CLOSING  <PyQt5.QtGui.QCloseEvent object at 0x7f513bfd8550>\n"
     ]
    }
   ],
   "source": [
    "px.plot(fx=0.1, by_col=1)"
   ]
  },
  {
   "cell_type": "code",
   "execution_count": 39,
   "id": "b00a2377",
   "metadata": {
    "ExecuteTime": {
     "end_time": "2022-08-19T10:04:33.075065Z",
     "start_time": "2022-08-19T10:04:32.627239Z"
    }
   },
   "outputs": [
    {
     "name": "stdout",
     "output_type": "stream",
     "text": [
      "QAPP\n",
      "CLOSING  <PyQt5.QtGui.QCloseEvent object at 0x7f40e90dbb50>\n"
     ]
    }
   ],
   "source": [
    "wheel_system.get_particles(3000).plot()"
   ]
  },
  {
   "cell_type": "code",
   "execution_count": 2,
   "id": "f828394b",
   "metadata": {
    "ExecuteTime": {
     "end_time": "2022-08-18T18:11:51.334132Z",
     "start_time": "2022-08-18T18:11:51.328781Z"
    }
   },
   "outputs": [],
   "source": [
    "m0 = MoveDesc(worldvel=Vec3.Zero())\n",
    "r0 = RigidBody(spec=SolidSpec.Sphere(2, 1),\n",
    "               local2world=Transform.From(pos=[-2, 0, 0]),\n",
    "               move_desc=m0)\n",
    "r1 = RigidBody(spec=SolidSpec.Sphere(2, 1),\n",
    "               local2world=Transform.From(pos=[2, 0, 0]),\n",
    "               move_desc=m0)\n",
    "r2 = RigidBody.Compose([r1, r0])"
   ]
  },
  {
   "cell_type": "code",
   "execution_count": 4,
   "id": "d38bf186",
   "metadata": {
    "ExecuteTime": {
     "end_time": "2022-08-18T17:07:41.408122Z",
     "start_time": "2022-08-18T17:07:41.401679Z"
    }
   },
   "outputs": [
    {
     "data": {
      "text/plain": [
       "array([0.000, 2.400, 0.000])"
      ]
     },
     "execution_count": 4,
     "metadata": {},
     "output_type": "execute_result"
    }
   ],
   "source": [
    "r0.world_inertial_momentum.data @ ra.local2world.rot_R.apply((ra.move_desc.local_rotang * ra.move_desc.rotspeed).data)"
   ]
  },
  {
   "cell_type": "code",
   "execution_count": null,
   "id": "134a2e62",
   "metadata": {
    "ExecuteTime": {
     "end_time": "2022-08-18T17:22:04.814766Z",
     "start_time": "2022-08-18T17:22:04.464071Z"
    }
   },
   "outputs": [],
   "source": []
  },
  {
   "cell_type": "code",
   "execution_count": 39,
   "id": "7a19720a",
   "metadata": {
    "ExecuteTime": {
     "end_time": "2022-08-18T13:42:06.863007Z",
     "start_time": "2022-08-18T13:42:06.856788Z"
    }
   },
   "outputs": [
    {
     "data": {
      "text/plain": [
       "array([0.000, -3.000, 0.000])"
      ]
     },
     "execution_count": 39,
     "metadata": {},
     "output_type": "execute_result"
    }
   ],
   "source": [
    "ra.local2world.rot_R.apply((ra.move_desc.local_rotang * ra.move_desc.rotspeed).data)"
   ]
  },
  {
   "cell_type": "code",
   "execution_count": 6,
   "id": "a16f07af",
   "metadata": {
    "ExecuteTime": {
     "end_time": "2022-08-18T17:11:53.399705Z",
     "start_time": "2022-08-18T17:11:53.392991Z"
    }
   },
   "outputs": [
    {
     "data": {
      "text/plain": [
       "[]"
      ]
     },
     "execution_count": 6,
     "metadata": {},
     "output_type": "execute_result"
    }
   ],
   "source": [
    "r0.spec.desc.importance_sampling0(100)"
   ]
  },
  {
   "cell_type": "code",
   "execution_count": 2,
   "id": "4b2acb9b",
   "metadata": {
    "ExecuteTime": {
     "end_time": "2022-04-18T20:52:43.665417Z",
     "start_time": "2022-04-18T20:52:43.652111Z"
    }
   },
   "outputs": [],
   "source": [
    "class SimulEvent(Enum):\n",
    "    FORCE_GENERATOR = 'force_generator'\n",
    "    POST_FORCE_GENERATOR = 'post_force_generator'\n",
    "\n",
    "\n",
    "class ForceEntry(cmisc.PatchedModel):\n",
    "    pos: Vec3\n",
    "    f: Vec3\n",
    "    tid: int\n",
    "\n",
    "\n",
    "class SimulEnv(cmisc.PatchedModel):\n",
    "    id2force: dict\n",
    "    hooks: \"dict[SimulEvent, list[ObjectLogic]]\" = Field(\n",
    "        default_factory=lambda: defaultdict(list))\n",
    "    objs: \"list[ObjectLogic]\" = Field(default_factory=list)\n",
    "    rb2obj: dict = Field(default_factory=dict)\n",
    "\n",
    "    def add(self, obj: \"ObjectLogic\"):\n",
    "        self.objs.append(obj)\n",
    "        self.rb2obj[obj.rb] = obj\n",
    "\n",
    "    def add_to_updates(self, event, logic):\n",
    "        self.hooks[event].append(logic)\n",
    "\n",
    "\n",
    "class SimulBlock(cmisc.PatchedModel):\n",
    "    env: SimulEnv\n",
    "\n",
    "    def process(self):\n",
    "        forces = dict()\n",
    "        for x in self.env.hooks[SimulEvent.FORCE_GENERATOR]:\n",
    "            f = x.process_event(SimulEvent.FORCE_GENERATOR)\n",
    "            forces[x.id] = f\n",
    "        for x in self.env.hooks[SimulEvent.POST_FORCE_GENERATOR]:\n",
    "            x.process_event(SimulEvent.POST_FORCE_GENERATOR)\n",
    "\n",
    "\n",
    "class ObjectLogic(cmisc.PatchedModel):\n",
    "    obj: RigidBody = None\n",
    "    env: SimulEnv = None\n",
    "    spec: None = None\n",
    "    id: None = None\n",
    "\n",
    "    def register(self, env):\n",
    "        self.env = env\n",
    "        self._register()\n",
    "\n",
    "    def build(self):\n",
    "        self.id = self.spec.get_new_id()\n",
    "        self._build()\n",
    "\n",
    "    def _build(self):\n",
    "        pass\n",
    "\n",
    "    def _register(self):\n",
    "        pass\n",
    "\n",
    "    def _update(self, status, control):\n",
    "        pass\n",
    "\n",
    "    def process_event(self, event: SimulEvent):\n",
    "        pass\n",
    "\n",
    "    def update(self):\n",
    "        status = self.env.get_status(self)\n",
    "        ctrl = self.env.get_status(self)\n",
    "        self._update(status, ctrl)\n",
    "\n",
    "class ReactionWheelControl(cmisc.PatchedModel):\n",
    "class ReactionWheelStatus(cmisc.PatchedModel):\n",
    "    speed: float\n",
    "class ReactionWheelSpec(cmisc.PatchedModel):\n",
    "    ww: float\n",
    "    w0: float\n",
    "    \n",
    "    \n",
    "\n",
    "class ReactionWheel(ObjectLogic):\n",
    "\n",
    "    def __init__(self, w0, ww, i0, dims):\n",
    "        speed = 0\n",
    "        spec = SolidSpec(mass=w0 + ww, I_0=i0)\n",
    "        rb = RigidBody(spec=spec,\n",
    "                       local2world=Transform.From(),\n",
    "                       move_desc=MoveDesc(rotspeed=speed,\n",
    "                                          local_rotang=Vec3.Z()))\n",
    "        super().__init__(ww=ww, w0=w0, speed=speed, obj=rb, obj=rb)\n",
    "\n",
    "    def _register(self):\n",
    "        self.env.add_to_updates(SimulEnv.FORCE_GENERATOR, self)\n",
    "        self.env.add_to_updates(SimulEnv.POST_FORCE_GENERATOR, self)\n",
    "\n",
    "    def process_event(self, event: SimulEvent):\n",
    "        if event is SimulEvent.FORCE_GENERATOR:\n",
    "            pass\n",
    "        elif event is SimulEvent.POST_FORCE_GENERATOR:\n",
    "            pass\n",
    "\n",
    "\n",
    "class ThrusterStatus(cmisc.PatchedModel):\n",
    "    rotation: R = Field(default_factory=R.identity)\n",
    "    thrust: float = 0\n",
    "\n",
    "\n",
    "class ThrusterControl(cmisc.PatchedModel):\n",
    "    throttle: float\n",
    "    pistons: np.ndarray\n",
    "    override_status: ThrusterStatus = None\n",
    "\n",
    "\n",
    "class ThrusterDesc(cmisc.PatchedModel):\n",
    "    gimbal_max_ang: float = None\n",
    "    thrust_provider: float = None\n",
    "        \n",
    "    def compute_status(self, ctrl: ThrusterControl) -> ThrusterStatus:\n",
    "        if ctrl.override_status: return ctrl.override_status\n",
    "        assert 0\n",
    "\n",
    "\n",
    "class Thruster(ObjectLogic):\n",
    "    force_pos: Vec3 = None\n",
    "    force_direction: Vec3 = None\n",
    "    desc: ThrusterDesc\n",
    "    ctrl: ThrusterControl = None\n",
    "\n",
    "    status: ThrusterStatus = Field(default_factory=ThrusterStatus)\n",
    "\n",
    "    def _register(self):\n",
    "        self.env.add_to_updates(SimulEnv.FORCE_GENERATOR, self)\n",
    "\n",
    "    def process_event(self, event: SimulEvent):\n",
    "        if event is SimulEvent.FORCE_GENERATOR:\n",
    "            self.status = self.desc.compute_status(self.ctrl)\n",
    "            dir = self.status.rot * self.force_direction\n",
    "            fe = ForceEntry(pos=self.force_pos, f=dir * status.thrust)\n",
    "            return fe"
   ]
  },
  {
   "cell_type": "code",
   "execution_count": 5,
   "id": "e4ae9803",
   "metadata": {
    "ExecuteTime": {
     "end_time": "2022-04-16T23:04:30.494234Z",
     "start_time": "2022-04-16T23:04:30.484748Z"
    }
   },
   "outputs": [
    {
     "name": "stdout",
     "output_type": "stream",
     "text": [
      "result >>  data=array([[2518279.418, -192.460, -0.121],\n",
      "       [-192.462, 26550.047, -127.877],\n",
      "       [-0.122, -127.870, 2518283.418]])\n",
      "result >>  data=array([[2547292.581, -203.050, -0.081],\n",
      "       [-203.053, 26550.531, -135.186],\n",
      "       [-0.081, -135.185, 2547284.581]])\n",
      "result >>  data=array([[2535502.305, -82.553, -0.024],\n",
      "       [-82.562, 26553.469, -78.673],\n",
      "       [-0.024, -78.678, 2535498.305]])\n"
     ]
    }
   ],
   "source": [
    "def an2(df1):\n",
    "    i1, i2 = df1.inertia_tensor\n",
    "    p1, p2 = df1.tank2com\n",
    "    m1, m2 = df1.mass\n",
    "\n",
    "    p1 =np.array(p1)\n",
    "    p2 =np.array(p2)\n",
    "    i1 = np.reshape(i1, (3,3,))\n",
    "    i2 = np.reshape(i2, (3,3,))\n",
    "    i1 = InertialTensor(data=i1)\n",
    "    i2 = InertialTensor(data=i2)\n",
    "    ix = InertialTensor(data = i2.data - i1.shift_inertial_tensor(p2-p1, m1).data)\n",
    "    iy = ix.shift_inertial_tensor(-p2, -(m2-m1))\n",
    "    print('result >> ', iy)\n",
    "    \n",
    "def an3(p):\n",
    "    df1 = data.phys_measures[p:p+2]\n",
    "    an2(df1)\n",
    "an3(2)\n",
    "an3(3)\n",
    "an3(5)\n",
    "\n"
   ]
  },
  {
   "cell_type": "code",
   "execution_count": 7,
   "id": "b0eb02e6",
   "metadata": {},
   "outputs": [
    {
     "name": "stdout",
     "output_type": "stream",
     "text": [
      "QAPP\n",
      "laa\n",
      "CLOSING  <PyQt5.QtGui.QCloseEvent object at 0x7f1ea9177250>\n"
     ]
    }
   ],
   "source": [
    "a = TriangleActorBase()\n",
    "a.add_meshio(path='/tmp/res.stl')\n",
    "a.build()\n",
    "oplt.plot(a.vispy_data.update(conf=A(mode='3D')))"
   ]
  },
  {
   "cell_type": "code",
   "execution_count": 85,
   "id": "05ff1ac9",
   "metadata": {},
   "outputs": [
    {
     "name": "stdout",
     "output_type": "stream",
     "text": [
      "COM >>  [-0.000 0.000 0.000]\n"
     ]
    }
   ],
   "source": [
    "\n",
    "@dataclass\n",
    "class TankStatus:\n",
    "    volume: float\n",
    "    density: float\n",
    "\n",
    "@dataclass\n",
    "class ThrusterStatus:\n",
    "    thrust: float\n",
    "    rot: R\n",
    "        \n",
    "@dataclass\n",
    "class ComposedObjectLogic(ObjectLogic):\n",
    "    id2logic: dict = None\n",
    "    def build(self):\n",
    "        self.obj = RigidBody.Compose([x.obj for x in self.id2logic.values()])\n",
    "    def _register(self):\n",
    "        for x in self.id2logic.values(): x.register(self.env)\n",
    "    \n",
    "            \n",
    "            \n",
    "            \n",
    "@dataclass\n",
    "class EntitySpec:\n",
    "    instance_count: int = 0\n",
    "    @property\n",
    "    def name(self): return type(self).__name__\n",
    "    \n",
    "    \n",
    "    def get_new_id(self):\n",
    "        id = self.instance_count\n",
    "        self.instance_count += 1\n",
    "        return f'{self.name}_{id}'\n",
    "        \n",
    "    def build_logic(self): \n",
    "        res = self.get_cl()(**self.get_args())\n",
    "        res.spec = self\n",
    "        res.build()\n",
    "        return res\n",
    "    def get_cl(self): assert 0\n",
    "    def get_args(self): return {}\n",
    "    \n",
    "@dataclass\n",
    "class ObjEntitySpec(EntitySpec):\n",
    "    solid_spec: SolidSpec = None\n",
    "    def get_cl(self):\n",
    "        class ObjEntityLogic(ObjectLogic):\n",
    "            def _build(self_tl):\n",
    "                self_tl.obj = RigidBody(spec=self.solid_spec)\n",
    "                super()._build()\n",
    "        return ObjEntityLogic\n",
    "        \n",
    "    \n",
    "@dataclass\n",
    "class EntitySpecChild:\n",
    "    spec : EntitySpec\n",
    "    tsf: Transform\n",
    "        \n",
    "    \n",
    "    \n",
    "@dataclass\n",
    "class ComposeSpec(EntitySpec):\n",
    "    instances: list[EntitySpecChild] = None\n",
    "        \n",
    "    def build_id2logic(self):\n",
    "        res = {}\n",
    "        for x in self.instances:\n",
    "            lx = x.spec.build_logic()\n",
    "            lx.obj.local2world = x.tsf\n",
    "            res[lx.id] = lx\n",
    "        return res\n",
    "        \n",
    "    def get_cl(self): return ComposedObjectLogic\n",
    "    def get_args(self):\n",
    "        a = dict(id2logic=self.build_id2logic())\n",
    "        a.update(super().get_args())\n",
    "        return a\n",
    "        \n",
    "\n",
    "@dataclass\n",
    "class ThrusterSpec(ObjEntitySpec):\n",
    "    force_pos: Vec3 = None\n",
    "    force_direction: Vec3 = None\n",
    "    gimbal_max_ang: float = None\n",
    "    thrust_provider: float = None\n",
    "    \n",
    "        \n",
    "    def get_cl(self):\n",
    "        class ThrusterLogic(super().get_cl()):\n",
    "                \n",
    "            def _update(self_tl, status: ThrusterStatus, control):\n",
    "                dir = status.rot * self.force_direction\n",
    "                self_tl.env.update_force(self_tl, ForceEntry(pos=self.force_pos, f=dir * status.thrust))\n",
    "            def _register(self_tl):\n",
    "                self_tl.env.add_to_udpates(self_tl)\n",
    "                                        \n",
    "            \n",
    "        return ThrusterLogic\n",
    "    \n",
    "    \n",
    "thruster_simple = ThrusterSpec(force_pos=Vec3, force_direction=-Vec3.Z(), gimbal_max_ang=np.deg2rad(2), \n",
    "                            thrust_provider=lambda throttle: throttle * 1000,\n",
    "                            solid_spec = SolidSpec.Box(10, 1, 1, 1))\n",
    "\n",
    "\n",
    "thruster_instances = []\n",
    "def circle_pos(ang, r):\n",
    "    return Vec3([np.cos(ang), np.sin(ang), 0]) * r\n",
    "for i in range(4):\n",
    "    thruster_instances.append(EntitySpecChild(spec=thruster_simple,  tsf=Transform.From(pos=circle_pos(np.pi*2/4*i, 5))))\n",
    "thrusters_desc = ComposeSpec(instances=thruster_instances)\n",
    "bl = thrusters_desc.build_logic()\n",
    "\n",
    "@dataclass\n",
    "class RocketSpec:\n",
    "    thrust_curve= None \n",
    "    prop_density: float\n",
    "    thrust_specs: list\n",
    "        \n",
    "        \n",
    "    def build_logic(self):\n",
    "        class RocketLogic(ComposedObjectLogic):\n",
    "            def _build(self_tl):\n",
    "                self.fill_id2logic(self_tl.id2logic)\n",
    "                super()._build()\n",
    "    \n"
   ]
  },
  {
   "cell_type": "code",
   "execution_count": 94,
   "id": "f4b92388",
   "metadata": {},
   "outputs": [],
   "source": [
    "pts, weights = bl.obj.spec.desc.importance_sampling(10000)"
   ]
  },
  {
   "cell_type": "code",
   "execution_count": 90,
   "id": "f06da063",
   "metadata": {},
   "outputs": [
    {
     "name": "stdout",
     "output_type": "stream",
     "text": [
      "fuu 4\n"
     ]
    },
    {
     "data": {
      "text/plain": [
       "(InertialTensor(data=array([[16.785, -3.181, -6.366],\n",
       "        [-3.181, 95.033, -4.380],\n",
       "        [-6.366, -4.380, 93.404]])),\n",
       " InertialTensor(data=array([[16.779, -3.181, -6.360],\n",
       "        [-3.181, 95.025, -4.379],\n",
       "        [-6.360, -4.379, 93.396]])))"
      ]
     },
     "execution_count": 90,
     "metadata": {},
     "output_type": "execute_result"
    }
   ],
   "source": [
    "tg = r3\n",
    "if 0:\n",
    "    pts = tg.spec.desc.rejection_sampling(1000000)\n",
    "    weights=None\n",
    "else:\n",
    "    pts,weights = tg.spec.desc.importance_sampling(10000000)\n",
    "ix = InertialTensor.FromPoints(pts, weights=weights, com=False, mass=tg.spec.mass)\n",
    "ix, tg.world_inertial_tensor"
   ]
  },
  {
   "cell_type": "code",
   "execution_count": 95,
   "id": "49224759",
   "metadata": {},
   "outputs": [
    {
     "name": "stdout",
     "output_type": "stream",
     "text": [
      "QAPP\n",
      "CLOSING  <PyQt5.QtGui.QCloseEvent object at 0x7f5924209870>\n"
     ]
    }
   ],
   "source": [
    "#pts,weights = tg.spec.desc.importance_sampling(100000)\n",
    "viridis = K.vispy_utils.get_colormap('viridis')\n",
    "cols = viridis.map(weights/max(weights))\n",
    "oplt.plot(A(points=pts, conf=A(mode='3D'), points_color=cols))"
   ]
  },
  {
   "cell_type": "code",
   "execution_count": 80,
   "id": "c4500d10",
   "metadata": {},
   "outputs": [
    {
     "data": {
      "text/plain": [
       "InertialTensor(data=array([[0.401, 0.002, 0.000],\n",
       "       [0.002, 0.400, 0.001],\n",
       "       [0.000, 0.001, 0.400]]))"
      ]
     },
     "execution_count": 80,
     "metadata": {},
     "output_type": "execute_result"
    }
   ],
   "source": [
    "r1 = RigidBody(SolidSpec.Sphere(1, 1), local2world=Transform.From(), worldvel=[0,0,0])\n",
    "pts = r1.spec.desc.rejection_sampling(10000)\n",
    "pts,weights = r1.spec.desc.importance_sampling(100000)\n",
    "ix = InertialTensor.FromPoints(pts, weights=weights)\n",
    "ix"
   ]
  },
  {
   "cell_type": "code",
   "execution_count": 152,
   "id": "c040aeba",
   "metadata": {},
   "outputs": [
    {
     "data": {
      "text/plain": [
       "(2.666666666666667,\n",
       " InertialTensor(data=array([[0.000, 0.000, 0.000],\n",
       "        [0.000, 2.667, 0.000],\n",
       "        [0.000, 0.000, 2.667]])))"
      ]
     },
     "execution_count": 152,
     "metadata": {},
     "output_type": "execute_result"
    }
   ],
   "source": [
    "pts = [\n",
    "    [0,0,0],\n",
    "    [2,0,0],\n",
    "    [2,0,0],\n",
    "]\n",
    "pts = np.array(pts)\n",
    "ix = InertialTensor.FromPoints(pts, weights=np.array([1,1,1]))\n",
    "ix.around([0,1,0]), ix"
   ]
  },
  {
   "cell_type": "code",
   "execution_count": 116,
   "id": "9067d1a2",
   "metadata": {},
   "outputs": [
    {
     "data": {
      "text/plain": [
       "2.666666666666667"
      ]
     },
     "execution_count": 116,
     "metadata": {},
     "output_type": "execute_result"
    }
   ],
   "source": [
    "r1 = RigidBody(SolidSpec.Point(1), local2world=Transform.From(pos=[0,0,0]), worldvel=[0,0,0])\n",
    "r2 = RigidBody(SolidSpec.Point(2), local2world=Transform.From(pos=[2,0,0]), worldvel=[0,0,0])\n",
    "rx = RigidBody.Compose([r1,r2])\n",
    "rx.spec.I_0.around([0,1,0])"
   ]
  },
  {
   "cell_type": "code",
   "execution_count": 129,
   "id": "2fe0fe1d",
   "metadata": {},
   "outputs": [
    {
     "data": {
      "text/plain": [
       "SolidSpec(mass=3, I_0=InertialTensor(data=array([[0.000, 0.000, 0.000],\n",
       "       [0.000, 2.667, 0.000],\n",
       "       [0.000, 0.000, 0.000]])))"
      ]
     },
     "execution_count": 129,
     "metadata": {},
     "output_type": "execute_result"
    }
   ],
   "source": [
    "rx.spec"
   ]
  },
  {
   "cell_type": "code",
   "execution_count": 117,
   "id": "4a46913b",
   "metadata": {},
   "outputs": [
    {
     "data": {
      "text/plain": [
       "InertialTensor(data=array([[0.000, 0.000, 0.000],\n",
       "       [0.000, 2.667, 0.000],\n",
       "       [0.000, 0.000, 0.000]]))"
      ]
     },
     "execution_count": 117,
     "metadata": {},
     "output_type": "execute_result"
    }
   ],
   "source": [
    "\n",
    "rx.spec.I_0"
   ]
  },
  {
   "cell_type": "code",
   "execution_count": 93,
   "id": "916f55c2",
   "metadata": {},
   "outputs": [
    {
     "data": {
      "text/plain": [
       "array([[6.000, 0.000, 0.000],\n",
       "       [0.000, 6.000, 0.000],\n",
       "       [0.000, 0.000, 6.000]])"
      ]
     },
     "execution_count": 93,
     "metadata": {},
     "output_type": "execute_result"
    }
   ],
   "source": [
    "np.einsum('i,jk->jk', [1,2,3], np.identity(3))"
   ]
  },
  {
   "cell_type": "code",
   "execution_count": 14,
   "id": "313c5846",
   "metadata": {},
   "outputs": [
    {
     "ename": "AttributeError",
     "evalue": "Shit attribute phys_data",
     "output_type": "error",
     "traceback": [
      "\u001b[0;31m---------------------------------------------------------------------------\u001b[0m",
      "\u001b[0;31mKeyError\u001b[0m                                  Traceback (most recent call last)",
      "File \u001b[0;32m~/programmation/hack/chdrft/utils/misc.py:760\u001b[0m, in \u001b[0;36mAttributize.__getattr__\u001b[0;34m(self, name)\u001b[0m\n\u001b[1;32m    759\u001b[0m \u001b[38;5;28;01mtry\u001b[39;00m:\n\u001b[0;32m--> 760\u001b[0m   \u001b[38;5;28;01mreturn\u001b[39;00m \u001b[38;5;28;43mself\u001b[39;49m\u001b[38;5;241;43m.\u001b[39;49m\u001b[43m_elem\u001b[49m\u001b[43m[\u001b[49m\u001b[43mname\u001b[49m\u001b[43m]\u001b[49m\n\u001b[1;32m    761\u001b[0m \u001b[38;5;28;01mexcept\u001b[39;00m \u001b[38;5;167;01mKeyError\u001b[39;00m:\n",
      "\u001b[0;31mKeyError\u001b[0m: 'phys_data'",
      "\nDuring handling of the above exception, another exception occurred:\n",
      "\u001b[0;31mAttributeError\u001b[0m                            Traceback (most recent call last)",
      "Input \u001b[0;32mIn [14]\u001b[0m, in \u001b[0;36m<module>\u001b[0;34m\u001b[0m\n\u001b[1;32m     96\u001b[0m s0 \u001b[38;5;241m=\u001b[39m A(pos\u001b[38;5;241m=\u001b[39mnp\u001b[38;5;241m.\u001b[39marray([\u001b[38;5;241m0\u001b[39m,\u001b[38;5;241m0\u001b[39m,\u001b[38;5;241m0\u001b[39m]), v\u001b[38;5;241m=\u001b[39mnp\u001b[38;5;241m.\u001b[39marray([\u001b[38;5;241m0\u001b[39m,\u001b[38;5;241m0\u001b[39m,\u001b[38;5;241m0\u001b[39m]), rot\u001b[38;5;241m=\u001b[39mR\u001b[38;5;241m.\u001b[39midentity(), inertialm0\u001b[38;5;241m=\u001b[39m\u001b[38;5;241m1000\u001b[39m )\n\u001b[1;32m     97\u001b[0m ctrl0 \u001b[38;5;241m=\u001b[39m A(thrust\u001b[38;5;241m=\u001b[39m\u001b[38;5;241m1\u001b[39m, thrust_vector\u001b[38;5;241m=\u001b[39mnp\u001b[38;5;241m.\u001b[39marray([\u001b[38;5;241m0\u001b[39m,\u001b[38;5;241m0\u001b[39m]))\n\u001b[0;32m---> 98\u001b[0m \u001b[43msx\u001b[49m\u001b[38;5;241;43m.\u001b[39;49m\u001b[43menv\u001b[49m\u001b[38;5;241;43m.\u001b[39;49m\u001b[43mdata\u001b[49m\u001b[38;5;241;43m.\u001b[39;49m\u001b[43mphys_data\u001b[49m\u001b[38;5;241m.\u001b[39madd(\u001b[38;5;241m0\u001b[39m, s0) \n\u001b[1;32m     99\u001b[0m sx\u001b[38;5;241m.\u001b[39menv\u001b[38;5;241m.\u001b[39mdata\u001b[38;5;241m.\u001b[39mphys_pos\u001b[38;5;241m.\u001b[39madd(\u001b[38;5;241m0\u001b[39m, [\u001b[38;5;241m0\u001b[39m, \u001b[38;5;241m0\u001b[39m, \u001b[38;5;241m0\u001b[39m])\n\u001b[1;32m    101\u001b[0m sx\u001b[38;5;241m.\u001b[39mtick()\n",
      "File \u001b[0;32m~/programmation/hack/chdrft/utils/misc.py:768\u001b[0m, in \u001b[0;36mAttributize.__getattr__\u001b[0;34m(self, name)\u001b[0m\n\u001b[1;32m    766\u001b[0m       \u001b[38;5;28mself\u001b[39m\u001b[38;5;241m.\u001b[39m_elem[name] \u001b[38;5;241m=\u001b[39m res[\u001b[38;5;241m0\u001b[39m]\n\u001b[1;32m    767\u001b[0m     \u001b[38;5;28;01mreturn\u001b[39;00m res[\u001b[38;5;241m0\u001b[39m]\n\u001b[0;32m--> 768\u001b[0m \u001b[38;5;28;01mraise\u001b[39;00m \u001b[38;5;167;01mAttributeError\u001b[39;00m(\u001b[38;5;124m'\u001b[39m\u001b[38;5;124mShit attribute \u001b[39m\u001b[38;5;132;01m%s\u001b[39;00m\u001b[38;5;124m'\u001b[39m \u001b[38;5;241m%\u001b[39m name)\n",
      "\u001b[0;31mAttributeError\u001b[0m: Shit attribute phys_data"
     ]
    }
   ],
   "source": [
    "\n",
    "@dataclass\n",
    "class SimulDataEntry:\n",
    "    by_t: list = field(default_factory=list)\n",
    "    tlist: list = field(default_factory=list)\n",
    "    lim :int = 10\n",
    "    @property\n",
    "    def last(self): return self.by_t[-1]\n",
    "        \n",
    "    def add(self, tid, v):\n",
    "        self.tlist.append(tid)\n",
    "        self.by_t.append(v)\n",
    "    @property\n",
    "    def as_xarray(self):\n",
    "        return xr.DataArray(self.by_t)\n",
    "        \n",
    "@dataclass\n",
    "class SimulEnv:\n",
    "    ctrl: A = field(default_factory=A)\n",
    "    consts: A = field(default_factory=A)\n",
    "    data: A = field(default_factory=lambda: A(other=lambda _: SimulDataEntry()))\n",
    "    \n",
    "class Block:\n",
    "    def process_impl(self, env: SimulEnv):\n",
    "        assert 0\n",
    "    \n",
    "    def process(self, env : SimulEnv):\n",
    "        self.process_impl(env)\n",
    "        pass\n",
    "@dataclass\n",
    "class BlockFunc:\n",
    "    func: Callable[[SimulEnv], None]\n",
    "    def process_impl(self, env):\n",
    "        self.func(env)\n",
    "        \n",
    "@dataclass\n",
    "class ForwardBlock(Block):\n",
    "    block: Block\n",
    "    def cond(self, env):\n",
    "        assert 0\n",
    "    def process_impl(self, env):\n",
    "        if self.cond(env):\n",
    "            self.block.process(env)\n",
    "        \n",
    "@dataclass\n",
    "class AggBlock(Block):\n",
    "    blocks: List[Block]\n",
    "    def process_impl(self, env):\n",
    "        for x in self.blocks:\n",
    "            x.process(env)\n",
    "            \n",
    "@dataclass\n",
    "class SkipBlock(ForwardBlock):\n",
    "    every: int\n",
    "    current: int = 0\n",
    "    def cond(self, env):\n",
    "        self.current += 1\n",
    "        if self.current == self.every:\n",
    "            self.current = 0\n",
    "            return True\n",
    "        return False\n",
    "        \n",
    "\n",
    "@dataclass\n",
    "class Simulator:\n",
    "    block: Block\n",
    "    env: SimulEnv = field(default_factory=SimulEnv)\n",
    "        \n",
    "    def tick(self):\n",
    "        self.block.process(self.env)\n",
    "        \n",
    "class RocketPhys(Block):\n",
    "    def process_impl(self, env:  SimulEnv):\n",
    "        env.data.phys_data.last\n",
    "        pass\n",
    "    \n",
    "class RocketSensors(Block):\n",
    "    def process_impl(self, env):\n",
    "        pass\n",
    "    \n",
    "class RocketControls(Block):\n",
    "    def process_impl(self, env):\n",
    "        pass\n",
    "\n",
    "        \n",
    "consts = A(mass0=df_consts.mass0[0], diameter=df_consts.diameter[0], thrust_weight=thrust_w)\n",
    "        \n",
    "phys = RocketPhys()\n",
    "sensors = RocketSensors()\n",
    "ctrls = RocketControls()\n",
    "phys = SkipBlock(every=1, block=phys)\n",
    "ctrls = SkipBlock(every=10, block=ctrls)\n",
    "main_block = AggBlock(blocks=[phys, sensors, ctrls])\n",
    "sx = Simulator(main_block)\n",
    "\n",
    "\n",
    "s0 = A(pos=np.array([0,0,0]), v=np.array([0,0,0]), rot=R.identity(), inertialm0=1000 )\n",
    "ctrl0 = A(thrust=1, thrust_vector=np.array([0,0]))\n",
    "sx.env.data.phys_data.add(0, s0) \n",
    "sx.env.data.phys_pos.add(0, [0, 0, 0])\n",
    "\n",
    "sx.tick()\n",
    "    \n",
    "    \n"
   ]
  }
 ],
 "metadata": {
  "kernelspec": {
   "display_name": "env3",
   "language": "python",
   "name": "env3"
  },
  "language_info": {
   "codemirror_mode": {
    "name": "ipython",
    "version": 3
   },
   "file_extension": ".py",
   "mimetype": "text/x-python",
   "name": "python",
   "nbconvert_exporter": "python",
   "pygments_lexer": "ipython3",
   "version": "3.10.5"
  }
 },
 "nbformat": 4,
 "nbformat_minor": 5
}
