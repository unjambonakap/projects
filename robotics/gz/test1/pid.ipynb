{
 "cells": [
  {
   "cell_type": "code",
   "execution_count": 1,
   "id": "36bde0cd",
   "metadata": {
    "ExecuteTime": {
     "end_time": "2023-04-15T21:57:23.894828Z",
     "start_time": "2023-04-15T21:57:20.632144Z"
    }
   },
   "outputs": [
    {
     "data": {
      "text/html": [
       "<style>.container { width:90% !important; }</style>"
      ],
      "text/plain": [
       "<IPython.core.display.HTML object>"
      ]
     },
     "metadata": {},
     "output_type": "display_data"
    },
    {
     "name": "stdout",
     "output_type": "stream",
     "text": [
      "Runnign magic qt5\n",
      "done\n",
      "False\n"
     ]
    },
    {
     "name": "stderr",
     "output_type": "stream",
     "text": [
      "/home/benoit/.virtualenvs/env3.10/lib/python3.10/site-packages/pygmo/__init__.py:113: DeprecationWarning: invalid escape sequence '\\l'\n",
      "  \"\"\"\n"
     ]
    },
    {
     "name": "stdout",
     "output_type": "stream",
     "text": [
      "Registering [gz_sim_components.Environment] = 1433709137331907826\n",
      "Registering [gz_sim_components.CanonicalLink] = 1899862455720879825\n",
      "Registering [gz_sim_components.ModelCanonicalLink] = 2958716330662201668\n",
      "Registering [gz_sim_components.ChildLinkName] = 18008977594029503042\n",
      "Registering [gz_sim_components.Joint] = 18371370647956686351\n",
      "Registering [gz_sim_components.Link] = 14769025567331365649\n",
      "Registering [gz_sim_components.Name] = 17448053894352336366\n",
      "Registering [gz_sim_components.ParentEntity] = 50322453549405034\n",
      "Registering [gz_sim_components.ParentLinkName] = 11426747106486107602\n",
      "Registering [gz_sim_components.Recreate] = 6579594356939739964\n",
      "Registering [gz_sim_components.World] = 5975074572899138571\n",
      "Registering [gz_sim_components.WorldSdf] = 18076026013665852038\n",
      "Registering [gz_sim_components.Actor] = 11808826388832216226\n",
      "Registering [gz_sim_components.AnimationTime] = 17600374756001327636\n",
      "Registering [gz_sim_components.AnimationName] = 11035508405656207414\n",
      "Registering [gz_sim_components.Atmosphere] = 220821703896017421\n",
      "Registering [gz_sim_components.Geometry] = 7625436923667245673\n",
      "Registering [gz_sim_components.Gravity] = 4631933300314817085\n",
      "Registering [gz_sim_components.GravityCmd] = 11011942522384491427\n",
      "Registering [gz_sim_components.Level] = 17899167526549320469\n",
      "Registering [gz_sim_components.DefaultLevel] = 7294427867177050164\n",
      "Registering [gz_sim_components.Model] = 15483128506684855746\n",
      "Registering [gz_sim_components.ModelSdf] = 2204389715118210201\n",
      "Registering [gz_sim_components.Light] = 599184545698878551\n",
      "Registering [gz_sim_components.LevelBuffer] = 4611678802180164875\n",
      "Registering [gz_sim_components.LevelEntityNames] = 241501265637210950\n",
      "Registering [gz_sim_components.LinearVelocity] = 5912968594336238795\n",
      "Registering [gz_sim_components.WorldLinearVelocity] = 6822503852486540549\n",
      "Registering [gz_sim_components.LinearVelocitySeed] = 4197793390256169782\n",
      "Registering [gz_sim_components.WorldLinearVelocitySeed] = 12035440626030541356\n",
      "Registering [gz_sim_components.MagneticField] = 16662369809891906389\n",
      "Registering [gz_sim_components.Performer] = 13696581014082735693\n",
      "Registering [gz_sim_components.PerformerLevels] = 1677806966477973010\n",
      "Registering [gz_sim_components.Physics] = 14667792357059397098\n",
      "Registering [gz_sim_components.PhysicsCollisionDetector] = 16820492502269950860\n",
      "Registering [gz_sim_components.PhysicsSolver] = 4319845713902148453\n",
      "Registering [gz_sim_components.PhysicsEnginePlugin] = 5105000996105513635\n",
      "Registering [gz_sim_components.Pose] = 10918813941671183356\n",
      "Registering [gz_sim_components.WorldPose] = 10071257798498578074\n",
      "Registering [gz_sim_components.TrajectoryPose] = 12970558459402098973\n",
      "Registering [gz_sim_components.RenderEngineGuiPlugin] = 15279893383907013625\n",
      "Registering [gz_sim_components.RenderEngineServerHeadless] = 1986897847140768691\n",
      "Registering [gz_sim_components.RenderEngineServerPlugin] = 6843495338011676091\n",
      "Registering [gz_sim_components.Scene] = 13410109885883188795\n",
      "Registering [gz_sim_components.SphericalCoordinates] = 2448771481260561039\n",
      "Registering [gz_sim_components.Wind] = 17419187034320976751\n",
      "Registering [gz_sim_components.AngularAcceleration] = 852318434424552937\n",
      "Registering [gz_sim_components.WorldAngularAcceleration] = 15328668312996220995\n",
      "Registering [gz_sim_components.AngularVelocity] = 9606326820353618454\n",
      "Registering [gz_sim_components.WorldAngularVelocity] = 16088775401173940144\n",
      "Registering [gz_sim_components.AngularVelocityCmd] = 282764863625597542\n",
      "Registering [gz_sim_components.WorldAngularVelocityCmd] = 3640658322543795448\n",
      "Registering [gz_sim_components.Collision] = 4807123767067670551\n",
      "Registering [gz_sim_components.CollisionElement] = 17454713559522666297\n",
      "Registering [gz_sim_components.EnableContactSurfaceCustomization] = 4504013238583313190\n",
      "Registering [gz_sim_components.ExternalWorldWrenchCmd] = 12368206067513309037\n",
      "Registering [gz_sim_components.Inertial] = 10878961313537687887\n",
      "Registering [gz_sim_components.InertialCmd] = 7371529527479512029\n",
      "Registering [gz_sim_components.LinearAcceleration] = 16575673239754959628\n",
      "Registering [gz_sim_components.WorldLinearAcceleration] = 12754542100093314054\n",
      "Registering [gz_sim_components.LinearVelocityCmd] = 11544794805675284369\n",
      "Registering [gz_sim_components.WorldLinearVelocityCmd] = 14390400116072606475\n",
      "Registering [gz_sim_components.Visual] = 18276712176670506881\n",
      "Registering [gz_sim_components.VisualPlugin] = 14145595036858916582\n",
      "Registering [gz_sim_components.WindMode] = 13462488463176318088\n",
      "Registering [gz_sim_components.WorldPoseCmd] = 13867657469248473970\n",
      "Registering [gz_sim_components.SelfCollide] = 514273962667148627\n",
      "Registering [gz_sim_components.SourceFilePath] = 12929189376202281101\n",
      "Registering [gz_sim_components.Static] = 1448650493567121171\n",
      "Registering [gz_sim_components.AirPressureSensor] = 1487123851805453106\n",
      "Registering [gz_sim_components.Altimeter] = 15379628520171398740\n",
      "Registering [gz_sim_components.BoundingBoxCamera] = 1364319980281505473\n",
      "Registering [gz_sim_components.Camera] = 9281467700984832870\n",
      "Registering [gz_sim_components.CastShadows] = 665776623189629951\n",
      "Registering [gz_sim_components.ContactSensor] = 3602405109882095797\n",
      "Registering [gz_sim_components.CustomSensor] = 2000820740052980224\n",
      "Registering [gz_sim_components.DepthCamera] = 5495745227999316721\n",
      "Registering [gz_sim_components.ForceTorque] = 16589874149759306170\n",
      "Registering [gz_sim_components.GpuLidar] = 7669270653852587117\n",
      "Registering [gz_sim_components.Imu] = 4037604310053872914\n",
      "Registering [gz_sim_components.JointAxis] = 2137893832496196346\n",
      "Registering [gz_sim_components.JointAxis2] = 15657048239925211608\n",
      "Registering [gz_sim_components.JointType] = 10801534647923567511\n",
      "Registering [gz_sim_components.LaserRetro] = 14980940246357333588\n",
      "Registering [gz_sim_components.Lidar] = 1170630425539878573\n",
      "Registering [gz_sim_components.LightType] = 14593758188451342383\n",
      "Registering [gz_sim_components.LogicalCamera] = 16816050724677523355\n",
      "Registering [gz_sim_components.Magnetometer] = 586460592733032745\n",
      "Registering [gz_sim_components.Material] = 5653939253203759928\n",
      "Registering [gz_sim_components.NavSat] = 7236786947914523902\n",
      "Registering [gz_sim_components.ParticleEmitter] = 18408621163937256471\n",
      "Registering [gz_sim_components.ParticleEmitterCmd] = 17660249345661799333\n",
      "Registering [gz_sim_components.RgbdCamera] = 11214227122823531071\n",
      "Registering [gz_sim_components.SegmentationCamera] = 13497164862499223264\n",
      "Registering [gz_sim_components.Sensor] = 5501240588895982851\n",
      "Registering [gz_sim_components.SensorTopic] = 13120067500290942462\n",
      "Registering [gz_sim_components.SystemPluginInfo] = 9904571861011273795\n",
      "Registering [gz_sim_components.ThermalCamera] = 5236100716033474535\n",
      "Registering [gz_sim_components.ThreadPitch] = 11951549306545318421\n",
      "Registering [gz_sim_components.Transparency] = 5322000723261735567\n",
      "Registering [gz_sim_components.VisibilityFlags] = 12618573023628321940\n",
      "Registering [gz_sim_components.VisibilityMask] = 7380561703281666065\n",
      "Registering [gz_sim_components.WideAngleCamera] = 3522680712881930650\n",
      "Registering [gz_sim_components.PhysicsCmd] = 14613243416967565026\n",
      "Registering [gz_sim_components.PerformerAffinity] = 1999914709781477601\n"
     ]
    }
   ],
   "source": [
    "from chdrft.config.env import init_jupyter\n",
    "\n",
    "init_jupyter()\n",
    "from chdrft.sim.traj import tgo\n",
    "from chdrft.sim.gz import helper\n",
    "from chdrft.sim.rb import rb_gen\n",
    "from chdrft.sim.rb import base as rb_base\n",
    "from chdrft.sim.rb.base import Vec3, Transform\n",
    "from chdrft.sim.rb import scenes\n",
    "import seaborn as sns\n",
    "import datetime\n",
    "from gz import sim7, math7\n",
    "from chdrft.gnc import ctrl\n",
    "import chdrft.dsp.utils as dsp_utils"
   ]
  },
  {
   "cell_type": "code",
   "execution_count": 64,
   "id": "c0d70a56",
   "metadata": {
    "ExecuteTime": {
     "end_time": "2023-04-16T16:49:24.998426Z",
     "start_time": "2023-04-16T16:49:24.989776Z"
    }
   },
   "outputs": [
    {
     "data": {
      "text/plain": [
       "V([0.1045285, -0.1039558, 0.9890738,])"
      ]
     },
     "execution_count": 64,
     "metadata": {},
     "output_type": "execute_result"
    }
   ],
   "source": [
    "ang = np.pi/30\n",
    "target_z = Vec3([0.01, -0.01, 1]).uvec\n",
    "target_z = rb_base.Transform.From(rot=rb_base.R.from_euler('yx', np.ones(2) *ang)) @ Vec3.Z()"
   ]
  },
  {
   "cell_type": "code",
   "execution_count": 113,
   "id": "57587222",
   "metadata": {
    "ExecuteTime": {
     "end_time": "2023-04-16T17:08:51.471833Z",
     "start_time": "2023-04-16T17:08:47.533674Z"
    }
   },
   "outputs": [
    {
     "name": "stdout",
     "output_type": "stream",
     "text": [
      "lease2\n",
      "\u001b[1;36m[Dbg] [SimulationRunner.cc:540] \u001b[0m\u001b[1;36mExiting postupdate worker thread (\u001b[0m\u001b[1;36m0\u001b[0m\u001b[1;36m)\u001b[0m\u001b[1;36m\u001b[0m\n",
      "\u001b[1;36m[Dbg] [SimulationRunner.cc:540] \u001b[0m\u001b[1;36mExiting postupdate worker thread (\u001b[0m\u001b[1;36m1\u001b[0m\u001b[1;36m)\u001b[0m\u001b[1;36m\u001b[0m\n",
      "\u001b[1;32m[Msg] \u001b[0m\u001b[1;32mLoading SDF world file[\u001b[0m\u001b[1;32m/tmp/tmpgrfhl70j\u001b[0m\u001b[1;32m].\u001b[0m\n",
      "\u001b[1;32m[Msg] \u001b[0m\u001b[1;32mServing entity system service on [\u001b[0m\u001b[1;32m/\u001b[0m\u001b[1;32mentity/system/add\u001b[0m\u001b[1;32m]\u001b[0m\u001b[1;32m\u001b[0m\n",
      "\u001b[1;32m[Msg] \u001b[0m\u001b[1;32mLoaded level [\u001b[0m\u001b[1;32m3\u001b[0m\u001b[1;32m]\u001b[0m\u001b[1;32m\u001b[0m\n",
      "\u001b[1;32m[Msg] \u001b[0m\u001b[1;32mNo systems loaded from SDF, loading defaults\u001b[0m\u001b[1;32m\u001b[0m\n",
      "\u001b[1;36m[Dbg] [ServerConfig.cc:1042] \u001b[0m\u001b[1;36mLoaded (\u001b[0m\u001b[1;36m3\u001b[0m\u001b[1;36m) plugins from file \u001b[0m\u001b[1;36m[\u001b[0m\u001b[1;36m/home/benoit/.gz/sim/7/server.config\u001b[0m\u001b[1;36m]\u001b[0m\n",
      "\u001b[1;36m[Dbg] [Physics.cc:901] \u001b[0m\u001b[1;36mLoaded [\u001b[0m\u001b[1;36mgz::physics::dartsim::Plugin\u001b[0m\u001b[1;36m] from library [\u001b[0m\u001b[1;36m/usr/lib/gz-physics-6/engine-plugins/libgz-physics-dartsim-plugin.so\u001b[0m\u001b[1;36m]\u001b[0m\u001b[1;36m\u001b[0m\n",
      "\u001b[1;36m[Dbg] [SystemManager.cc:74] \u001b[0m\u001b[1;36mLoaded system [\u001b[0m\u001b[1;36mgz::sim::systems::Physics\u001b[0m\u001b[1;36m] for entity [\u001b[0m\u001b[1;36m1\u001b[0m\u001b[1;36m]\u001b[0m\u001b[1;36m\u001b[0m\n",
      "\u001b[1;32m[Msg] \u001b[0m\u001b[1;32mCreate service on [\u001b[0m\u001b[1;32m/world/scene1/create\u001b[0m\u001b[1;32m]\u001b[0m\u001b[1;32m\u001b[0m\n",
      "\u001b[1;32m[Msg] \u001b[0m\u001b[1;32mRemove service on [\u001b[0m\u001b[1;32m/world/scene1/remove\u001b[0m\u001b[1;32m]\u001b[0m\u001b[1;32m\u001b[0m\n",
      "\u001b[1;32m[Msg] \u001b[0m\u001b[1;32mPose service on [\u001b[0m\u001b[1;32m/world/scene1/set_pose\u001b[0m\u001b[1;32m]\u001b[0m\u001b[1;32m\u001b[0m\n",
      "\u001b[1;32m[Msg] \u001b[0m\u001b[1;32mPose service on [\u001b[0m\u001b[1;32m/world/scene1/set_pose_vector\u001b[0m\u001b[1;32m]\u001b[0m\u001b[1;32m\u001b[0m\n",
      "\u001b[1;32m[Msg] \u001b[0m\u001b[1;32mLight configuration service on [\u001b[0m\u001b[1;32m/world/scene1/light_config\u001b[0m\u001b[1;32m]\u001b[0m\u001b[1;32m\u001b[0m\n",
      "\u001b[1;32m[Msg] \u001b[0m\u001b[1;32mPhysics service on [\u001b[0m\u001b[1;32m/world/scene1/set_physics\u001b[0m\u001b[1;32m]\u001b[0m\u001b[1;32m\u001b[0m\n",
      "\u001b[1;32m[Msg] \u001b[0m\u001b[1;32mSphericalCoordinates service on [\u001b[0m\u001b[1;32m/world/scene1/set_spherical_coordinates\u001b[0m\u001b[1;32m]\u001b[0m\u001b[1;32m\u001b[0m\n",
      "\u001b[1;32m[Msg] \u001b[0m\u001b[1;32mEnable collision service on [\u001b[0m\u001b[1;32m/world/scene1/enable_collision\u001b[0m\u001b[1;32m]\u001b[0m\u001b[1;32m\u001b[0m\n",
      "\u001b[1;32m[Msg] \u001b[0m\u001b[1;32mDisable collision service on [\u001b[0m\u001b[1;32m/world/scene1/disable_collision\u001b[0m\u001b[1;32m]\u001b[0m\u001b[1;32m\u001b[0m\n",
      "\u001b[1;32m[Msg] \u001b[0m\u001b[1;32mMaterial service on [\u001b[0m\u001b[1;32m/world/scene1/visual_config\u001b[0m\u001b[1;32m]\u001b[0m\u001b[1;32m\u001b[0m\n",
      "\u001b[1;32m[Msg] \u001b[0m\u001b[1;32mMaterial service on [\u001b[0m\u001b[1;32m/world/scene1/wheel_slip\u001b[0m\u001b[1;32m]\u001b[0m\u001b[1;32m\u001b[0m\n",
      "\u001b[1;36m[Dbg] [SystemManager.cc:74] \u001b[0m\u001b[1;36mLoaded system [\u001b[0m\u001b[1;36mgz::sim::systems::UserCommands\u001b[0m\u001b[1;36m] for entity [\u001b[0m\u001b[1;36m1\u001b[0m\u001b[1;36m]\u001b[0m\u001b[1;36m\u001b[0m\n",
      "\u001b[1;36m[Dbg] [SystemManager.cc:74] \u001b[0m\u001b[1;36mLoaded system [\u001b[0m\u001b[1;36mgz::sim::systems::SceneBroadcaster\u001b[0m\u001b[1;36m] for entity [\u001b[0m\u001b[1;36m1\u001b[0m\u001b[1;36m]\u001b[0m\u001b[1;36m\u001b[0m\n",
      "\u001b[1;32m[Msg] \u001b[0m\u001b[1;32mServing world controls on [\u001b[0m\u001b[1;32m/world/scene1\u001b[0m\u001b[1;32m/control], [\u001b[0m\u001b[1;32m/world/scene1\u001b[0m\u001b[1;32m/control/state] and [\u001b[0m\u001b[1;32m/world/scene1\u001b[0m\u001b[1;32m/playback/control]\u001b[0m\u001b[1;32m\u001b[0m\n",
      "\u001b[1;32m[Msg] \u001b[0m\u001b[1;32mServing GUI information on [\u001b[0m\u001b[1;32m/world/scene1\u001b[0m\u001b[1;32m/\u001b[0m\u001b[1;32mgui/info\u001b[0m\u001b[1;32m]\u001b[0m\u001b[1;32m\u001b[0m\n",
      "\u001b[1;32m[Msg] \u001b[0m\u001b[1;32mWorld [\u001b[0m\u001b[1;32mscene1\u001b[0m\u001b[1;32m] initialized with [\u001b[0m\u001b[1;32m1ms\u001b[0m\u001b[1;32m] physics profile.\u001b[0m\u001b[1;32m\u001b[0m\n",
      "\u001b[1;32m[Msg] \u001b[0m\u001b[1;32mServing world SDF generation service on [\u001b[0m\u001b[1;32m/world/scene1\u001b[0m\u001b[1;32m/\u001b[0m\u001b[1;32mgenerate_world_sdf\u001b[0m\u001b[1;32m]\u001b[0m\u001b[1;32m\u001b[0m\n",
      "\u001b[1;32m[Msg] \u001b[0m\u001b[1;32mServing world names on [\u001b[0m\u001b[1;32m/gazebo/worlds\u001b[0m\u001b[1;32m]\u001b[0m\u001b[1;32m\u001b[0m\n",
      "\u001b[1;32m[Msg] \u001b[0m\u001b[1;32mResource path add service on [\u001b[0m\u001b[1;32m/gazebo/resource_paths/add\u001b[0m\u001b[1;32m].\u001b[0m\u001b[1;32m\u001b[0m\n",
      "\u001b[1;32m[Msg] \u001b[0m\u001b[1;32mResource path get service on [\u001b[0m\u001b[1;32m/gazebo/resource_paths/get\u001b[0m\u001b[1;32m].\u001b[0m\u001b[1;32m\u001b[0m\n",
      "\u001b[1;32m[Msg] \u001b[0m\u001b[1;32mResource path resolve service on [\u001b[0m\u001b[1;32m/gazebo/resource_paths/resolve\u001b[0m\u001b[1;32m].\u001b[0m\u001b[1;32m\u001b[0m\n",
      "\u001b[1;32m[Msg] \u001b[0m\u001b[1;32mResource paths published on [\u001b[0m\u001b[1;32m/gazebo/resource_paths\u001b[0m\u001b[1;32m].\u001b[0m\u001b[1;32m\u001b[0m\n",
      "\u001b[1;32m[Msg] \u001b[0m\u001b[1;32mServer control service on [\u001b[0m\u001b[1;32m/server_control\u001b[0m\u001b["
     ]
    },
    {
     "name": "stderr",
     "output_type": "stream",
     "text": [
      "\u001b[1;31m[Err] [Conversions.cc:1722] \u001b[0m\u001b[1;31mTried to convert SDF [\u001b[0m\u001b[1;31mworld\u001b[0m\u001b[1;31m] into [plugin]\u001b[0m\u001b[1;31m\u001b[0m\n",
      "release\n",
      "release\n"
     ]
    }
   ],
   "source": [
    "class Controller:\n",
    "    def __init__(self, target_z):\n",
    "        max_ang  = np.pi/4\n",
    "        self.pid = ctrl.PIDController(kp=3, kd=3, control_range=ctrl.Range1D(-max_ang, max_ang))\n",
    "        self.target_z = target_z\n",
    "        \n",
    "    def proc(self, wl : rb_base.Transform) -> rb_base.Vec3:\n",
    "        target_local = wl.inv @ target_z\n",
    "        proj = -target_local[:2]\n",
    "        action = self.pid.push(proj)\n",
    "        rotx = rb_base.Transform.From(rot=rb_base.R.from_euler('yx', action * [1, -1]))\n",
    "        return rotx @ Vec3.Z()\n",
    "cx = Controller(target_z)\n",
    "\n",
    "base = './traj.sdf'\n",
    "sd = scenes.balance_scene()\n",
    "\n",
    "step = 0.01\n",
    "sim_time=  5\n",
    "\n",
    "with cmisc.tempfile.NamedTemporaryFile() as tf:\n",
    "    conv = helper.SDFConverter(base, world_name='scene1')\n",
    "    conv.fill_with_rbtree(sd.tree)\n",
    "    conv.write(tf.name)\n",
    "\n",
    "    runner = helper.GZRunner.Build(tf.name)\n",
    "    runner.set_physics(step)\n",
    "    model = runner.model(helper.SDFConverter.MODEL_NAME)\n",
    "\n",
    "    root_link = sim7.Link(model.link_by_name(runner.ecm, 'root'))\n",
    "    box_link = sim7.Link(model.link_by_name(runner.ecm, 'root.RigidBodyLinkType.RIGID_SolidSpecType.BOX'))\n",
    "   \n",
    "    t0 = 0\n",
    "\n",
    "    def conf_cb(*args):\n",
    "        t = runner.info.sim_time.total_seconds()\n",
    "        model_tsf = helper.GZDatas.tsf.query(runner, model.entity())\n",
    "        dir = cx.proc(model_tsf)\n",
    "        runner.set_force(box_link, model_tsf @ dir*200)\n",
    "        runner.set_vel(model, Vec3.Zero())\n",
    "        model_tsf.pos_v = Vec3.Zero()\n",
    "        sim7.WorldPoseCmd.GetOrCreate(runner.ecm, model.entity()).set_data(model_tsf.to_gz())\n",
    "\n",
    "        #sim7.InertialCmd.GetOrCreate(runner.ecm, link.entity()).set_data(a)\n",
    "\n",
    "    runner.callbacks[helper.GZCallbackMode.PRE].append(conf_cb)\n",
    "\n",
    "    from chdrft.sim.gz.helper import *\n",
    "    stats = StatsGatherer(requests=[\n",
    "        helper.GZDatas.tsf.make_request('model', model.entity()),\n",
    "    ], iter_downsample=10)\n",
    "    stats.register(runner)\n",
    "\n",
    "    #runner.reset()\n",
    "    runner.server.run(True, int(sim_time / step), False)\n",
    "    dfx = pd.DataFrame.from_records(stats.records)\n",
    "    runner.server.stop()\n",
    "    runner.fixture.release()\n",
    "    #del runner\n",
    "\n",
    "#try_spec(spec)i"
   ]
  },
  {
   "cell_type": "code",
   "execution_count": 114,
   "id": "dcdb6339",
   "metadata": {
    "ExecuteTime": {
     "end_time": "2023-04-16T17:08:56.047587Z",
     "start_time": "2023-04-16T17:08:55.938325Z"
    }
   },
   "outputs": [
    {
     "data": {
      "text/plain": [
       "<AxesSubplot: xlabel='sim_time'>"
      ]
     },
     "execution_count": 114,
     "metadata": {},
     "output_type": "execute_result"
    },
    {
     "data": {
      "image/png": "[encoded data removed]",
      "text/plain": [
       "<Figure size 640x480 with 1 Axes>"
      ]
     },
     "metadata": {},
     "output_type": "display_data"
    }
   ],
   "source": [
    "xp = np.stack(dfx['model.tsf'].apply(lambda x: (x @ Vec3.Z()).vdata).values)\n",
    "tt = dfx.sim_time.apply(lambda x:x.total_seconds())\n",
    "sns.lineplot(x=tt, y=xp[:,0])"
   ]
  },
  {
   "cell_type": "code",
   "execution_count": 115,
   "id": "9566643b",
   "metadata": {
    "ExecuteTime": {
     "end_time": "2023-04-16T17:08:56.052928Z",
     "start_time": "2023-04-16T17:08:56.048908Z"
    }
   },
   "outputs": [
    {
     "data": {
      "text/plain": [
       "123"
      ]
     },
     "execution_count": 115,
     "metadata": {},
     "output_type": "execute_result"
    }
   ],
   "source": [
    "123"
   ]
  }
 ],
 "metadata": {
  "kernelspec": {
   "display_name": "env3",
   "language": "python",
   "name": "env3"
  },
  "language_info": {
   "codemirror_mode": {
    "name": "ipython",
    "version": 3
   },
   "file_extension": ".py",
   "mimetype": "text/x-python",
   "name": "python",
   "nbconvert_exporter": "python",
   "pygments_lexer": "ipython3",
   "version": "3.10.9"
  }
 },
 "nbformat": 4,
 "nbformat_minor": 5
}
