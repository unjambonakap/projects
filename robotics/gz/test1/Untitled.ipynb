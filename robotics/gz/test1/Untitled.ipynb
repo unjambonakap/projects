{
 "cells": [
  {
   "cell_type": "code",
   "execution_count": 1,
   "id": "52bf66c2",
   "metadata": {
    "ExecuteTime": {
     "end_time": "2023-04-23T13:31:48.133384Z",
     "start_time": "2023-04-23T13:31:44.393702Z"
    }
   },
   "outputs": [
    {
     "data": {
      "text/html": [
       "<style>.container { width:90% !important; }</style>"
      ],
      "text/plain": [
       "<IPython.core.display.HTML object>"
      ]
     },
     "metadata": {},
     "output_type": "display_data"
    },
    {
     "name": "stderr",
     "output_type": "stream",
     "text": [
      "/home/benoit/.virtualenvs/env3.10/lib/python3.10/site-packages/h5py/__init__.py:36: UserWarning: h5py is running against HDF5 1.12.2 when it was built against 1.12.1, this may cause problems\n",
      "  _warn((\"h5py is running against HDF5 {0} when it was built against {1}, \"\n"
     ]
    },
    {
     "name": "stdout",
     "output_type": "stream",
     "text": [
      "False\n"
     ]
    }
   ],
   "source": [
    "init_jupyter(run_app=True)\n",
    "from chdrft.sim.base import *\n",
    "from chdrft.sim.rb.blender_helper import *\n",
    "from chdrft.sim.blender import *\n",
    "\n",
    "clear_scene()\n",
    "helper = BlenderPhysHelper()"
   ]
  },
  {
   "cell_type": "code",
   "execution_count": 2,
   "id": "0a0e8f94",
   "metadata": {
    "ExecuteTime": {
     "end_time": "2023-04-23T13:31:53.218681Z",
     "start_time": "2023-04-23T13:31:48.149190Z"
    }
   },
   "outputs": [
    {
     "data": {
      "text/plain": [
       "Transform(data=array([[0.0000000,, 0.0000000,, 1.0000000,, 4254.2362374,],\n",
       "       [1.0000000,, 0.0000000,, 0.0000000,, 172.5150203,],\n",
       "       [0.0000000,, 1.0000000,, 0.0000000,, 4779.6023893,],\n",
       "       [0.0000000,, 0.0000000,, 0.0000000,, 1.0000000,]]))"
      ]
     },
     "execution_count": 2,
     "metadata": {},
     "output_type": "execute_result"
    }
   ],
   "source": [
    "from chdrft.geo.satsim import gl\n",
    "\n",
    "p = gl.geocode('Paris')\n",
    "ll = Z.deg2rad(np.array([p.longitude, p.latitude]))\n",
    "md = 13\n",
    "u = create_earth_actors(\n",
    "  BlenderTriangleActor,\n",
    "  max_depth=md,\n",
    "  tile_depth=md,\n",
    "  m2u=1e-3,\n",
    "  ll_box=Box(center=ll, size=(np.pi / 1000, np.pi / 1000))\n",
    ")\n",
    "\n",
    "\n",
    "a = actors_to_obj('x0', helper.main_col, u.actors)\n",
    "helper.set_cam_focus(u.points, Vec3.X() * 3, expand=1.2)\n"
   ]
  },
  {
   "cell_type": "code",
   "execution_count": null,
   "id": "7d795400",
   "metadata": {
    "ExecuteTime": {
     "start_time": "2023-04-23T16:26:59.218Z"
    }
   },
   "outputs": [],
   "source": [
    "ll"
   ]
  },
  {
   "cell_type": "code",
   "execution_count": 3,
   "id": "f655c223",
   "metadata": {
    "ExecuteTime": {
     "end_time": "2023-04-23T13:31:53.901794Z",
     "start_time": "2023-04-23T13:31:53.880550Z"
    }
   },
   "outputs": [
    {
     "data": {
      "text/plain": [
       "array([[-1.2788348,, -1.6649950,, -1.0616999,, 1.0000000,],\n",
       "       [1.2788743,, -1.6649950,, -1.0616999,, 1.0000000,],\n",
       "       [-1.2788348,, 1.6659231,, -1.0616999,, 1.0000000,],\n",
       "       [1.2788743,, 1.6659231,, -1.0616999,, 1.0000000,],\n",
       "       [-1.2788348,, -1.6649950,, 1.0616999,, 1.0000000,],\n",
       "       [1.2788743,, -1.6649950,, 1.0616999,, 1.0000000,],\n",
       "       [-1.2788348,, 1.6659231,, 1.0616999,, 1.0000000,],\n",
       "       [1.2788743,, 1.6659231,, 1.0616999,, 1.0000000,]])"
      ]
     },
     "execution_count": 3,
     "metadata": {},
     "output_type": "execute_result"
    }
   ],
   "source": [
    "helper.get_aabb(a).points"
   ]
  },
  {
   "cell_type": "code",
   "execution_count": 5,
   "id": "7fd0709c",
   "metadata": {
    "ExecuteTime": {
     "end_time": "2023-04-23T13:31:21.796782Z",
     "start_time": "2023-04-23T13:31:21.731436Z"
    }
   },
   "outputs": [
    {
     "ename": "AttributeError",
     "evalue": "'Object' object has no attribute 'objects'",
     "output_type": "error",
     "traceback": [
      "\u001b[0;31m---------------------------------------------------------------------------\u001b[0m",
      "\u001b[0;31mAttributeError\u001b[0m                            Traceback (most recent call last)",
      "Input \u001b[0;32mIn [5]\u001b[0m, in \u001b[0;36m<cell line: 1>\u001b[0;34m()\u001b[0m\n\u001b[0;32m----> 1\u001b[0m \u001b[43ma\u001b[49m\u001b[38;5;241;43m.\u001b[39;49m\u001b[43mobjects\u001b[49m\n",
      "\u001b[0;31mAttributeError\u001b[0m: 'Object' object has no attribute 'objects'"
     ]
    }
   ],
   "source": [
    "a."
   ]
  }
 ],
 "metadata": {
  "kernelspec": {
   "display_name": "kernel_blender1",
   "name": "kernel_blender1"
  },
  "language_info": {
   "codemirror_mode": {
    "name": "ipython",
    "version": 3
   },
   "file_extension": ".py",
   "mimetype": "text/x-python",
   "name": "python",
   "nbconvert_exporter": "python",
   "pygments_lexer": "ipython3",
   "version": "3.10.9"
  }
 },
 "nbformat": 4,
 "nbformat_minor": 5
}
