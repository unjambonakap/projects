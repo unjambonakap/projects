{
 "cells": [
  {
   "cell_type": "code",
   "execution_count": 1,
   "id": "3d1a9d19",
   "metadata": {
    "ExecuteTime": {
     "end_time": "2023-04-13T21:27:46.675585Z",
     "start_time": "2023-04-13T21:27:43.592469Z"
    }
   },
   "outputs": [
    {
     "data": {
      "text/html": [
       "<style>.container { width:90% !important; }</style>"
      ],
      "text/plain": [
       "<IPython.core.display.HTML object>"
      ]
     },
     "metadata": {},
     "output_type": "display_data"
    },
    {
     "name": "stdout",
     "output_type": "stream",
     "text": [
      "Runnign magic qt5\n",
      "done\n",
      "False\n"
     ]
    }
   ],
   "source": [
    "init_jupyter()\n",
    "from __future__ import annotations\n",
    "import sys\n",
    "sys.path.append('/usr/lib/python/')\n",
    "import sdformat13 as sdf"
   ]
  },
  {
   "cell_type": "code",
   "execution_count": 11,
   "id": "034202bd",
   "metadata": {
    "ExecuteTime": {
     "end_time": "2023-04-13T21:34:27.469418Z",
     "start_time": "2023-04-13T21:34:27.210228Z"
    }
   },
   "outputs": [
    {
     "name": "stdout",
     "output_type": "stream",
     "text": [
      "qq https://fuel.gazebosim.org/1.0/OpenRobotics/models/Moon DEM\n"
     ]
    }
   ],
   "source": [
    "s = scenes.box_scene()\n",
    "rbl = s.sctx.roots[0].self_link\n",
    "cx = SDFConverter('./traj.sdf')\n",
    "cx.reset_world(cx.rbl_to_model(rbl))\n",
    "cx.write('./traj_new.sdf')"
   ]
  },
  {
   "cell_type": "code",
   "execution_count": null,
   "id": "9513def8",
   "metadata": {
    "ExecuteTime": {
     "start_time": "2023-03-08T10:43:19.338Z"
    }
   },
   "outputs": [],
   "source": [
    "\n",
    "planeId = p.loadSDF(\"/usr/share/gz/gz-sim7/worlds/dem_moon.sdf\")"
   ]
  },
  {
   "cell_type": "code",
   "execution_count": null,
   "id": "7cacfd48",
   "metadata": {
    "ExecuteTime": {
     "start_time": "2023-03-08T10:32:12.155Z"
    }
   },
   "outputs": [],
   "source": [
    "p.disconnect()"
   ]
  }
 ],
 "metadata": {
  "kernelspec": {
   "display_name": "env3",
   "language": "python",
   "name": "env3"
  },
  "language_info": {
   "codemirror_mode": {
    "name": "ipython",
    "version": 3
   },
   "file_extension": ".py",
   "mimetype": "text/x-python",
   "name": "python",
   "nbconvert_exporter": "python",
   "pygments_lexer": "ipython3",
   "version": "3.10.9"
  }
 },
 "nbformat": 4,
 "nbformat_minor": 5
}
