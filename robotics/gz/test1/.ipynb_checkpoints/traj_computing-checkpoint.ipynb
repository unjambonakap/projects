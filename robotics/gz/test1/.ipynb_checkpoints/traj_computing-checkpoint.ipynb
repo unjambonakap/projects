{
 "cells": [
  {
   "cell_type": "code",
   "execution_count": 1,
   "id": "7053e053",
   "metadata": {
    "ExecuteTime": {
     "end_time": "2023-04-13T23:09:29.597346Z",
     "start_time": "2023-04-13T23:09:26.436019Z"
    }
   },
   "outputs": [
    {
     "data": {
      "text/html": [
       "<style>.container { width:90% !important; }</style>"
      ],
      "text/plain": [
       "<IPython.core.display.HTML object>"
      ]
     },
     "metadata": {},
     "output_type": "display_data"
    },
    {
     "name": "stdout",
     "output_type": "stream",
     "text": [
      "Runnign magic qt5\n",
      "done\n",
      "False\n",
      "Registering [gz_sim_components.Environment] = 1433709137331907826\n",
      "Registering [gz_sim_components.CanonicalLink] = 1899862455720879825\n",
      "Registering [gz_sim_components.ModelCanonicalLink] = 2958716330662201668\n",
      "Registering [gz_sim_components.ChildLinkName] = 18008977594029503042\n",
      "Registering [gz_sim_components.Joint] = 18371370647956686351\n",
      "Registering [gz_sim_components.Link] = 14769025567331365649\n",
      "Registering [gz_sim_components.Name] = 17448053894352336366\n",
      "Registering [gz_sim_components.ParentEntity] = 50322453549405034\n",
      "Registering [gz_sim_components.ParentLinkName] = 11426747106486107602\n",
      "Registering [gz_sim_components.Recreate] = 6579594356939739964\n",
      "Registering [gz_sim_components.World] = 5975074572899138571\n",
      "Registering [gz_sim_components.WorldSdf] = 18076026013665852038\n",
      "Registering [gz_sim_components.Actor] = 11808826388832216226\n",
      "Registering [gz_sim_components.AnimationTime] = 17600374756001327636\n",
      "Registering [gz_sim_components.AnimationName] = 11035508405656207414\n",
      "Registering [gz_sim_components.Atmosphere] = 220821703896017421\n",
      "Registering [gz_sim_components.Geometry] = 7625436923667245673\n",
      "Registering [gz_sim_components.Gravity] = 4631933300314817085\n",
      "Registering [gz_sim_components.GravityCmd] = 11011942522384491427\n",
      "Registering [gz_sim_components.Level] = 17899167526549320469\n",
      "Registering [gz_sim_components.DefaultLevel] = 7294427867177050164\n",
      "Registering [gz_sim_components.Model] = 15483128506684855746\n",
      "Registering [gz_sim_components.ModelSdf] = 2204389715118210201\n",
      "Registering [gz_sim_components.Light] = 599184545698878551\n",
      "Registering [gz_sim_components.LevelBuffer] = 4611678802180164875\n",
      "Registering [gz_sim_components.LevelEntityNames] = 241501265637210950\n",
      "Registering [gz_sim_components.LinearVelocity] = 5912968594336238795\n",
      "Registering [gz_sim_components.WorldLinearVelocity] = 6822503852486540549\n",
      "Registering [gz_sim_components.LinearVelocitySeed] = 4197793390256169782\n",
      "Registering [gz_sim_components.WorldLinearVelocitySeed] = 12035440626030541356\n",
      "Registering [gz_sim_components.MagneticField] = 16662369809891906389\n",
      "Registering [gz_sim_components.Performer] = 13696581014082735693\n",
      "Registering [gz_sim_components.PerformerLevels] = 1677806966477973010\n",
      "Registering [gz_sim_components.Physics] = 14667792357059397098\n",
      "Registering [gz_sim_components.PhysicsCollisionDetector] = 16820492502269950860\n",
      "Registering [gz_sim_components.PhysicsSolver] = 4319845713902148453\n",
      "Registering [gz_sim_components.PhysicsEnginePlugin] = 5105000996105513635\n",
      "Registering [gz_sim_components.Pose] = 10918813941671183356\n",
      "Registering [gz_sim_components.WorldPose] = 10071257798498578074\n",
      "Registering [gz_sim_components.TrajectoryPose] = 12970558459402098973\n",
      "Registering [gz_sim_components.RenderEngineGuiPlugin] = 15279893383907013625\n",
      "Registering [gz_sim_components.RenderEngineServerHeadless] = 1986897847140768691\n",
      "Registering [gz_sim_components.RenderEngineServerPlugin] = 6843495338011676091\n",
      "Registering [gz_sim_components.Scene] = 13410109885883188795\n",
      "Registering [gz_sim_components.SphericalCoordinates] = 2448771481260561039\n",
      "Registering [gz_sim_components.Wind] = 17419187034320976751\n",
      "Registering [gz_sim_components.AngularAcceleration] = 852318434424552937\n",
      "Registering [gz_sim_components.WorldAngularAcceleration] = 15328668312996220995\n",
      "Registering [gz_sim_components.AngularVelocity] = 9606326820353618454\n",
      "Registering [gz_sim_components.WorldAngularVelocity] = 16088775401173940144\n",
      "Registering [gz_sim_components.AngularVelocityCmd] = 282764863625597542\n",
      "Registering [gz_sim_components.WorldAngularVelocityCmd] = 3640658322543795448\n",
      "Registering [gz_sim_components.Collision] = 4807123767067670551\n",
      "Registering [gz_sim_components.CollisionElement] = 17454713559522666297\n",
      "Registering [gz_sim_components.EnableContactSurfaceCustomization] = 4504013238583313190\n",
      "Registering [gz_sim_components.ExternalWorldWrenchCmd] = 12368206067513309037\n",
      "Registering [gz_sim_components.Inertial] = 10878961313537687887\n",
      "Registering [gz_sim_components.InertialCmd] = 7371529527479512029\n",
      "Registering [gz_sim_components.LinearAcceleration] = 16575673239754959628\n",
      "Registering [gz_sim_components.WorldLinearAcceleration] = 12754542100093314054\n",
      "Registering [gz_sim_components.LinearVelocityCmd] = 11544794805675284369\n",
      "Registering [gz_sim_components.WorldLinearVelocityCmd] = 14390400116072606475\n",
      "Registering [gz_sim_components.Visual] = 18276712176670506881\n",
      "Registering [gz_sim_components.VisualPlugin] = 14145595036858916582\n",
      "Registering [gz_sim_components.WindMode] = 13462488463176318088\n",
      "Registering [gz_sim_components.WorldPoseCmd] = 13867657469248473970\n",
      "Registering [gz_sim_components.SelfCollide] = 514273962667148627\n",
      "Registering [gz_sim_components.SourceFilePath] = 12929189376202281101\n",
      "Registering [gz_sim_components.Static] = 1448650493567121171\n",
      "Registering [gz_sim_components.AirPressureSensor] = 1487123851805453106\n",
      "Registering [gz_sim_components.Altimeter] = 15379628520171398740\n",
      "Registering [gz_sim_components.BoundingBoxCamera] = 1364319980281505473\n",
      "Registering [gz_sim_components.Camera] = 9281467700984832870\n",
      "Registering [gz_sim_components.CastShadows] = 665776623189629951\n",
      "Registering [gz_sim_components.ContactSensor] = 3602405109882095797\n",
      "Registering [gz_sim_components.CustomSensor] = 2000820740052980224\n",
      "Registering [gz_sim_components.DepthCamera] = 5495745227999316721\n",
      "Registering [gz_sim_components.ForceTorque] = 16589874149759306170\n",
      "Registering [gz_sim_components.GpuLidar] = 7669270653852587117\n",
      "Registering [gz_sim_components.Imu] = 4037604310053872914\n",
      "Registering [gz_sim_components.JointAxis] = 2137893832496196346\n",
      "Registering [gz_sim_components.JointAxis2] = 15657048239925211608\n",
      "Registering [gz_sim_components.JointType] = 10801534647923567511\n",
      "Registering [gz_sim_components.LaserRetro] = 14980940246357333588\n",
      "Registering [gz_sim_components.Lidar] = 1170630425539878573\n",
      "Registering [gz_sim_components.LightType] = 14593758188451342383\n",
      "Registering [gz_sim_components.LogicalCamera] = 16816050724677523355\n",
      "Registering [gz_sim_components.Magnetometer] = 586460592733032745\n",
      "Registering [gz_sim_components.Material] = 5653939253203759928\n",
      "Registering [gz_sim_components.NavSat] = 7236786947914523902\n",
      "Registering [gz_sim_components.ParticleEmitter] = 18408621163937256471\n",
      "Registering [gz_sim_components.ParticleEmitterCmd] = 17660249345661799333\n",
      "Registering [gz_sim_components.RgbdCamera] = 11214227122823531071\n",
      "Registering [gz_sim_components.SegmentationCamera] = 13497164862499223264\n",
      "Registering [gz_sim_components.Sensor] = 5501240588895982851\n",
      "Registering [gz_sim_components.SensorTopic] = 13120067500290942462\n",
      "Registering [gz_sim_components.SystemPluginInfo] = 9904571861011273795\n",
      "Registering [gz_sim_components.ThermalCamera] = 5236100716033474535\n",
      "Registering [gz_sim_components.ThreadPitch] = 11951549306545318421\n",
      "Registering [gz_sim_components.Transparency] = 5322000723261735567\n",
      "Registering [gz_sim_components.VisibilityFlags] = 12618573023628321940\n",
      "Registering [gz_sim_components.VisibilityMask] = 7380561703281666065\n",
      "Registering [gz_sim_components.WideAngleCamera] = 3522680712881930650\n",
      "Registering [gz_sim_components.PhysicsCmd] = 14613243416967565026\n",
      "Registering [gz_sim_components.PerformerAffinity] = 1999914709781477601\n"
     ]
    },
    {
     "name": "stderr",
     "output_type": "stream",
     "text": [
      "/home/benoit/.virtualenvs/env3.10/lib/python3.10/site-packages/pygmo/__init__.py:113: DeprecationWarning: invalid escape sequence '\\l'\n",
      "  \"\"\"\n"
     ]
    }
   ],
   "source": [
    "from chdrft.config.env import init_jupyter\n",
    "\n",
    "init_jupyter()\n",
    "from chdrft.sim.traj import tgo\n",
    "from chdrft.sim.gz import helper\n",
    "from chdrft.sim.rb import rb_gen\n",
    "from chdrft.sim.rb import base as rb_base\n",
    "from chdrft.sim.rb.base import Vec3, Transform"
   ]
  },
  {
   "cell_type": "code",
   "execution_count": 4,
   "id": "6f8a5766",
   "metadata": {
    "ExecuteTime": {
     "end_time": "2023-04-13T23:09:36.910237Z",
     "start_time": "2023-04-13T23:09:36.899775Z"
    }
   },
   "outputs": [],
   "source": [
    "from astropy import constants as const\n",
    "from gz import sim7, math7\n",
    "class GravitySpec(cmisc.PatchedModel):\n",
    "    center: Vec3\n",
    "    mass: float\n",
    "\n",
    "    def __call__(self, pos: Vec3) -> Vec3:\n",
    "        diff = self.center - pos\n",
    "        const.G.value\n",
    "        norm = diff.norm\n",
    "        if norm < 1e-6: return Vec3.Zero()\n",
    "        k =  const.G.value * self.mass / norm ** 3\n",
    "        return diff * k\n",
    "        \n",
    "gspec = GravitySpec(center=Vec3.ZeroPt(), mass=const.M_earth.value)\n",
    "\n",
    "spec = rb_base.SolidSpec.Box(1, 1, 1, 1)\n",
    "\n",
    "sctx = rb_gen.SceneContext()\n",
    "tx = rb_gen.RBTree(sctx=sctx)\n",
    "root = tx.add(\n",
    "    rb_gen.RBDescEntry(\n",
    "        data=rb_gen.RBData(base_name='root'),\n",
    "        spec=spec,\n",
    "        link_data=rb_gen.LinkData(spec=rb_gen.LinkSpec(\n",
    "            type=rb_gen.RigidBodyLinkType.FREE,\n",
    "            \n",
    "\n",
    "        )),\n",
    "    ))\n",
    "\n",
    "p0 = rb_base.Vec3.X() * const.R_earth.value\n",
    "rbl = tx.create(root, wl=rb_base.Transform.From(pos=p0))\n",
    "\n",
    "vn = (p0.norm * gspec(p0).norm) ** 0.5\n",
    "v0 = Vec3.Y() * vn"
   ]
  },
  {
   "cell_type": "code",
   "execution_count": null,
   "id": "692719dd",
   "metadata": {
    "ExecuteTime": {
     "start_time": "2023-04-13T23:09:38.135Z"
    }
   },
   "outputs": [
    {
     "name": "stdout",
     "output_type": "stream",
     "text": [
      "qq https://fuel.gazebosim.org/1.0/OpenRobotics/models/Moon DEM\n",
      "/tmp/tmpna3rd91m\n",
      "\u001b[1;32m[Msg] \u001b[0m\u001b[1;32mLoading SDF world file[\u001b[0m\u001b[1;32m/tmp/tmpna3rd91m\u001b[0m\u001b[1;32m].\u001b[0m\n",
      "\u001b[1;32m[Msg] \u001b[0m\u001b[1;32mServing entity system service on [\u001b[0m\u001b[1;32m/\u001b[0m\u001b[1;32mentity/system/add\u001b[0m\u001b[1;32m]\u001b[0m\u001b[1;32m\u001b[0m\n",
      "\u001b[1;32m[Msg] \u001b[0m\u001b[1;32mLoaded level [\u001b[0m\u001b[1;32m3\u001b[0m\u001b[1;32m]\u001b[0m\u001b[1;32m\u001b[0m\n",
      "\u001b[1;32m[Msg] \u001b[0m\u001b[1;32mNo systems loaded from SDF, loading defaults\u001b[0m\u001b[1;32m\u001b[0m\n",
      "\u001b[1;36m[Dbg] [ServerConfig.cc:1042] \u001b[0m\u001b[1;36mLoaded (\u001b[0m\u001b[1;36m3\u001b[0m\u001b[1;36m) plugins from file \u001b[0m\u001b[1;36m[\u001b[0m\u001b[1;36m/home/benoit/.gz/sim/7/server.config\u001b[0m\u001b[1;36m]\u001b[0m\n",
      "Registering [gz_sim_components.AxisAlignedBox] = 16824907307061915241\n",
      "Registering [gz_sim_components.BatterySoC] = 15328798153366528649\n",
      "Registering [gz_sim_components.ContactSensorData] = 12535178329668295509\n",
      "Registering [gz_sim_components.DetachableJoint] = 4618113539621515562\n",
      "Registering [gz_sim_components.JointEffortLimitsCmd] = 789583369056283695\n",
      "Registering [gz_sim_components.JointPosition] = 8319580315957903596\n",
      "Registering [gz_sim_components.JointPositionLimitsCmd] = 1304059932111110212\n",
      "Registering [gz_sim_components.JointPositionReset] = 7092658231261739227\n",
      "Registering [gz_sim_components.JointVelocity] = 99696134570833896\n",
      "Registering [gz_sim_components.JointVelocityCmd] = 10078773228734069488\n",
      "Registering [gz_sim_components.JointVelocityLimitsCmd] = 13570621043386473504\n",
      "Registering [gz_sim_components.JointVelocityReset] = 3683240423554730519\n",
      "Registering [gz_sim_components.JointTransmittedWrench] = 1236125278494128297\n",
      "Registering [gz_sim_components.JointForceCmd] = 5279140706653459474\n",
      "Registering [gz_sim_components.SlipComplianceCmd ] = 16173466126175508744\n",
      "Registering [gz_sim_components.HaltMotion] = 18023737552886689320\n",
      "\u001b[1;36m[Dbg] [Physics.cc:885] \u001b[0m\u001b[1;36mLoaded [\u001b[0m\u001b[1;36mgz::physics::dartsim::Plugin\u001b[0m\u001b[1;36m] from library [\u001b[0m\u001b[1;36m/usr/lib/gz-physics-6/engine-plugins/libgz-physics-dartsim-plugin.so\u001b[0m\u001b[1;36m]\u001b[0m\u001b[1;36m\u001b[0m\n",
      "\u001b[1;36m[Dbg] [SystemManager.cc:74] \u001b[0m\u001b[1;36mLoaded system [\u001b[0m\u001b[1;36mgz::sim::systems::Physics\u001b[0m\u001b[1;36m] for entity [\u001b[0m\u001b[1;36m1\u001b[0m\u001b[1;36m]\u001b[0m\u001b[1;36m\u001b[0m\n",
      "Registering [gz_sim_components.LightCmd] = 3893392306003423973\n",
      "Registering [gz_sim_components.VisualCmd] = 9804972768940264239\n",
      "Registering [gz_sim_components.WheelSlipCmd] = 15006209183821327514\n",
      "\u001b[1;32m[Msg] \u001b[0m\u001b[1;32mCreate service on [\u001b[0m\u001b[1;32m/world/dem_heightmap/create\u001b[0m\u001b[1;32m]\u001b[0m\u001b[1;32m\u001b[0m\n",
      "\u001b[1;32m[Msg] \u001b[0m\u001b[1;32mRemove service on [\u001b[0m\u001b[1;32m/world/dem_heightmap/remove\u001b[0m\u001b[1;32m]\u001b[0m\u001b[1;32m\u001b[0m\n",
      "\u001b[1;32m[Msg] \u001b[0m\u001b[1;32mPose service on [\u001b[0m\u001b[1;32m/world/dem_heightmap/set_pose\u001b[0m\u001b[1;32m]\u001b[0m\u001b[1;32m\u001b[0m\n",
      "\u001b[1;32m[Msg] \u001b[0m\u001b[1;32mPose service on [\u001b[0m\u001b[1;32m/world/dem_heightmap/set_pose_vector\u001b[0m\u001b[1;32m]\u001b[0m\u001b[1;32m\u001b[0m\n",
      "\u001b[1;32m[Msg] \u001b[0m\u001b[1;32mLight configuration service on [\u001b[0m\u001b[1;32m/world/dem_heightmap/light_config\u001b[0m\u001b[1;32m]\u001b[0m\u001b[1;32m\u001b[0m\n",
      "\u001b[1;32m[Msg] \u001b[0m\u001b[1;32mPhysics service on [\u001b[0m\u001b[1;32m/world/dem_heightmap/set_physics\u001b[0m\u001b[1;32m]\u001b[0m\u001b[1;32m\u001b[0m\n",
      "\u001b[1;32m[Msg] \u001b[0m\u001b[1;32mSphericalCoordinates service on [\u001b[0m\u001b[1;32m/world/dem_heightmap/set_spherical_coordinates\u001b[0m\u001b[1;32m]\u001b[0m\u001b[1;32m\u001b[0m\n",
      "\u001b[1;32m[Msg] \u001b[0m\u001b[1;32mEnable collision service on [\u001b[0m\u001b[1;32m/world/dem_heightmap/enable_collision\u001b[0m\u001b[1;32m]\u001b[0m\u001b[1;32m\u001b[0m\n",
      "\u001b[1;32m[Msg] \u001b[0m\u001b[1;32mDisable collision service on [\u001b[0m\u001b[1;32m/world/dem_heightmap/disable_collision\u001b[0m\u001b[1;32m]\u001b[0m\u001b[1;32m\u001b[0m\n",
      "\u001b[1;32m[Msg] \u001b[0m\u001b[1;32mMaterial service on [\u001b[0m\u001b[1;32m/world/dem_heightmap/visual_config\u001b[0m\u001b[1;32m]\u001b[0m\u001b[1;32m\u001b[0m\n",
      "\u001b[1;32m[Msg] \u001b[0m\u001b[1;32mMaterial service on [\u001b[0m\u001b[1;32m/world/dem_heightmap/wheel_slip\u001b[0m\u001b[1;32m]\u001b[0m\u001b[1;32m\u001b[0m\n",
      "\u001b[1;36m[Dbg] [SystemManager.cc:74] \u001b[0m\u001b[1;36mLoaded system [\u001b[0m\u001b[1;36mgz::sim::systems::UserCommands\u001b[0m\u001b[1;36m] for entity [\u001b[0m\u001b[1;36m1\u001b[0m\u001b[1;36m]\u001b[0m\u001b[1;36m\u001b[0m\n",
      "Registering [gz_sim_components.LogPlaybackStatistics] = 17441283360139814755\n"
     ]
    },
    {
     "name": "stderr",
     "output_type": "stream",
     "text": [
      "\u001b[1;31m[Err] [Conversions.cc:1722] \u001b[0m\u001b[1;31mTried to convert SDF [\u001b[0m\u001b[1;31mworld\u001b[0m\u001b[1;31m] into [plugin]\u001b[0m\u001b[1;31m\u001b[0m\n",
      "------------------------------------------------------------------------\n",
      "/usr/lib/python3.10/site-packages/cysignals/signals.cpython-310-x86_64-linux-gnu.so(+0x6fc6)[0x7f2ef2edcfc6]\n",
      "/usr/lib/python3.10/site-packages/cysignals/signals.cpython-310-x86_64-linux-gnu.so(+0x72ab)[0x7f2ef2edd2ab]\n",
      "/usr/lib/python3.10/site-packages/cysignals/signals.cpython-310-x86_64-linux-gnu.so(+0x9f1d)[0x7f2ef2edff1d]\n",
      "/usr/lib/libc.so.6(+0x38f50)[0x7f2f83c51f50]\n",
      "/usr/lib/libstdc++.so.6(_ZSt18_Rb_tree_incrementPKSt18_Rb_tree_node_base+0x24)[0x7f2f830c0534]\n",
      "/usr/lib/gz-sim-7/plugins/libgz-sim-physics-system.so(_ZNSt23_Rb_tree_const_iteratorImEppEv+0x1b)[0x7f2e76b9e637]\n",
      "/usr/lib/gz-sim-7/plugins/libgz-sim-physics-system.so(_ZN2gz3sim2v722EntityComponentManager4EachIJNS1_10components9ComponentINS_4math2v77Vector3IdEENS4_20LinearVelocityCmdTagENS1_11serializers17DefaultSerializerIS9_EEEEEEEvNS2_8identityISt8functionIFbRKmDpPT_EEE4typeE+0xb5)[0x7f2e76b9fdad]\n",
      "/usr/lib/gz-sim-7/plugins/libgz-sim-physics-system.so(_ZN2gz3sim2v77systems14PhysicsPrivate9UpdateSimERNS1_22EntityComponentManagerERSt3mapImNS_7physics9FrameDataIdLm3EEESt4lessImESaISt4pairIKmS9_EEE+0x1327)[0x7f2e76b53c53]\n",
      "/usr/lib/gz-sim-7/plugins/libgz-sim-physics-system.so(_ZN2gz3sim2v77systems7Physics6UpdateERKNS1_10UpdateInfoERNS1_22EntityComponentManagerE+0x18c)[0x7f2e76b431d4]\n",
      "/usr/lib/libgz-sim7.so.7(_ZN2gz3sim2v716SimulationRunner13UpdateSystemsEv+0x176)[0x7f2e9b5f71c4]\n",
      "/usr/lib/libgz-sim7.so.7(_ZN2gz3sim2v716SimulationRunner4StepERKNS1_10UpdateInfoE+0xd9)[0x7f2e9b5f89cf]\n",
      "/usr/lib/libgz-sim7.so.7(_ZN2gz3sim2v716SimulationRunner3RunEm+0x10ca)[0x7f2e9b5f84e6]\n",
      "/usr/lib/libgz-sim7.so.7(+0x7e3336)[0x7f2e9b5e3336]\n",
      "/usr/lib/libgz-sim7.so.7(_ZN2gz3sim2v76Server3RunEbmb+0x293)[0x7f2e9b5d39c1]\n",
      "/usr/lib/python/gz/sim7.cpython-310-x86_64-linux-gnu.so(+0x1a46a8)[0x7f2e9bba46a8]\n",
      "/usr/lib/python/gz/sim7.cpython-310-x86_64-linux-gnu.so(+0x1a766b)[0x7f2e9bba766b]\n",
      "/usr/lib/python/gz/sim7.cpython-310-x86_64-linux-gnu.so(+0x1a651d)[0x7f2e9bba651d]\n",
      "/usr/lib/python/gz/sim7.cpython-310-x86_64-linux-gnu.so(+0x1a5125)[0x7f2e9bba5125]\n",
      "/usr/lib/python/gz/sim7.cpython-310-x86_64-linux-gnu.so(+0x1a52f7)[0x7f2e9bba52f7]\n",
      "/usr/lib/python/gz/sim7.cpython-310-x86_64-linux-gnu.so(+0x11a448)[0x7f2e9bb1a448]\n",
      "/usr/lib/libpython3.10.so.1.0(+0x155e21)[0x7f2f83f55e21]\n",
      "/usr/lib/libpython3.10.so.1.0(_PyObject_MakeTpCall+0x2ab)[0x7f2f83f4f4eb]\n",
      "/usr/lib/libpython3.10.so.1.0(+0x1616a6)[0x7f2f83f616a6]\n",
      "/usr/lib/libpython3.10.so.1.0(_PyEval_EvalFrameDefault+0x4eaf)[0x7f2f83f4a03f]\n",
      "/usr/lib/libpython3.10.so.1.0(+0x144120)[0x7f2f83f44120]\n",
      "/usr/lib/libpython3.10.so.1.0(PyEval_EvalCode+0x94)[0x7f2f83ff1b94]\n",
      "/usr/lib/libpython3.10.so.1.0(+0x1f7f1b)[0x7f2f83ff7f1b]\n",
      "/usr/lib/libpython3.10.so.1.0(+0x1564cf)[0x7f2f83f564cf]\n",
      "/usr/lib/libpython3.10.so.1.0(_PyEval_EvalFrameDefault+0x346)[0x7f2f83f454d6]\n",
      "/usr/lib/libpython3.10.so.1.0(+0x1fc2d0)[0x7f2f83ffc2d0]\n",
      "/usr/lib/libpython3.10.so.1.0(_PyEval_EvalFrameDefault+0x1d50)[0x7f2f83f46ee0]\n",
      "/usr/lib/libpython3.10.so.1.0(+0x1fc2d0)[0x7f2f83ffc2d0]\n",
      "/usr/lib/libpython3.10.so.1.0(_PyEval_EvalFrameDefault+0x1d50)[0x7f2f83f46ee0]\n",
      "/usr/lib/libpython3.10.so.1.0(+0x1fc2d0)[0x7f2f83ffc2d0]\n",
      "/usr/lib/libpython3.10.so.1.0(+0x2102d7)[0x7f2f840102d7]\n",
      "/usr/lib/libpython3.10.so.1.0(+0x15f919)[0x7f2f83f5f919]\n",
      "/usr/lib/libpython3.10.so.1.0(_PyEval_EvalFrameDefault+0x77a)[0x7f2f83f4590a]\n",
      "/usr/lib/libpython3.10.so.1.0(_PyFunction_Vectorcall+0x79)[0x7f2f83f562d9]\n",
      "/usr/lib/libpython3.10.so.1.0(_PyEval_EvalFrameDefault+0x346)[0x7f2f83f454d6]\n",
      "/usr/lib/libpython3.10.so.1.0(_PyFunction_Vectorcall+0x79)[0x7f2f83f562d9]\n",
      "/usr/lib/libpython3.10.so.1.0(_PyEval_EvalFrameDefault+0x77a)[0x7f2f83f4590a]\n",
      "/usr/lib/libpython3.10.so.1.0(+0x161446)[0x7f2f83f61446]\n",
      "/usr/lib/libpython3.10.so.1.0(PyObject_Call+0x15c)[0x7f2f83f61ebc]\n",
      "/usr/lib/libpython3.10.so.1.0(_PyEval_EvalFrameDefault+0x2d68)[0x7f2f83f47ef8]\n",
      "/usr/lib/libpython3.10.so.1.0(+0x161446)[0x7f2f83f61446]\n",
      "/usr/lib/libpython3.10.so.1.0(_PyEval_EvalFrameDefault+0x1488)[0x7f2f83f46618]\n",
      "/usr/lib/libpython3.10.so.1.0(+0x1fc2d0)[0x7f2f83ffc2d0]\n",
      "/usr/lib/libpython3.10.so.1.0(_PyEval_EvalFrameDefault+0x1d50)[0x7f2f83f46ee0]\n",
      "/usr/lib/libpython3.10.so.1.0(+0x1fc2d0)[0x7f2f83ffc2d0]\n",
      "/usr/lib/libpython3.10.so.1.0(_PyEval_EvalFrameDefault+0x1d50)[0x7f2f83f46ee0]\n",
      "/usr/lib/libpython3.10.so.1.0(+0x1fc2d0)[0x7f2f83ffc2d0]\n",
      "/usr/lib/libpython3.10.so.1.0(_PyEval_EvalFrameDefault+0x1d50)[0x7f2f83f46ee0]\n",
      "/usr/lib/libpython3.10.so.1.0(+0x1fc2d0)[0x7f2f83ffc2d0]\n",
      "/usr/lib/libpython3.10.so.1.0(_PyEval_EvalFrameDefault+0x1d50)[0x7f2f83f46ee0]\n",
      "/usr/lib/libpython3.10.so.1.0(+0x1fc2d0)[0x7f2f83ffc2d0]\n",
      "/usr/lib/python3.10/lib-dynload/_asyncio.cpython-310-x86_64-linux-gnu.so(+0x6dfe)[0x7f2f82f87dfe]\n",
      "/usr/lib/libpython3.10.so.1.0(+0x1556f6)[0x7f2f83f556f6]\n",
      "/usr/lib/libpython3.10.so.1.0(+0x1f38dc)[0x7f2f83ff38dc]\n",
      "/usr/lib/libpython3.10.so.1.0(+0xfa22a)[0x7f2f83efa22a]\n",
      "/usr/lib/libpython3.10.so.1.0(+0x14d0ef)[0x7f2f83f4d0ef]\n",
      "/usr/lib/libpython3.10.so.1.0(_PyEval_EvalFrameDefault+0x6216)[0x7f2f83f4b3a6]\n",
      "/usr/lib/libpython3.10.so.1.0(_PyFunction_Vectorcall+0x79)[0x7f2f83f562d9]\n",
      "/usr/lib/libpython3.10.so.1.0(_PyEval_EvalFrameDefault+0x77a)[0x7f2f83f4590a]\n",
      "/usr/lib/libpython3.10.so.1.0(_PyFunction_Vectorcall+0x79)[0x7f2f83f562d9]\n",
      "/usr/lib/libpython3.10.so.1.0(_PyEval_EvalFrameDefault+0x77a)[0x7f2f83f4590a]\n",
      "/usr/lib/libpython3.10.so.1.0(_PyFunction_Vectorcall+0x79)[0x7f2f83f562d9]\n",
      "/usr/lib/libpython3.10.so.1.0(_PyEval_EvalFrameDefault+0x77a)[0x7f2f83f4590a]\n",
      "/usr/lib/libpython3.10.so.1.0(_PyFunction_Vectorcall+0x79)[0x7f2f83f562d9]\n",
      "/usr/lib/libpython3.10.so.1.0(_PyEval_EvalFrameDefault+0x77a)[0x7f2f83f4590a]\n",
      "/usr/lib/libpython3.10.so.1.0(_PyFunction_Vectorcall+0x79)[0x7f2f83f562d9]\n",
      "/usr/lib/libpython3.10.so.1.0(_PyEval_EvalFrameDefault+0x77a)[0x7f2f83f4590a]\n",
      "/usr/lib/libpython3.10.so.1.0(+0x161446)[0x7f2f83f61446]\n",
      "/usr/lib/libpython3.10.so.1.0(_PyEval_EvalFrameDefault+0x4eaf)[0x7f2f83f4a03f]\n",
      "/usr/lib/libpython3.10.so.1.0(+0x144120)[0x7f2f83f44120]\n",
      "/usr/lib/libpython3.10.so.1.0(PyEval_EvalCode+0x94)[0x7f2f83ff1b94]\n",
      "/usr/lib/libpython3.10.so.1.0(+0x1f7f1b)[0x7f2f83ff7f1b]\n",
      "/usr/lib/libpython3.10.so.1.0(+0x1564cf)[0x7f2f83f564cf]\n",
      "/usr/lib/libpython3.10.so.1.0(_PyEval_EvalFrameDefault+0x346)[0x7f2f83f454d6]\n",
      "/usr/lib/libpython3.10.so.1.0(_PyFunction_Vectorcall+0x79)[0x7f2f83f562d9]\n",
      "/usr/lib/libpython3.10.so.1.0(_PyEval_EvalFrameDefault+0x346)[0x7f2f83f454d6]\n",
      "/usr/lib/libpython3.10.so.1.0(_PyFunction_Vectorcall+0x79)[0x7f2f83f562d9]\n",
      "/usr/lib/libpython3.10.so.1.0(+0x216617)[0x7f2f84016617]\n",
      "/usr/lib/libpython3.10.so.1.0(Py_RunMain+0x1fc)[0x7f2f8400e92c]\n",
      "/usr/lib/libpython3.10.so.1.0(Py_BytesMain+0x3b)[0x7f2f83fe336b]\n",
      "/usr/lib/libc.so.6(+0x23790)[0x7f2f83c3c790]\n",
      "/usr/lib/libc.so.6(__libc_start_main+0x8a)[0x7f2f83c3c84a]\n",
      "/home/benoit/.virtualenvs/env3.10/bin/python(_start+0x25)[0x55c9f50d8045]\n",
      "------------------------------------------------------------------------\n"
     ]
    },
    {
     "name": "stdout",
     "output_type": "stream",
     "text": [
      "\u001b[1;36m[Dbg] [SystemManager.cc:74] \u001b[0m\u001b[1;36mLoaded system [\u001b[0m\u001b[1;36mgz::sim::systems::SceneBroadcaster\u001b[0m\u001b[1;36m] for entity [\u001b[0m\u001b[1;36m1\u001b[0m\u001b[1;36m]\u001b[0m\u001b[1;36m\u001b[0m\n",
      "\u001b[1;32m[Msg] \u001b[0m\u001b[1;32mServing world controls on [\u001b[0m\u001b[1;32m/world/dem_heightmap\u001b[0m\u001b[1;32m/control], [\u001b[0m\u001b[1;32m/world/dem_heightmap\u001b[0m\u001b[1;32m/control/state] and [\u001b[0m\u001b[1;32m/world/dem_heightmap\u001b[0m\u001b[1;32m/playback/control]\u001b[0m\u001b[1;32m\u001b[0m\n",
      "\u001b[1;32m[Msg] \u001b[0m\u001b[1;32mServing GUI information on [\u001b[0m\u001b[1;32m/world/dem_heightmap\u001b[0m\u001b[1;32m/\u001b[0m\u001b[1;32mgui/info\u001b[0m\u001b[1;32m]\u001b[0m\u001b[1;32m\u001b[0m\n",
      "\u001b[1;32m[Msg] \u001b[0m\u001b[1;32mWorld [\u001b[0m\u001b[1;32mdem_heightmap\u001b[0m\u001b[1;32m] initialized with [\u001b[0m\u001b[1;32m1ms\u001b[0m\u001b[1;32m] physics profile.\u001b[0m\u001b[1;32m\u001b[0m\n",
      "\u001b[1;32m[Msg] \u001b[0m\u001b[1;32mServing world SDF generation service on [\u001b[0m\u001b[1;32m/world/dem_heightmap\u001b[0m\u001b[1;32m/\u001b[0m\u001b[1;32mgenerate_world_sdf\u001b[0m\u001b[1;32m]\u001b[0m\u001b[1;32m\u001b[0m\n",
      "\u001b[1;32m[Msg] \u001b[0m\u001b[1;32mServing world names on [\u001b[0m\u001b[1;32m/gazebo/worlds\u001b[0m\u001b[1;32m]\u001b[0m\u001b[1;32m\u001b[0m\n",
      "\u001b[1;32m[Msg] \u001b[0m\u001b[1;32mResource path add service on [\u001b[0m\u001b[1;32m/gazebo/resource_paths/add\u001b[0m\u001b[1;32m].\u001b[0m\u001b[1;32m\u001b[0m\n",
      "\u001b[1;32m[Msg] \u001b[0m\u001b[1;32mResource path get service on [\u001b[0m\u001b[1;32m/gazebo/resource_paths/get\u001b[0m\u001b[1;32m].\u001b[0m\u001b[1;32m\u001b[0m\n",
      "\u001b[1;32m[Msg] \u001b[0m\u001b[1;32mResource path resolve service on [\u001b[0m\u001b[1;32m/gazebo/resource_paths/resolve\u001b[0m\u001b[1;32m].\u001b[0m\u001b[1;32m\u001b[0m\n",
      "\u001b[1;32m[Msg] \u001b[0m\u001b[1;32mResource paths published on [\u001b[0m\u001b[1;32m/gazebo/resource_paths\u001b[0m\u001b[1;32m].\u001b[0m\u001b[1;32m\u001b[0m\n",
      "\u001b[1;32m[Msg] \u001b[0m\u001b[1;32mServer control service on [\u001b[0m\u001b[1;32m/server_control\u001b[0m\u001b[1;32m].\u001b[0m\u001b[1;32m\u001b[0m\n",
      "\u001b[1;32m[Msg] \u001b[0m\u001b[1;32mFound no publishers on /stats, adding root stats topic\u001b[0m\u001b[1;32m\u001b[0m\n",
      "\u001b[1;32m[Msg] \u001b[0m\u001b[1;32mFound no publishers on /clock, adding root clock topic\u001b[0m\u001b[1;32m\u001b[0m\n",
      "\u001b[1;36m[Dbg] [SimulationRunner.cc:513] \u001b[0m\u001b[1;36mCreating PostUpdate worker threads: \u001b[0m\u001b[1;36m3\u001b[0m\u001b[1;36m\u001b[0m\n",
      "\u001b[1;36m[Dbg] [SimulationRunner.cc:524] \u001b[0m\u001b[1;36mCreating postupdate worker thread (\u001b[0m\u001b[1;36m0\u001b[0m\u001b[1;36m)\u001b[0m\u001b[1;36m\u001b[0m\n",
      "\u001b[1;36m[Dbg] [SimulationRunner.cc:524] \u001b[0m\u001b[1;36mCreating postupdate worker thread (\u001b[0m\u001b[1;36m1\u001b[0m\u001b[1;36m)\u001b[0m\u001b[1;36m\u001b[0m\n"
     ]
    },
    {
     "name": "stderr",
     "output_type": "stream",
     "text": [
      "Attaching gdb to process id 86041.\n"
     ]
    }
   ],
   "source": [
    "base = './traj.sdf'\n",
    "tf = cmisc.tempfile.NamedTemporaryFile()\n",
    "\n",
    "\n",
    "with cmisc.tempfile.NamedTemporaryFile() as tf2:\n",
    "    conv = helper.SDFConverter(base)\n",
    "    conv.reset_world(conv.rbl_to_model(rbl))\n",
    "    print(tf.name)\n",
    "    conv.write(tf.name)\n",
    "\n",
    "    runner = helper.GZRunner.Build(tf.name)\n",
    "    runner.set_physics(5)\n",
    "    model = runner.model(helper.SDFConverter.MODEL_NAME)\n",
    "    link = runner.model_link(model)\n",
    "    \n",
    "    sim7.LinearVelocityCmd.GetOrCreate(runner.ecm, model.entity()).set_data(v0.to_gz())\n",
    "    def conf_cb(*args):\n",
    "        #a = sim7.ExternalWorldWrenchCmd.GetOrCreate(runner.ecm, link.entity())\n",
    "        #ctrl = ctrl_obs.last.get_ctrl()\n",
    "        #w = Wrench(force=Vector3d(x=ctrl[0], y=ctrl[1], z=ctrl[2]))\n",
    "        #a.set_data(w)\n",
    "\n",
    "        model_tsf = helper.GZDatas.tsf.query(runner, model.entity())\n",
    "        gx = gspec(model_tsf.pos_v)\n",
    "        sim7.GravityCmd.GetOrCreate(runner.ecm, runner.world.entity()).set_data(gx.to_gz())\n",
    "        #sim7.InertialCmd.GetOrCreate(runner.ecm, link.entity()).set_data(a)\n",
    "    runner.callbacks[helper.GZCallbackMode.PRE].append(conf_cb)\n",
    "\n",
    "    from chdrft.sim.gz.helper import *\n",
    "    stats = StatsGatherer(requests=[GZDatas.l_velocity.make_request('link' , link.entity()), GZDatas.tsf.make_request('model', model.entity())], iter_downsample=10)\n",
    "    stats.register(runner)\n",
    "\n",
    "    #runner.reset()\n",
    "    runner.server.run(True, 1000, False)\n",
    "    dfx =pd.DataFrame.from_records(stats.records)\n",
    "    \n",
    "\n",
    "\n",
    "#try_spec(spec)"
   ]
  },
  {
   "cell_type": "code",
   "execution_count": null,
   "id": "84f6a5cf",
   "metadata": {
    "ExecuteTime": {
     "start_time": "2023-04-13T23:09:56.960Z"
    }
   },
   "outputs": [],
   "source": [
    "dfx['model.tsf'].apply(lambda x: x.pos[1])"
   ]
  },
  {
   "cell_type": "code",
   "execution_count": null,
   "id": "05d1cbb0",
   "metadata": {
    "ExecuteTime": {
     "start_time": "2023-04-13T23:10:14.701Z"
    }
   },
   "outputs": [],
   "source": [
    "\n",
    "sim7.LinearVelocityCmd.GetOrCreate(runner.ecm, model.entity()).data()"
   ]
  },
  {
   "cell_type": "code",
   "execution_count": 10,
   "id": "d2f93bad",
   "metadata": {
    "ExecuteTime": {
     "end_time": "2023-04-13T22:58:25.940236Z",
     "start_time": "2023-04-13T22:58:25.934041Z"
    }
   },
   "outputs": [
    {
     "data": {
      "text/plain": [
       "V([0.0000000, 9.7983981, 0.0000000,])"
      ]
     },
     "execution_count": 10,
     "metadata": {},
     "output_type": "execute_result"
    }
   ],
   "source": [
    "v0*v0/p0.norm"
   ]
  },
  {
   "cell_type": "code",
   "execution_count": 1,
   "id": "91d07762",
   "metadata": {
    "ExecuteTime": {
     "end_time": "2023-04-13T22:56:07.381490Z",
     "start_time": "2023-04-13T22:56:07.274210Z"
    }
   },
   "outputs": [
    {
     "ename": "NameError",
     "evalue": "name 'dfx' is not defined",
     "output_type": "error",
     "traceback": [
      "\u001b[0;31m---------------------------------------------------------------------------\u001b[0m",
      "\u001b[0;31mNameError\u001b[0m                                 Traceback (most recent call last)",
      "Input \u001b[0;32mIn [1]\u001b[0m, in \u001b[0;36m<cell line: 1>\u001b[0;34m()\u001b[0m\n\u001b[0;32m----> 1\u001b[0m \u001b[43mdfx\u001b[49m\n",
      "\u001b[0;31mNameError\u001b[0m: name 'dfx' is not defined"
     ]
    }
   ],
   "source": [
    "dfx"
   ]
  }
 ],
 "metadata": {
  "kernelspec": {
   "display_name": "env3",
   "language": "python",
   "name": "env3"
  },
  "language_info": {
   "codemirror_mode": {
    "name": "ipython",
    "version": 3
   },
   "file_extension": ".py",
   "mimetype": "text/x-python",
   "name": "python",
   "nbconvert_exporter": "python",
   "pygments_lexer": "ipython3",
   "version": "3.10.9"
  }
 },
 "nbformat": 4,
 "nbformat_minor": 5
}
