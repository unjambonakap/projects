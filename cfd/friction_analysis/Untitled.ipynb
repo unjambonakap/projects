{
 "cells": [
  {
   "cell_type": "code",
   "execution_count": 1,
   "id": "8beff3d6",
   "metadata": {},
   "outputs": [
    {
     "data": {
      "text/html": [
       "<style>.container { width:90% !important; }</style>"
      ],
      "text/plain": [
       "<IPython.core.display.HTML object>"
      ]
     },
     "metadata": {},
     "output_type": "display_data"
    },
    {
     "name": "stderr",
     "output_type": "stream",
     "text": [
      "W1013 00:57:06.627876 1178384 __init__.py:121] Arrangement computation is unavailable\n"
     ]
    },
    {
     "name": "stdout",
     "output_type": "stream",
     "text": [
      "Got exception No module named 'unicorn'\n",
      "Runnign magic qt5\n",
      "done\n",
      "False\n"
     ]
    },
    {
     "name": "stderr",
     "output_type": "stream",
     "text": [
      "--------------------------------------------------------------------------\n",
      "The library attempted to open the following supporting CUDA libraries,\n",
      "but each of them failed.  CUDA-aware support is disabled.\n",
      "libcuda.so.1: cannot open shared object file: No such file or directory\n",
      "libcuda.dylib: cannot open shared object file: No such file or directory\n",
      "/usr/lib64/libcuda.so.1: cannot open shared object file: No such file or directory\n",
      "/usr/lib64/libcuda.dylib: cannot open shared object file: No such file or directory\n",
      "If you are not interested in CUDA-aware support, then run with\n",
      "--mca opal_warn_on_missing_libcuda 0 to suppress this message.  If you are interested\n",
      "in CUDA-aware support, then try setting LD_LIBRARY_PATH to the location\n",
      "of libcuda.so.1 to get passed this issue.\n",
      "--------------------------------------------------------------------------\n"
     ]
    }
   ],
   "source": [
    "init_jupyter()\n",
    "import chdrft.sim.ofoam as ofoam\n",
    "ctx = app.setup_jup(parser_funcs=[ofoam.args])\n",
    "import sys\n",
    "sys.path.append('/usr/share/gmsh/api/python/')\n",
    "import gmsh\n",
    "import fipy\n",
    "import pymesh\n",
    "import pygmsh\n",
    "from scipy.spatial.transform import Rotation as R\n",
    "%load_ext autoreload\n",
    "%autoreload 2\n",
    "import meshio"
   ]
  },
  {
   "cell_type": "code",
   "execution_count": 2,
   "id": "52add7b1",
   "metadata": {},
   "outputs": [
    {
     "data": {
      "text/plain": [
       "'abc: 1.0\\nxx:\\n  ddd: 33\\n'"
      ]
     },
     "execution_count": 2,
     "metadata": {},
     "output_type": "execute_result"
    }
   ],
   "source": [
    "import chdrft.utils.misc as cmisc\n",
    "import numpy as np\n",
    "cmisc.yaml_dump_custom(dict(abc=np.float64(1), xx=dict(ddd=33)))\n"
   ]
  },
  {
   "cell_type": "code",
   "execution_count": 44,
   "id": "b4ee5b5d",
   "metadata": {},
   "outputs": [],
   "source": [
    "def gen_cylinder(p0, axis, radius, fname):\n",
    "    with pygmsh.occ.Geometry() as geom:\n",
    "        geom.characteristic_length_max = 2.5\n",
    "        geom.add_cylinder(p0, axis, radius)\n",
    "        mesh = geom.generate_mesh()\n",
    "        print(mesh)\n",
    "        gmsh.write(fname)\n",
    "        \n",
    "def transform_mesh(mesh, func=None, mat=None):\n",
    "    if func is None: func = lambda x: Z.opa_math.MatHelper.mat_apply_nd(mat, x.T, n=3, point=1).T\n",
    "    return meshio.Mesh(func(mesh.points), mesh.cells)\n",
    "\n",
    "def centered_rot(rmat, pos=[0,0,0]):\n",
    "    pos = np.array(pos)\n",
    "    mh = Z.opa_math.MatHelper\n",
    "    return mh.mat_apply_nd(mh.mat_translate(pos), mh.mat4(rmat), mh.mat_translate(-pos))\n",
    "def gen_rot_grid(npts):\n",
    "    tb=[]\n",
    "    for i in range(3):\n",
    "        mul = [1,2][i!=0]\n",
    "        tb.append(np.linspace(0, mul*np.pi, mul * npts, endpoint=False))\n",
    "    \n",
    "    return R.from_euler('ZYX', list(itertools.product(*tb)))\n",
    "\n",
    "class AnnotatedFiles(Z.ExitStack):\n",
    "    def __init__(self, path, key, w=0):\n",
    "        super().__init__()\n",
    "        cmisc.makedirs(path)\n",
    "        self.path = path\n",
    "        self.key = key\n",
    "        self.id = 0\n",
    "        self.entries = []\n",
    "        self.conf_file = f'{self.path}/chx_conf_{self.key}.yaml'\n",
    "        \n",
    "    def __enter__(self):\n",
    "        super().__enter__()\n",
    "        self.callback(self.write)\n",
    "        return self\n",
    "    \n",
    "    def load(self):\n",
    "        conf = Z.FileFormatHelper.Read(self.conf_file)\n",
    "        self.id = conf.id\n",
    "        self.entries = conf.entries\n",
    "        for x in self.entries: self.norm(x)\n",
    "    def query(self):\n",
    "        return cmisc.asq_query(self.entries)\n",
    "        \n",
    "    def write(self):\n",
    "        Z.FileFormatHelper.Write(self.conf_file, A(entries=self.entries, id=self.id))\n",
    "        \n",
    "    def make_fname(self, data):\n",
    "        return cmisc.yaml_dump_custom(data, default_flow_style=True).replace('/', '_').replace('\\n', '').replace(' ', '')\n",
    "        \n",
    "    def add_file(self, data, ext=None):\n",
    "        idx = self.id\n",
    "        self.id += 1\n",
    "        e =A(data=data, id=idx, fname=f'chx_file_{self.key}_{self.make_fname(data)}_{idx:04}{ext}')\n",
    "        self.norm(e)\n",
    "        self.entries.append(e)\n",
    "        return e.path\n",
    "        \n",
    "    def norm(self, e):\n",
    "        e.path = f'{self.path}/{e.fname}'\n",
    "        return e.path\n",
    "        "
   ]
  },
  {
   "cell_type": "code",
   "execution_count": 3,
   "id": "76c2b5a7",
   "metadata": {},
   "outputs": [
    {
     "name": "stdout",
     "output_type": "stream",
     "text": [
      "<meshio mesh object>\n",
      "  Number of points: 139\n",
      "  Number of cells:\n",
      "    line: 28\n",
      "    triangle: 258\n",
      "    tetra: 341\n",
      "    vertex: 2\n"
     ]
    }
   ],
   "source": [
    "gen_cylinder([-10,0,0], [20,0,0], 3, 'test.stl')"
   ]
  },
  {
   "cell_type": "code",
   "execution_count": 49,
   "id": "695cd08b",
   "metadata": {},
   "outputs": [],
   "source": [
    "with  AnnotatedFiles('./data', 'rots') as af:\n",
    "    mesh_in =meshio.read('test.stl')\n",
    "    for rot in gen_rot_grid(3):\n",
    "        p = af.add_file(A(rot=rot.as_euler('ZYX')), '.stl')\n",
    "        mout = transform_mesh(mesh_in, mat=centered_rot(rot.as_matrix()))\n",
    "        mout.write(p)\n",
    "        "
   ]
  },
  {
   "cell_type": "code",
   "execution_count": 79,
   "id": "5d9775b5",
   "metadata": {},
   "outputs": [
    {
     "data": {
      "text/plain": [
       "<meshio mesh object>\n",
       "  Number of points: 131\n",
       "  Number of cells:\n",
       "    triangle: 258"
      ]
     },
     "execution_count": 79,
     "metadata": {},
     "output_type": "execute_result"
    }
   ],
   "source": [
    "mesh_in =meshio.read('test.stl')\n",
    "transform_mesh(mesh_in, mat=centered_rot(rot.as_matrix()))\n"
   ]
  },
  {
   "cell_type": "code",
   "execution_count": 46,
   "id": "fce2842f",
   "metadata": {},
   "outputs": [],
   "source": [
    "\n",
    "af = AnnotatedFiles('./data', 'rots')\n",
    "af.load()\n",
    "for x in af.entries:\n",
    "    Z.shutil.copyfile(x.path, f'./tmp/t{x.id}.vtk')"
   ]
  },
  {
   "cell_type": "code",
   "execution_count": 39,
   "id": "ad33e641",
   "metadata": {},
   "outputs": [
    {
     "data": {
      "text/plain": [
       "[(0, 0), (0, 1), (1, 0), (1, 1)]"
      ]
     },
     "execution_count": 39,
     "metadata": {},
     "output_type": "execute_result"
    }
   ],
   "source": [
    "list(Z.itertools.product(range(2), repeat=2))"
   ]
  },
  {
   "cell_type": "code",
   "execution_count": 32,
   "id": "78f3c9e0",
   "metadata": {},
   "outputs": [
    {
     "data": {
      "text/plain": [
       "124"
      ]
     },
     "execution_count": 32,
     "metadata": {},
     "output_type": "execute_result"
    }
   ],
   "source": [
    "x.id"
   ]
  },
  {
   "cell_type": "code",
   "execution_count": 85,
   "id": "3b1b7d57",
   "metadata": {},
   "outputs": [
    {
     "name": "stdout",
     "output_type": "stream",
     "text": [
      "rot: !!python_object_apply:numpy.core.multiarray.scalar\n",
      "- !!python_object_apply:numpy.dtype\n",
      "  args:\n",
      "  - f8\n",
      "  - false\n",
      "  - true\n",
      "  state: !!python_tuple\n",
      "  - 3\n",
      "  - <\n",
      "  - null\n",
      "  - null\n",
      "  - null\n",
      "  - -1\n",
      "  - -1\n",
      "  - 0\n",
      "- !!binary |\n",
      "  AAAAAAAAAAA=\n",
      "\n"
     ]
    }
   ],
   "source": [
    "print(af.make_fname(dict(rot=rot.as_euler('ZYX')[0])))"
   ]
  },
  {
   "cell_type": "code",
   "execution_count": 75,
   "id": "4b2642fc",
   "metadata": {},
   "outputs": [],
   "source": [
    "\n",
    "import meshio\n",
    "mo = meshio.Mesh(mesh_in.vertices, [('triangle', mesh_in.faces)])\n",
    "mo.write('./test2.stl')"
   ]
  },
  {
   "cell_type": "code",
   "execution_count": 77,
   "id": "c12e0173",
   "metadata": {},
   "outputs": [
    {
     "data": {
      "text/plain": [
       "[<meshio CellBlock, type: triangle, num cells: 258>]"
      ]
     },
     "execution_count": 77,
     "metadata": {},
     "output_type": "execute_result"
    }
   ],
   "source": [
    "mo.cells"
   ]
  }
 ],
 "metadata": {
  "kernelspec": {
   "display_name": "env3",
   "language": "python",
   "name": "env3"
  },
  "language_info": {
   "codemirror_mode": {
    "name": "ipython",
    "version": 3
   },
   "file_extension": ".py",
   "mimetype": "text/x-python",
   "name": "python",
   "nbconvert_exporter": "python",
   "pygments_lexer": "ipython3",
   "version": "3.10.2"
  }
 },
 "nbformat": 4,
 "nbformat_minor": 5
}
