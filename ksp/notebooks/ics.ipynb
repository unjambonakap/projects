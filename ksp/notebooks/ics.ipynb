{
 "cells": [
  {
   "cell_type": "code",
   "execution_count": 1,
   "id": "399f791f",
   "metadata": {},
   "outputs": [
    {
     "data": {
      "text/plain": [
       "2022/03/20 00:06:53:605 [DEBUG] Creating session"
      ]
     },
     "metadata": {},
     "output_type": "display_data"
    },
    {
     "data": {
      "text/plain": []
     },
     "metadata": {},
     "output_type": "display_data"
    },
    {
     "data": {
      "text/plain": [
       "2022/03/20 00:06:53:629 [DEBUG] Starting execution using System.Reflection;\n",
       "using System;\n",
       "using System.Collections.Generic;\n",
       "using System.Diagnostics.CodeAnalysis;\n",
       "using System.IO;\n",
       "using System.Linq;\n",
       "using Newtonsoft.Json;\n",
       "using UnityEngine;\n",
       "using KRPC.SpaceCenter.Services;\n"
      ]
     },
     "metadata": {},
     "output_type": "display_data"
    },
    {
     "data": {
      "text/plain": [
       "2022/03/20 00:06:53:984 [DEBUG] Finished execution"
      ]
     },
     "metadata": {},
     "output_type": "display_data"
    },
    {
     "data": {
      "text/plain": []
     },
     "metadata": {},
     "output_type": "display_data"
    }
   ],
   "source": [
    "using System.Reflection;\n",
    "using System;\n",
    "using System.Collections.Generic;\n",
    "using System.Diagnostics.CodeAnalysis;\n",
    "using System.IO;\n",
    "using System.Linq;\n",
    "using Newtonsoft.Json;\n",
    "using UnityEngine;\n",
    "using KRPC.SpaceCenter.Services;\n"
   ]
  },
  {
   "cell_type": "code",
   "execution_count": null,
   "id": "8abb032e",
   "metadata": {},
   "outputs": [],
   "source": [
    "var y =new [] { 123, 456};\n",
    "Console.WriteLine($\"FUUU >> y.ToList()2\")"
   ]
  },
  {
   "cell_type": "code",
   "execution_count": null,
   "id": "ae18ad2b",
   "metadata": {},
   "outputs": [],
   "source": [
    "Console.WriteLine(KRPC.Kernel.Instance.Current == null);"
   ]
  },
  {
   "cell_type": "code",
   "execution_count": null,
   "id": "dffbe690",
   "metadata": {},
   "outputs": [],
   "source": [
    "//_env.AddSearchPath(\"/home/benoit/.local/share/Steam/steamapps/common/Kerbal Space Program/KSP_Data/Managed\");\n",
    "//_env.AddSearchPath(\"/home/benoit/.local/share/Steam/steamapps/common/Kerbal Space Program/GameData/kRPC\");\n",
    "//_env.AddReference(\"Assembly-CSharp.dll\");\n",
    "//_env.AddReference(\"KRPC.dll\");\n",
    "//var x= (KRPC.Kernel)_env.ExtraParams.Data;"
   ]
  },
  {
   "cell_type": "code",
   "execution_count": null,
   "id": "e9579276",
   "metadata": {
    "scrolled": true
   },
   "outputs": [],
   "source": [
    "Console.WriteLine(typeof(KRPC.Kernel).Assembly.Location);\n",
    "Console.WriteLine(typeof(KRPC.Addon).Assembly.Location);\n",
    "Console.WriteLine(KRPC.Kernel.Instance ==null);\n",
    "Console.WriteLine(KRPC.Addon.Instance ==null);"
   ]
  },
  {
   "cell_type": "code",
   "execution_count": null,
   "id": "2d1a1ed2",
   "metadata": {},
   "outputs": [],
   "source": [
    "Console.WriteLine(ShipConstruction.Instance);"
   ]
  },
  {
   "cell_type": "code",
   "execution_count": null,
   "id": "63e9dc23",
   "metadata": {},
   "outputs": [],
   "source": [
    "\n",
    "int recoverCount = 0;\n",
    "string path;\n",
    "ShipTemplate template;\n",
    "ShipConstruct construct;\n",
    "string config = null;\n",
    "List<string> data = new List<string>();\n",
    "//path =ShipConstruction.GetSavePath(\"Auto-Saved Ship\");\n",
    "template =ShipConstruction.LoadTemplate(\"./Ships/VAB/SpaceX Falcon Heavy.craft\");\n",
    "template =ShipConstruction.LoadTemplate(\"./Ships/VAB/SpaceX Falcon 9 Block 5.craft\");\n",
    "data.Add(template.config == null ? \"Null\" : \"Ok\");\n",
    "config = template.config.ToString();\n",
    "path += \"1\";\n",
    "//return;\n",
    "var launchSite = \"VAB\";\n",
    "var flightState =HighLogic.CurrentGame.flightState;\n",
    "\n",
    "//var vesselsToRecover = ShipConstruction.FindVesselsLandedAt(, launchSite);\n",
    "foreach (var v in flightState.protoVessels){\n",
    "    recoverCount += 1;\n",
    "    ShipConstruction.RecoverVesselFromFlight(v, flightState);\n",
    "}\n",
    "\n",
    "EditorLogic.fetch.launchVessel(launchSite);\n",
    "Console.WriteLine($\"PATH >> {path}\");\n",
    "//TimeWarp.SetRate(1, true);\n",
    "//TimeWarp.fetch.physicsWarpRates[0] = 0.1f;\n",
    "//TimeWarp.SetRate(0, true);"
   ]
  },
  {
   "cell_type": "code",
   "execution_count": null,
   "id": "4292eaf9",
   "metadata": {},
   "outputs": [],
   "source": [
    "TimeWarp.SetRate(1, true);\n",
    "TimeWarp.fetch.physicsWarpRates[0] = 0.1f;\n",
    "TimeWarp.fetch.warpRates[0] = 0.1f;\n",
    "TimeWarp.SetRate(0, true);"
   ]
  },
  {
   "cell_type": "code",
   "execution_count": null,
   "id": "52a7dfed",
   "metadata": {},
   "outputs": [],
   "source": [
    "\n",
    "var mun = KRPC.SpaceCenter.Services.SpaceCenter.Bodies[\"Mun\"];\n",
    "var earth = KRPC.SpaceCenter.Services.SpaceCenter.Bodies[\"Kerbin\"];"
   ]
  },
  {
   "cell_type": "code",
   "execution_count": null,
   "id": "38aa9d71",
   "metadata": {},
   "outputs": [],
   "source": [
    "var active = FlightGlobals.fetch.activeVessel;\n",
    "for (int i = 0; i < active.Parts.Count; ++i) {\n",
    "// need checks on shielded components\n",
    "var p = active.Parts[i];\n",
    "\n",
    "for (int j = 0; j < p.Modules.Count; ++j) {\n",
    "var m = p.Modules[j];\n",
    "var wing = m as ModuleLiftingSurface;\n",
    "if (wing != null)\n",
    "Console.WriteLine(p.ToString());\n",
    "}\n",
    "}\n"
   ]
  },
  {
   "cell_type": "code",
   "execution_count": 15,
   "id": "1fc5c5c5",
   "metadata": {},
   "outputs": [
    {
     "data": {
      "text/plain": [
       "2022/03/20 00:15:15:607 [DEBUG] Reusing existing session"
      ]
     },
     "metadata": {},
     "output_type": "display_data"
    },
    {
     "data": {
      "text/plain": []
     },
     "metadata": {},
     "output_type": "display_data"
    },
    {
     "data": {
      "text/plain": [
       "2022/03/20 00:15:15:608 [DEBUG] Starting execution var vessel = KRPC.SpaceCenter.Services.SpaceCenter.ActiveVessel;\n",
       "foreach (var part in vessel.InternalVessel.Parts)\n",
       "{\n",
       "Console.WriteLine($\"{part.children.Count} {part.parent==null} {part.GetHashCode()}\");\n",
       "foreach(var child in part.children) Console.WriteLine(child.GetHashCode());\n",
       "}"
      ]
     },
     "metadata": {},
     "output_type": "display_data"
    },
    {
     "data": {
      "text/plain": [
       "1 True 562135040"
      ]
     },
     "metadata": {},
     "output_type": "display_data"
    },
    {
     "data": {
      "text/plain": [
       "-1564803072"
      ]
     },
     "metadata": {},
     "output_type": "display_data"
    },
    {
     "data": {
      "text/plain": [
       "5 False -1564803072"
      ]
     },
     "metadata": {},
     "output_type": "display_data"
    },
    {
     "data": {
      "text/plain": [
       "-510656512"
      ]
     },
     "metadata": {},
     "output_type": "display_data"
    },
    {
     "data": {
      "text/plain": [
       "470908928"
      ]
     },
     "metadata": {},
     "output_type": "display_data"
    },
    {
     "data": {
      "text/plain": [
       "388235264"
      ]
     },
     "metadata": {},
     "output_type": "display_data"
    },
    {
     "data": {
      "text/plain": [
       "-613875712"
      ]
     },
     "metadata": {},
     "output_type": "display_data"
    },
    {
     "data": {
      "text/plain": [
       "-1298300928"
      ]
     },
     "metadata": {},
     "output_type": "display_data"
    },
    {
     "data": {
      "text/plain": [
       "1 False -510656512"
      ]
     },
     "metadata": {},
     "output_type": "display_data"
    },
    {
     "data": {
      "text/plain": [
       "2092400640"
      ]
     },
     "metadata": {},
     "output_type": "display_data"
    },
    {
     "data": {
      "text/plain": [
       "0 False 2092400640"
      ]
     },
     "metadata": {},
     "output_type": "display_data"
    },
    {
     "data": {
      "text/plain": [
       "0 False 470908928"
      ]
     },
     "metadata": {},
     "output_type": "display_data"
    },
    {
     "data": {
      "text/plain": [
       "1 False 388235264"
      ]
     },
     "metadata": {},
     "output_type": "display_data"
    },
    {
     "data": {
      "text/plain": [
       "462127104"
      ]
     },
     "metadata": {},
     "output_type": "display_data"
    },
    {
     "data": {
      "text/plain": [
       "0 False 462127104"
      ]
     },
     "metadata": {},
     "output_type": "display_data"
    },
    {
     "data": {
      "text/plain": [
       "5 False -613875712"
      ]
     },
     "metadata": {},
     "output_type": "display_data"
    },
    {
     "data": {
      "text/plain": [
       "-628588544"
      ]
     },
     "metadata": {},
     "output_type": "display_data"
    },
    {
     "data": {
      "text/plain": [
       "1537245184"
      ]
     },
     "metadata": {},
     "output_type": "display_data"
    },
    {
     "data": {
      "text/plain": [
       "963543040"
      ]
     },
     "metadata": {},
     "output_type": "display_data"
    },
    {
     "data": {
      "text/plain": [
       "185073664"
      ]
     },
     "metadata": {},
     "output_type": "display_data"
    },
    {
     "data": {
      "text/plain": [
       "253329408"
      ]
     },
     "metadata": {},
     "output_type": "display_data"
    },
    {
     "data": {
      "text/plain": [
       "8 False -628588544"
      ]
     },
     "metadata": {},
     "output_type": "display_data"
    },
    {
     "data": {
      "text/plain": [
       "2034270208"
      ]
     },
     "metadata": {},
     "output_type": "display_data"
    },
    {
     "data": {
      "text/plain": [
       "-2000617472"
      ]
     },
     "metadata": {},
     "output_type": "display_data"
    },
    {
     "data": {
      "text/plain": [
       "-687210496"
      ]
     },
     "metadata": {},
     "output_type": "display_data"
    },
    {
     "data": {
      "text/plain": [
       "-216334336"
      ]
     },
     "metadata": {},
     "output_type": "display_data"
    },
    {
     "data": {
      "text/plain": [
       "1583808512"
      ]
     },
     "metadata": {},
     "output_type": "display_data"
    },
    {
     "data": {
      "text/plain": [
       "2085486592"
      ]
     },
     "metadata": {},
     "output_type": "display_data"
    },
    {
     "data": {
      "text/plain": [
       "1918566400"
      ]
     },
     "metadata": {},
     "output_type": "display_data"
    },
    {
     "data": {
      "text/plain": [
       "-478183424"
      ]
     },
     "metadata": {},
     "output_type": "display_data"
    },
    {
     "data": {
      "text/plain": [
       "0 False 2034270208"
      ]
     },
     "metadata": {},
     "output_type": "display_data"
    },
    {
     "data": {
      "text/plain": [
       "0 False -2000617472"
      ]
     },
     "metadata": {},
     "output_type": "display_data"
    },
    {
     "data": {
      "text/plain": [
       "0 False -687210496"
      ]
     },
     "metadata": {},
     "output_type": "display_data"
    },
    {
     "data": {
      "text/plain": [
       "0 False -216334336"
      ]
     },
     "metadata": {},
     "output_type": "display_data"
    },
    {
     "data": {
      "text/plain": [
       "0 False 1583808512"
      ]
     },
     "metadata": {},
     "output_type": "display_data"
    },
    {
     "data": {
      "text/plain": [
       "0 False 2085486592"
      ]
     },
     "metadata": {},
     "output_type": "display_data"
    },
    {
     "data": {
      "text/plain": [
       "0 False 1918566400"
      ]
     },
     "metadata": {},
     "output_type": "display_data"
    },
    {
     "data": {
      "text/plain": [
       "13 False -478183424"
      ]
     },
     "metadata": {},
     "output_type": "display_data"
    },
    {
     "data": {
      "text/plain": [
       "824311808"
      ]
     },
     "metadata": {},
     "output_type": "display_data"
    },
    {
     "data": {
      "text/plain": [
       "-457113600"
      ]
     },
     "metadata": {},
     "output_type": "display_data"
    },
    {
     "data": {
      "text/plain": [
       "238551040"
      ]
     },
     "metadata": {},
     "output_type": "display_data"
    },
    {
     "data": {
      "text/plain": [
       "1308622848"
      ]
     },
     "metadata": {},
     "output_type": "display_data"
    },
    {
     "data": {
      "text/plain": [
       "-1223360512"
      ]
     },
     "metadata": {},
     "output_type": "display_data"
    },
    {
     "data": {
      "text/plain": [
       "943063040"
      ]
     },
     "metadata": {},
     "output_type": "display_data"
    },
    {
     "data": {
      "text/plain": [
       "1744207872"
      ]
     },
     "metadata": {},
     "output_type": "display_data"
    },
    {
     "data": {
      "text/plain": [
       "1986756608"
      ]
     },
     "metadata": {},
     "output_type": "display_data"
    },
    {
     "data": {
      "text/plain": [
       "567214080"
      ]
     },
     "metadata": {},
     "output_type": "display_data"
    },
    {
     "data": {
      "text/plain": [
       "-374374400"
      ]
     },
     "metadata": {},
     "output_type": "display_data"
    },
    {
     "data": {
      "text/plain": [
       "-941162496"
      ]
     },
     "metadata": {},
     "output_type": "display_data"
    },
    {
     "data": {
      "text/plain": [
       "-381288448"
      ]
     },
     "metadata": {},
     "output_type": "display_data"
    },
    {
     "data": {
      "text/plain": [
       "-948076544"
      ]
     },
     "metadata": {},
     "output_type": "display_data"
    },
    {
     "data": {
      "text/plain": [
       "0 False 824311808"
      ]
     },
     "metadata": {},
     "output_type": "display_data"
    },
    {
     "data": {
      "text/plain": [
       "0 False -457113600"
      ]
     },
     "metadata": {},
     "output_type": "display_data"
    },
    {
     "data": {
      "text/plain": [
       "0 False 238551040"
      ]
     },
     "metadata": {},
     "output_type": "display_data"
    },
    {
     "data": {
      "text/plain": [
       "0 False 1308622848"
      ]
     },
     "metadata": {},
     "output_type": "display_data"
    },
    {
     "data": {
      "text/plain": [
       "0 False -1223360512"
      ]
     },
     "metadata": {},
     "output_type": "display_data"
    },
    {
     "data": {
      "text/plain": [
       "0 False 943063040"
      ]
     },
     "metadata": {},
     "output_type": "display_data"
    },
    {
     "data": {
      "text/plain": [
       "0 False 1744207872"
      ]
     },
     "metadata": {},
     "output_type": "display_data"
    },
    {
     "data": {
      "text/plain": [
       "0 False 1986756608"
      ]
     },
     "metadata": {},
     "output_type": "display_data"
    },
    {
     "data": {
      "text/plain": [
       "0 False 567214080"
      ]
     },
     "metadata": {},
     "output_type": "display_data"
    },
    {
     "data": {
      "text/plain": [
       "0 False -374374400"
      ]
     },
     "metadata": {},
     "output_type": "display_data"
    },
    {
     "data": {
      "text/plain": [
       "0 False -941162496"
      ]
     },
     "metadata": {},
     "output_type": "display_data"
    },
    {
     "data": {
      "text/plain": [
       "0 False -381288448"
      ]
     },
     "metadata": {},
     "output_type": "display_data"
    },
    {
     "data": {
      "text/plain": [
       "0 False -948076544"
      ]
     },
     "metadata": {},
     "output_type": "display_data"
    },
    {
     "data": {
      "text/plain": [
       "0 False 1537245184"
      ]
     },
     "metadata": {},
     "output_type": "display_data"
    },
    {
     "data": {
      "text/plain": [
       "0 False 963543040"
      ]
     },
     "metadata": {},
     "output_type": "display_data"
    },
    {
     "data": {
      "text/plain": [
       "0 False 185073664"
      ]
     },
     "metadata": {},
     "output_type": "display_data"
    },
    {
     "data": {
      "text/plain": [
       "0 False 253329408"
      ]
     },
     "metadata": {},
     "output_type": "display_data"
    },
    {
     "data": {
      "text/plain": [
       "0 False -1298300928"
      ]
     },
     "metadata": {},
     "output_type": "display_data"
    },
    {
     "data": {
      "text/plain": [
       "2022/03/20 00:15:15:625 [DEBUG] Finished execution"
      ]
     },
     "metadata": {},
     "output_type": "display_data"
    },
    {
     "data": {
      "text/plain": []
     },
     "metadata": {},
     "output_type": "display_data"
    }
   ],
   "source": [
    "var vessel = KRPC.SpaceCenter.Services.SpaceCenter.ActiveVessel;\n",
    "foreach (var part in vessel.InternalVessel.Parts)\n",
    "{\n",
    "Console.WriteLine($\"{part.children.Count} {part.parent==null} {part.GetHashCode()}\");\n",
    "foreach(var child in part.children) Console.WriteLine(child.GetHashCode());\n",
    "}"
   ]
  },
  {
   "cell_type": "code",
   "execution_count": 2,
   "id": "762be1e1",
   "metadata": {},
   "outputs": [
    {
     "data": {
      "text/plain": [
       "2022/03/20 00:07:21:519 [DEBUG] Reusing existing session"
      ]
     },
     "metadata": {},
     "output_type": "display_data"
    },
    {
     "data": {
      "text/plain": []
     },
     "metadata": {},
     "output_type": "display_data"
    },
    {
     "data": {
      "text/plain": [
       "2022/03/20 00:07:21:520 [DEBUG] Starting execution using KRPC.Service;\n",
       "using KRPC.Service.Attributes;\n",
       "using KRPC.SpaceCenter.ExtensionMethods;\n",
       "using KRPC.SpaceCenter.ExternalAPI;\n",
       "using KRPC.Utils;\n",
       "using UnityEngine;\n"
      ]
     },
     "metadata": {},
     "output_type": "display_data"
    },
    {
     "data": {
      "text/plain": [
       "2022/03/20 00:07:21:527 [DEBUG] Finished execution"
      ]
     },
     "metadata": {},
     "output_type": "display_data"
    },
    {
     "data": {
      "text/plain": [
       "(6,1): warning CS0105: The using directive for `UnityEngine' appeared previously in this namespace\n"
      ]
     },
     "metadata": {},
     "output_type": "display_data"
    }
   ],
   "source": [
    "using KRPC.Service;\n",
    "using KRPC.Service.Attributes;\n",
    "using KRPC.SpaceCenter.ExtensionMethods;\n",
    "using KRPC.SpaceCenter.ExternalAPI;\n",
    "using KRPC.Utils;\n",
    "using UnityEngine;\n"
   ]
  },
  {
   "cell_type": "code",
   "execution_count": 122,
   "id": "dac59fbf",
   "metadata": {},
   "outputs": [
    {
     "data": {
      "text/plain": [
       "2021/12/27 00:44:58:470 [DEBUG] Reusing existing session"
      ]
     },
     "metadata": {},
     "output_type": "display_data"
    },
    {
     "data": {
      "text/plain": []
     },
     "metadata": {},
     "output_type": "display_data"
    },
    {
     "data": {
      "text/plain": [
       "2021/12/27 00:44:58:471 [DEBUG] Starting execution var pos = new Vector3d(0.0, 610000.0, 0.0);\n",
       "var worldPos= earth.ReferenceFrame.PositionToWorldSpace(pos);\n",
       "var vel = new Vector3d(0, 0, 10);\n",
       "var worldVel = earth.ReferenceFrame.VelocityToWorldSpace(pos, vel);\n",
       "Console.WriteLine(worldVel);\n",
       "Console.WriteLine(worldPos);\n",
       "Console.WriteLine(earth.InternalBody.position);\n",
       "var relativeWorldVelocity = worldVel - earth.InternalBody.getRFrmVel(worldPos);\n",
       "Console.WriteLine(relativeWorldVelocity);\n",
       "var krpcV = KRPC.SpaceCenter.Services.SpaceCenter.ActiveVessel;\n",
       "var f = krpcV.Flight(earth.ReferenceFrame);\n",
       "\n",
       "Console.WriteLine(f.SimulateAerodynamicForceAt(earth, pos.ToTuple(), vel.ToTuple()).ToVector());\n",
       "//Console.WriteLine(StockAerodynamics.SimAeroForce(earth.InternalBody, active, relativeWorldVelocity, worldPos));"
      ]
     },
     "metadata": {},
     "output_type": "display_data"
    },
    {
     "data": {
      "text/plain": [
       "[-8.59143302774613, 0, 5.11735073350977]"
      ]
     },
     "metadata": {},
     "output_type": "display_data"
    },
    {
     "data": {
      "text/plain": [
       "[-1559439.47304227, 1532748.65113719, 1172422.64499684]"
      ]
     },
     "metadata": {},
     "output_type": "display_data"
    },
    {
     "data": {
      "text/plain": [
       "[-1559439.47304227, 922748.651137188, 1172422.64499684]"
      ]
     },
     "metadata": {},
     "output_type": "display_data"
    },
    {
     "data": {
      "text/plain": [
       "[-8.59143302774613, 0, 5.11735073350977]"
      ]
     },
     "metadata": {},
     "output_type": "display_data"
    },
    {
     "data": {
      "text/plain": [
       "[-54.9112225073325, -0.234040126204491, -278.986590460259]"
      ]
     },
     "metadata": {},
     "output_type": "display_data"
    },
    {
     "data": {
      "text/plain": [
       "2021/12/27 00:44:58:490 [DEBUG] Finished execution"
      ]
     },
     "metadata": {},
     "output_type": "display_data"
    },
    {
     "data": {
      "text/plain": []
     },
     "metadata": {},
     "output_type": "display_data"
    }
   ],
   "source": [
    "var pos = new Vector3d(0.0, 610000.0, 0.0);\n",
    "var worldPos= earth.ReferenceFrame.PositionToWorldSpace(pos);\n",
    "var vel = new Vector3d(0, 0, 10);\n",
    "var worldVel = earth.ReferenceFrame.VelocityToWorldSpace(pos, vel);\n",
    "Console.WriteLine(worldVel);\n",
    "Console.WriteLine(worldPos);\n",
    "Console.WriteLine(earth.InternalBody.position);\n",
    "var relativeWorldVelocity = worldVel - earth.InternalBody.getRFrmVel(worldPos);\n",
    "Console.WriteLine(relativeWorldVelocity);\n",
    "var krpcV = KRPC.SpaceCenter.Services.SpaceCenter.ActiveVessel;\n",
    "var f = krpcV.Flight(earth.ReferenceFrame);\n",
    "\n",
    "Console.WriteLine(f.SimulateAerodynamicForceAt(earth, pos.ToTuple(), vel.ToTuple()).ToVector());\n",
    "//Console.WriteLine(StockAerodynamics.SimAeroForce(earth.InternalBody, active, relativeWorldVelocity, worldPos));"
   ]
  },
  {
   "cell_type": "code",
   "execution_count": null,
   "id": "e574a1b8",
   "metadata": {},
   "outputs": [],
   "source": [
    "    var active = FlightGlobals.fetch.activeVessel;\n",
    "foreach(var part in active.parts) if (part.rb!=null) {\n",
    "part.rb.angularVelocity = new Vector3(0,0,0);\n",
    "part.rb.velocity = Vector3.zero;\n",
    "}\n",
    "//var vb = active.GetComponent<Rigidbody>();\n",
    "//vb.angularVelocity = Vector3.zero;\n",
    "//vb.angularDrag = 0f;\n",
    "//\n",
    "//active.angularMomentum = Vector3.zero;\n",
    "//active.angularVelocity = Vector3.zero;\n",
    "//active.angularVelocityD = Vector3d.zero;\n",
    "//active.MOI = Vector3.zero;\n",
    "//active.ChangeWorldVelocity(new Vector3d(100, 0, 0));\n",
    "////\n",
    "//"
   ]
  },
  {
   "cell_type": "code",
   "execution_count": 123,
   "id": "9a2d393c",
   "metadata": {},
   "outputs": [
    {
     "data": {
      "text/plain": [
       "2021/12/27 00:50:32:026 [DEBUG] Reusing existing session"
      ]
     },
     "metadata": {},
     "output_type": "display_data"
    },
    {
     "data": {
      "text/plain": []
     },
     "metadata": {},
     "output_type": "display_data"
    },
    {
     "data": {
      "text/plain": [
       "2021/12/27 00:50:32:027 [DEBUG] Starting execution string launchSite = \"VAB\";\n",
       "    //FlightDriver.RevertToLaunch();\n",
       "    //FlightDriver.RevertToPrelaunch(EditorFacility.VAB);\n",
       "    FlightDriver.ReturnToEditor(EditorFacility.VAB);\n",
       "//EditorLogic.LoadShipFromFile(\"./Ships/VAB/SpaceX Falcon Heavy.craft\");"
      ]
     },
     "metadata": {},
     "output_type": "display_data"
    },
    {
     "data": {
      "text/plain": [
       "2021/12/27 00:50:32:167 [DEBUG] Finished execution"
      ]
     },
     "metadata": {},
     "output_type": "display_data"
    },
    {
     "data": {
      "text/plain": []
     },
     "metadata": {},
     "output_type": "display_data"
    }
   ],
   "source": [
    "string launchSite = \"VAB\";\n",
    "    //FlightDriver.RevertToLaunch();\n",
    "    //FlightDriver.RevertToPrelaunch(EditorFacility.VAB);\n",
    "    FlightDriver.ReturnToEditor(EditorFacility.VAB);\n",
    "//EditorLogic.LoadShipFromFile(\"./Ships/VAB/SpaceX Falcon Heavy.craft\");"
   ]
  },
  {
   "cell_type": "code",
   "execution_count": null,
   "id": "d0bcc408",
   "metadata": {},
   "outputs": [],
   "source": [
    "EditorLogic.LoadShipFromFile(\"./Ships/VAB/SpaceX Falcon 9 Block 5.craft\");"
   ]
  },
  {
   "cell_type": "code",
   "execution_count": null,
   "id": "f06f24ec",
   "metadata": {},
   "outputs": [],
   "source": [
    "EditorLogic.fetch.launchVessel(launchSite);"
   ]
  },
  {
   "cell_type": "code",
   "execution_count": null,
   "id": "48bdca07",
   "metadata": {},
   "outputs": [],
   "source": [
    "               Vector3 gpsPos = WorldPositionToGeoCoords(worldPos, FlightGlobals.currentMainBody);\n"
   ]
  },
  {
   "cell_type": "code",
   "execution_count": null,
   "id": "4699f07e",
   "metadata": {},
   "outputs": [],
   "source": [
    "    //FlightDriver.SetPause(false);\n",
    "//Console.WriteLine(path);"
   ]
  },
  {
   "cell_type": "code",
   "execution_count": null,
   "id": "fc43f47c",
   "metadata": {},
   "outputs": [],
   "source": [
    "FlightDriver.RevertToLaunch()\n",
    "FlightGlobals.fetch.Start()"
   ]
  },
  {
   "cell_type": "code",
   "execution_count": null,
   "id": "b63a7b96",
   "metadata": {},
   "outputs": [],
   "source": [
    "var active = FlightGlobals.fetch.activeVessel;\n",
    "\n",
    "Console.WriteLine(active.GetWorldPos3D());\n",
    "Console.WriteLine(FlightGlobals.currentMainBody.position);\n",
    "Console.WriteLine(FlightGlobals.currentMainBody.getTruePositionAtUT(Planetarium.GetUniversalTime()));\n",
    "Console.WriteLine(Planetarium.GetUniversalTime());\n",
    "Console.WriteLine(Planetarium.FrameIsRotating());\n",
    "Console.WriteLine(Planetarium.fetch.Sun.position);\n",
    "Console.WriteLine(JsonConvert.SerializeObject(KRPC.SpaceCenter.Services.SpaceCenter.Bodies.Keys));\n"
   ]
  },
  {
   "cell_type": "code",
   "execution_count": null,
   "id": "2e003911",
   "metadata": {},
   "outputs": [],
   "source": [
    "string launchSite = \"VAB\";\n",
    "    //FlightDriver.RevertToLaunch();\n",
    "    //FlightDriver.RevertToPrelaunch(EditorFacility.VAB);\n",
    "    //FlightDriver.ReturnToEditor(EditorFacility.VAB);\n",
    "//EditorLogic.LoadShipFromFile(\"./Ships/VAB/SpaceX Falcon Heavy.craft\");\n",
    "\n",
    "EditorLogic.fetch.launchVessel(launchSite);"
   ]
  },
  {
   "cell_type": "code",
   "execution_count": null,
   "id": "6557c701",
   "metadata": {},
   "outputs": [],
   "source": []
  },
  {
   "cell_type": "code",
   "execution_count": null,
   "id": "9c6807c2",
   "metadata": {},
   "outputs": [],
   "source": [
    "Console.WriteLine(active.mainBody.GetWorldSurfacePosition(active.latitude, active.longitude, active.altitude));"
   ]
  },
  {
   "cell_type": "code",
   "execution_count": null,
   "id": "b876f651",
   "metadata": {},
   "outputs": [],
   "source": [
    "\n",
    "var active = FlightGlobals.fetch.activeVessel;\n",
    "var vec = active.GetWorldPos3D() - FlightGlobals.currentMainBody.position;\n",
    "active.SetPosition(active.GetWorldPos3D() - vec.normalized*2000000, true);\n"
   ]
  },
  {
   "cell_type": "code",
   "execution_count": null,
   "id": "19d00379",
   "metadata": {},
   "outputs": [],
   "source": [
    "Console.WriteLine(active.angularMomentum);\n",
    "Console.WriteLine(active.GetComponent<Rigidbody>().angularDrag);"
   ]
  },
  {
   "cell_type": "code",
   "execution_count": null,
   "id": "9669d46f",
   "metadata": {},
   "outputs": [],
   "source": [
    "\n",
    "var mun = KRPC.SpaceCenter.Services.SpaceCenter.Bodies[\"Mun\"];\n",
    "var earth = KRPC.SpaceCenter.Services.SpaceCenter.Bodies[\"Kerbin\"];\n",
    "Console.WriteLine(mun.Position(earth.ReferenceFrame));"
   ]
  },
  {
   "cell_type": "code",
   "execution_count": null,
   "id": "8891f78a",
   "metadata": {},
   "outputs": [],
   "source": [
    "var cur =active.GetTransform().eulerAngles;\n",
    "cur.x += 10;\n",
    "active.SetRotation(Quaternion.Euler(cur));\n",
    "//Console.WriteLine(active.srfRelRotation.eulerAngles);"
   ]
  },
  {
   "cell_type": "code",
   "execution_count": null,
   "id": "cb3faaf8",
   "metadata": {},
   "outputs": [],
   "source": [
    "Console.WriteLine(FlightGlobals.Vessels.Count);\n",
    "Console.WriteLine(FlightGlobals.fetch.activeVessel==null);\n",
    "\n",
    "//Console.WriteLine(ShipConstruction.FindVesselsAtLaunchSite(HighLogic.CurrentGame.flightState, launchSite).Count);"
   ]
  },
  {
   "cell_type": "code",
   "execution_count": null,
   "id": "cb79d3a4",
   "metadata": {},
   "outputs": [],
   "source": [
    "foreach (var vessel in FlightGlobals.Vessels)\n",
    "    ShipConstruction.RecoverVesselFromFlight(vessel.protoVessel, HighLogic.CurrentGame.flightState, true);"
   ]
  },
  {
   "cell_type": "code",
   "execution_count": null,
   "id": "84eb8690",
   "metadata": {},
   "outputs": [],
   "source": [
    "Console.WriteLine(FlightGlobals.ActiveVessel.GetWorldPos3D())"
   ]
  },
  {
   "cell_type": "code",
   "execution_count": null,
   "id": "14edf4b3",
   "metadata": {},
   "outputs": [],
   "source": [
    "\n",
    "Console.WriteLine(FlightGlobals.ActiveVessel.GetWorldPos3D())"
   ]
  },
  {
   "cell_type": "code",
   "execution_count": null,
   "id": "6a61f35f",
   "metadata": {},
   "outputs": [],
   "source": [
    "var craftUrl = \"./Ships/VAB/SpaceX Falcon Heavy.craft\";\n",
    "var p =FlightGlobals.ActiveVessel.GetWorldPos3D();\n",
    "p.z += 35;\n",
    "VesselMover.VesselSpawn.instance.SpawnVesselFromCraftFile(craftUrl, p, 0, 0 )"
   ]
  },
  {
   "cell_type": "code",
   "execution_count": null,
   "id": "0cb6034f",
   "metadata": {},
   "outputs": [],
   "source": [
    "var p =FlightGlobals.ActiveVessel.GetWorldPos3D();\n",
    "var gpsPos = VesselMover.VesselSpawn.WorldPositionToGeoCoords(p, FlightGlobals.currentMainBody);\n",
    "gpsPos.z += 35;\n",
    "VesselMover.VesselSpawn.instance.SpawnVesselFromCraftFile(craftUrl, gpsPos, 0, 0 );"
   ]
  },
  {
   "cell_type": "code",
   "execution_count": null,
   "id": "cba29025",
   "metadata": {},
   "outputs": [],
   "source": [
    "VesselMover.VesselSpawn.instance.SpawnCraftRoutine(craftUrl)"
   ]
  },
  {
   "cell_type": "code",
   "execution_count": null,
   "id": "00617aad",
   "metadata": {},
   "outputs": [],
   "source": []
  },
  {
   "cell_type": "code",
   "execution_count": null,
   "id": "7a257cb3",
   "metadata": {},
   "outputs": [],
   "source": [
    "string launchSite=\"VAB\";\n",
    "var vesselsToRecover = ShipConstruction.FindVesselsLandedAt(HighLogic.CurrentGame.flightState, launchSite);\n",
    "\n",
    "    foreach (var vessel in vesselsToRecover)\n",
    "        ShipConstruction.RecoverVesselFromFlight(vessel, HighLogic.CurrentGame.flightState, true);\n"
   ]
  },
  {
   "cell_type": "code",
   "execution_count": null,
   "id": "f2ae6a7a",
   "metadata": {},
   "outputs": [],
   "source": []
  },
  {
   "cell_type": "code",
   "execution_count": null,
   "id": "a3e9c208",
   "metadata": {},
   "outputs": [],
   "source": [
    "FlightGlobals.fetch.SetVesselTarget (null, true);\n"
   ]
  },
  {
   "cell_type": "code",
   "execution_count": null,
   "id": "7d0284cf",
   "metadata": {},
   "outputs": [],
   "source": [
    "KRPC.SpaceCenter.Services.SpaceCenter.ClearTarget()"
   ]
  },
  {
   "cell_type": "code",
   "execution_count": null,
   "id": "2748e019",
   "metadata": {},
   "outputs": [],
   "source": [
    "\n",
    "KRPC.SpaceCenter.Services.SpaceCenter.LaunchVesselFromVAB(\"SpaceX Falcon 9 Block 5\", true)"
   ]
  },
  {
   "cell_type": "code",
   "execution_count": null,
   "id": "ef7155c2",
   "metadata": {},
   "outputs": [],
   "source": [
    "\n",
    "FlightDriver.RevertToLaunch();"
   ]
  },
  {
   "cell_type": "code",
   "execution_count": null,
   "id": "8627d07c",
   "metadata": {},
   "outputs": [],
   "source": [
    "KRPC.Kernel.Instance.Push(() => {\n",
    "    TimeWarp.fetch.physicsWarpRates[0] = 0.5f;\n",
    "});"
   ]
  },
  {
   "cell_type": "code",
   "execution_count": null,
   "id": "04d2f7c9",
   "metadata": {},
   "outputs": [],
   "source": [
    "Console.WriteLine(y);"
   ]
  },
  {
   "cell_type": "code",
   "execution_count": null,
   "id": "e096bc9d",
   "metadata": {},
   "outputs": [],
   "source": [
    "x.Push()"
   ]
  },
  {
   "cell_type": "code",
   "execution_count": null,
   "id": "ab42bc69",
   "metadata": {},
   "outputs": [],
   "source": [
    "Console.WriteLine(JsonConvert.SerializeObject(KRPC.Kernel.Instance.UpdateCount));\n",
    "Console.WriteLine(JsonConvert.SerializeObject(KRPC.Addon.Instance.UpdateCount));\n"
   ]
  },
  {
   "cell_type": "code",
   "execution_count": null,
   "id": "94c07fbc",
   "metadata": {},
   "outputs": [],
   "source": [
    "Console.WriteLine(JsonConvert.SerializeObject(TimeWarp.fetch.Mode))"
   ]
  },
  {
   "cell_type": "code",
   "execution_count": null,
   "id": "bc9718a2",
   "metadata": {},
   "outputs": [],
   "source": [
    "\n",
    "Console.WriteLine(JsonConvert.SerializeObject(TimeWarp.CurrentRateIndex))"
   ]
  },
  {
   "cell_type": "code",
   "execution_count": null,
   "id": "14ec6fb8",
   "metadata": {},
   "outputs": [],
   "source": [
    "_env.Debug = true;"
   ]
  },
  {
   "cell_type": "code",
   "execution_count": null,
   "id": "82b17f3d",
   "metadata": {},
   "outputs": [],
   "source": [
    "try {\n",
    "Console.WriteLine(\"A BC\");\n",
    "//throw new Exception(\"123\");\n",
    "\n",
    "}catch(Exception e){\n",
    "Console.WriteLine($\"GOT >> {e.Message}\");\n",
    "}"
   ]
  },
  {
   "cell_type": "code",
   "execution_count": null,
   "id": "9a12874e",
   "metadata": {},
   "outputs": [],
   "source": [
    "public class Test3 {\n",
    "    public int f1(){\n",
    "        return 5;\n",
    "    }\n",
    "\n",
    "    \n",
    "}"
   ]
  },
  {
   "cell_type": "code",
   "execution_count": null,
   "id": "f8a28b7c",
   "metadata": {},
   "outputs": [],
   "source": [
    "Console.WriteLine(new Test3().f1());"
   ]
  },
  {
   "cell_type": "code",
   "execution_count": null,
   "id": "4185f83c",
   "metadata": {},
   "outputs": [],
   "source": [
    "var ass = Assembly.LoadFile(\"/home/benoit/.local/share/Steam/steamapps/common/Kerbal Space Program/KSP_Data/Managed/Assembly-CSharp.dll\")"
   ]
  },
  {
   "cell_type": "code",
   "execution_count": null,
   "id": "70050b15",
   "metadata": {},
   "outputs": [],
   "source": [
    "foreach(var x in ass.GetTypes().Select(y=>y.FullName))\n",
    "Console.WriteLine(x);"
   ]
  }
 ],
 "metadata": {
  "kernelspec": {
   "display_name": "kernel_krpc",
   "name": "kernel_krpc"
  },
  "language_info": {
   "file_extension": ".cs",
   "mimetype": "text/x-csharp",
   "name": "C#",
   "pygments_lexer": "c#",
   "version": "4.0.30319"
  }
 },
 "nbformat": 4,
 "nbformat_minor": 5
}
